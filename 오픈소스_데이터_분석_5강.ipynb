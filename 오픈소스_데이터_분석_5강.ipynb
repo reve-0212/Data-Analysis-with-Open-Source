{
  "nbformat": 4,
  "nbformat_minor": 0,
  "metadata": {
    "colab": {
      "provenance": [],
      "include_colab_link": true
    },
    "kernelspec": {
      "name": "python3",
      "display_name": "Python 3"
    },
    "language_info": {
      "name": "python"
    }
  },
  "cells": [
    {
      "cell_type": "markdown",
      "metadata": {
        "id": "view-in-github",
        "colab_type": "text"
      },
      "source": [
        "<a href=\"https://colab.research.google.com/github/reve-0212/Data-Analysis-with-Open-Source/blob/main/%EC%98%A4%ED%94%88%EC%86%8C%EC%8A%A4_%EB%8D%B0%EC%9D%B4%ED%84%B0_%EB%B6%84%EC%84%9D_5%EA%B0%95.ipynb\" target=\"_parent\"><img src=\"https://colab.research.google.com/assets/colab-badge.svg\" alt=\"Open In Colab\"/></a>"
      ]
    },
    {
      "cell_type": "markdown",
      "source": [
        "# 오픈소스 기반 데이터 분석 5강 - 데이터 저장"
      ],
      "metadata": {
        "id": "O4kC4JMknVnK"
      }
    },
    {
      "cell_type": "markdown",
      "source": [
        "## 5-1 CSV 형식 저장"
      ],
      "metadata": {
        "id": "8DfV0cZLqj_s"
      }
    },
    {
      "cell_type": "code",
      "source": [
        "import pandas as pd\n",
        "\n",
        "data = {\n",
        "    'student_id': [101, 102, 103, 104, 105],\n",
        "    'database_score': [85, 76, 92, 63, 88],\n",
        "    'cloudcomputing_score': [78, 82, 95, 70, 84],\n",
        "    'python_score': [92, 78, 85, 75, 91],\n",
        "    'watch_rate': [0.95, 0.87, 0.99, 0.80, 0.93]\n",
        "}\n",
        "## DataFrame 생성\n",
        "df = pd.DataFrame(data)\n",
        "\n",
        "## CSV 형식 저장\n",
        "df.to_csv('student_analysis.csv', encoding='utf-8', index=False)\n"
      ],
      "metadata": {
        "id": "DztLRI9gW2lk"
      },
      "execution_count": null,
      "outputs": []
    },
    {
      "cell_type": "markdown",
      "source": [
        "## 5-2 JSON 형식 저장"
      ],
      "metadata": {
        "id": "CSABzaf3q8XU"
      }
    },
    {
      "cell_type": "code",
      "source": [
        "### 라이브러리 임포트\n",
        "import json\n",
        "import pandas as pd\n",
        "\n",
        "data = {\n",
        "    \"이름\": \"홍길동\",\n",
        "    \"나이\": 25,\n",
        "    \"거주지\": \"서울\",\n",
        "    \"관심사\": [\"프로그래밍\", \"데이터 분석\", \"여행\"]\n",
        "}\n",
        "\n",
        "## json.dump를 이용한 저장\n",
        "with open ('output.json', 'w', encoding='utf-8') as f:\n",
        "  json.dump(data, f, indent = 4, ensure_ascii=False)\n",
        "\n",
        "## DataFrame을 이용한 저장\n",
        "df = pd.DataFrame([data])\n",
        "df.to_json('output.json', orient='records', indent=4, force_ascii=False)\n"
      ],
      "metadata": {
        "id": "7bAgRpizW7Vj"
      },
      "execution_count": null,
      "outputs": []
    },
    {
      "cell_type": "markdown",
      "source": [
        "## 5-3 Pandas Dataframe 데이터 추출"
      ],
      "metadata": {
        "id": "NMlsQDHtrA_x"
      }
    },
    {
      "cell_type": "code",
      "source": [
        "import pandas as pd\n",
        "\n",
        "data = {\n",
        "    \"이름\": [\"김철수\", \"이영희\", \"박민수\", \"최지훈\", \"정소희\"],\n",
        "    \"학년\": [1, 2, 3, 4, 2],\n",
        "    \"학점\": [4.2, 3.8, 4.5, 3.9, 3.5],\n",
        "    \"학과\": [\"컴퓨터학\", \"경영학\", \"농학\", \"교육학\", \"영어영문학\"],\n",
        "    \"동아리\": [\"프로그래밍\", \"독서토론\", \"로봇공학\", \"봉사활동\", \"음악감상\"]\n",
        "}\n",
        "df = pd.DataFrame([data])\n",
        "\n",
        "## DataFrame 인덱스 출력\n",
        "print(f'index: {df.index}')\n",
        "\n",
        "## DataFrame 컬럼 출력\n",
        "print(f'columns : {df.columns}')\n",
        "\n",
        "## DataFrame 행 출력\n",
        "print(f'values : {df.values.flatten()}')\n",
        "\n",
        "## DataFrame 값 출력\n",
        "print(f'rows : {df.values.tolist()}')\n"
      ],
      "metadata": {
        "id": "dk3xneVAW9_g",
        "outputId": "6a0776f5-d58d-4a8f-c4df-88c48ee04bc4",
        "colab": {
          "base_uri": "https://localhost:8080/"
        }
      },
      "execution_count": null,
      "outputs": [
        {
          "output_type": "stream",
          "name": "stdout",
          "text": [
            "index: RangeIndex(start=0, stop=1, step=1)\n",
            "columns : Index(['이름', '학년', '학점', '학과', '동아리'], dtype='object')\n",
            "values : [list(['김철수', '이영희', '박민수', '최지훈', '정소희']) list([1, 2, 3, 4, 2])\n",
            " list([4.2, 3.8, 4.5, 3.9, 3.5])\n",
            " list(['컴퓨터학', '경영학', '농학', '교육학', '영어영문학'])\n",
            " list(['프로그래밍', '독서토론', '로봇공학', '봉사활동', '음악감상'])]\n",
            "rows : [[['김철수', '이영희', '박민수', '최지훈', '정소희'], [1, 2, 3, 4, 2], [4.2, 3.8, 4.5, 3.9, 3.5], ['컴퓨터학', '경영학', '농학', '교육학', '영어영문학'], ['프로그래밍', '독서토론', '로봇공학', '봉사활동', '음악감상']]]\n",
            "[[list(['김철수', '이영희', '박민수', '최지훈', '정소희']) list([1, 2, 3, 4, 2])\n",
            "  list([4.2, 3.8, 4.5, 3.9, 3.5])\n",
            "  list(['컴퓨터학', '경영학', '농학', '교육학', '영어영문학'])\n",
            "  list(['프로그래밍', '독서토론', '로봇공학', '봉사활동', '음악감상'])]]\n"
          ]
        }
      ]
    },
    {
      "cell_type": "markdown",
      "source": [
        "## 5-4 DataFrame 생성 방법"
      ],
      "metadata": {
        "id": "ILJd1GLoseqm"
      }
    },
    {
      "cell_type": "code",
      "source": [
        "import pandas as pd\n",
        "import json\n",
        "\n",
        "data = {\n",
        "    \"이름\": [\"김철수\", \"이영희\", \"박민수\", \"최지훈\", \"정소희\"],\n",
        "    \"학년\": [1, 2, 3, 4, 2],\n",
        "    \"학점\": [4.2, 3.8, 4.5, 3.9, 3.5],\n",
        "    \"학과\": [\"컴퓨터공학\", \"경영학\", \"전자공학\", \"의학\", \"심리학\"],\n",
        "    \"동아리\": [\"프로그래밍\", \"독서토론\", \"로봇공학\", \"봉사활동\", \"음악감상\"]\n",
        "}\n",
        "\n",
        "## 딕셔너리, csv, json으로 부터 DataFrame 생성\n",
        "df1 = pd.DataFrame.from_dict(data)\n",
        "df2 = pd.read_csv('students.csv', encoding='utf-8')\n",
        "df3 = pd.read_json('students.json')\n",
        "\n",
        "## 세가지 방법 결과 비교\n",
        "print(df1)\n",
        "print(df2)\n",
        "print(df3)\n"
      ],
      "metadata": {
        "id": "ISnPLEgNXAmi",
        "outputId": "cd3856c9-c3ca-4149-ae94-eaddfb3e2c0a",
        "colab": {
          "base_uri": "https://localhost:8080/"
        }
      },
      "execution_count": null,
      "outputs": [
        {
          "output_type": "stream",
          "name": "stdout",
          "text": [
            "    이름  학년   학점     학과    동아리\n",
            "0  김철수   1  4.2  컴퓨터공학  프로그래밍\n",
            "1  이영희   2  3.8    경영학   독서토론\n",
            "2  박민수   3  4.5   전자공학   로봇공학\n",
            "3  최지훈   4  3.9     의학   봉사활동\n",
            "4  정소희   2  3.5    심리학   음악감상\n",
            "    학번   이름  데이터베이스  파이썬  클라우드\n",
            "0  101  김철수      85   78    92\n",
            "1  102  이영희      76   82    78\n",
            "2  103  박지민      92   95    85\n",
            "3  104  최준서      63   70    75\n",
            "4  105  정미나      88   84    91\n",
            "    id name  database  python  cloud\n",
            "0  101  김철수        85      78     92\n",
            "1  102  이영희        76      82     78\n",
            "2  103  박지민        92      95     85\n",
            "3  104  최준서        63      70     75\n",
            "4  105  정미나        88      84     91\n"
          ]
        }
      ]
    },
    {
      "cell_type": "markdown",
      "source": [
        "## 5-5 DataFrame 저장 방법"
      ],
      "metadata": {
        "id": "z1N6lAnwsdyU"
      }
    },
    {
      "cell_type": "code",
      "source": [
        "import pandas as pd\n",
        "\n",
        "data = {\n",
        "    \"이름\": [\"김철수\", \"이영희\", \"박민수\", \"최지훈\", \"정소희\"],\n",
        "    \"학년\": [1, 2, 3, 4, 2],\n",
        "    \"학점\": [4.2, 3.8, 4.5, 3.9, 3.5],\n",
        "    \"학과\": [\"컴퓨터공학\", \"경영학\", \"전자공학\", \"의학\", \"심리학\"],\n",
        "    \"동아리\": [\"프로그래밍\", \"독서토론\", \"로봇공학\", \"봉사활동\", \"음악감상\"]\n",
        "}\n",
        "\n",
        "## Dataframe 생성\n",
        "df1 = pd.DataFrame.from_dict(data, orient = \"index\")\n",
        "print(df1)\n",
        "\n",
        "## CSV, JSON 형식으로 저장\n",
        "df.to_csv('students_scores.csv', encoding='utf-8', index=False)\n",
        "df.to_json('students_scores.json', orient = 'records', indent = 4, force_ascii=False)\n",
        "\n",
        "## HTML 형식으로 저장\n",
        "html_table = df.to_html()\n",
        "\n",
        "## HTML 형식으로 저장\n",
        "with open('students_scores.html', 'w', encoding = 'utf-8') as f :\n",
        "  f.write(html_table)"
      ],
      "metadata": {
        "id": "_dqoWCRoXDrJ",
        "outputId": "c76a6716-e12e-4540-95c9-cc584db4f01d",
        "colab": {
          "base_uri": "https://localhost:8080/"
        }
      },
      "execution_count": null,
      "outputs": [
        {
          "output_type": "stream",
          "name": "stdout",
          "text": [
            "         0     1     2     3     4\n",
            "이름     김철수   이영희   박민수   최지훈   정소희\n",
            "학년       1     2     3     4     2\n",
            "학점     4.2   3.8   4.5   3.9   3.5\n",
            "학과   컴퓨터공학   경영학  전자공학    의학   심리학\n",
            "동아리  프로그래밍  독서토론  로봇공학  봉사활동  음악감상\n"
          ]
        }
      ]
    },
    {
      "cell_type": "markdown",
      "source": [
        "## 5-6 실습 시나리오"
      ],
      "metadata": {
        "id": "ifBFAyulsdJb"
      }
    },
    {
      "cell_type": "markdown",
      "source": [
        "## 데이터 수집"
      ],
      "metadata": {
        "id": "muFj6okKyXy6"
      }
    },
    {
      "cell_type": "code",
      "source": [
        "import requests\n",
        "\n",
        "url = \"http://apis.data.go.kr/B552584/ArpltnInforInqireSvc/getCtprvnRltmMesureDnsty\"\n",
        "api_key = 'E4NOOERXTcGtLZjt3lHVRGGy+hOi1Uyo265PlfuN5JaQiLOqzYWyRriUdYY8ECvRNA1sHe00P7uZI8O18cLUFA=='\n",
        "\n",
        "params = {\n",
        "    'serviceKey': api_key,\n",
        "    'returnType': 'json',\n",
        "    'numOfRows': '100',\n",
        "    'pageNo': '1',\n",
        "    'sidoName': '서울',\n",
        "    'ver': '1.0'\n",
        "}\n",
        "\n",
        "## 데이터 수집\n",
        "response = requests.get(url, params=params)\n",
        "\n",
        "## 호출 성공/실패 출력\n",
        "if response.status_code == 200:\n",
        "    print('데이터 수집 성공')\n",
        "    print(response.json())\n",
        "else:\n",
        "    print(f'데이터 수집 실패 : {response.status_Code}')\n",
        "\n"
      ],
      "metadata": {
        "id": "7yCozmQeXJcO",
        "outputId": "be1a38d6-88b2-4fd8-d824-ab9905a09393",
        "colab": {
          "base_uri": "https://localhost:8080/"
        }
      },
      "execution_count": 1,
      "outputs": [
        {
          "output_type": "stream",
          "name": "stdout",
          "text": [
            "데이터 수집 성공\n",
            "{'response': {'body': {'totalCount': 40, 'items': [{'so2Grade': '1', 'coFlag': None, 'khaiValue': '62', 'so2Value': '0.003', 'coValue': '0.5', 'pm25Flag': None, 'pm10Flag': None, 'o3Grade': '2', 'pm10Value': '34', 'khaiGrade': '2', 'pm25Value': '15', 'sidoName': '서울', 'no2Flag': None, 'no2Grade': '1', 'o3Flag': None, 'pm25Grade': '1', 'so2Flag': None, 'dataTime': '2025-09-09 11:00', 'coGrade': '1', 'no2Value': '0.015', 'stationName': '중구', 'pm10Grade': '1', 'o3Value': '0.044'}, {'so2Grade': '1', 'coFlag': None, 'khaiValue': '58', 'so2Value': '0.003', 'coValue': '0.5', 'pm25Flag': None, 'pm10Flag': None, 'o3Grade': '2', 'pm10Value': '41', 'khaiGrade': '2', 'pm25Value': '19', 'sidoName': '서울', 'no2Flag': None, 'no2Grade': '1', 'o3Flag': None, 'pm25Grade': '2', 'so2Flag': None, 'dataTime': '2025-09-09 11:00', 'coGrade': '1', 'no2Value': '0.017', 'stationName': '한강대로', 'pm10Grade': '2', 'o3Value': '0.039'}, {'so2Grade': '1', 'coFlag': None, 'khaiValue': '63', 'so2Value': '0.003', 'coValue': '0.5', 'pm25Flag': None, 'pm10Flag': None, 'o3Grade': '2', 'pm10Value': '39', 'khaiGrade': '2', 'pm25Value': '17', 'sidoName': '서울', 'no2Flag': None, 'no2Grade': '1', 'o3Flag': None, 'pm25Grade': '1', 'so2Flag': None, 'dataTime': '2025-09-09 11:00', 'coGrade': '1', 'no2Value': '0.018', 'stationName': '종로구', 'pm10Grade': '1', 'o3Value': '0.044'}, {'so2Grade': None, 'coFlag': '통신장애', 'khaiValue': '-', 'so2Value': '-', 'coValue': '-', 'pm25Flag': '통신장애', 'pm10Flag': '통신장애', 'o3Grade': None, 'pm10Value': '-', 'khaiGrade': None, 'pm25Value': '-', 'sidoName': '서울', 'no2Flag': '통신장애', 'no2Grade': None, 'o3Flag': '통신장애', 'pm25Grade': None, 'so2Flag': '통신장애', 'dataTime': '2025-09-09 11:00', 'coGrade': None, 'no2Value': '-', 'stationName': '청계천로', 'pm10Grade': None, 'o3Value': '-'}, {'so2Grade': '1', 'coFlag': None, 'khaiValue': '55', 'so2Value': '0.003', 'coValue': '0.5', 'pm25Flag': None, 'pm10Flag': None, 'o3Grade': '2', 'pm10Value': '32', 'khaiGrade': '2', 'pm25Value': '10', 'sidoName': '서울', 'no2Flag': None, 'no2Grade': '1', 'o3Flag': None, 'pm25Grade': '1', 'so2Flag': None, 'dataTime': '2025-09-09 11:00', 'coGrade': '1', 'no2Value': '0.016', 'stationName': '종로', 'pm10Grade': '1', 'o3Value': '0.035'}, {'so2Grade': '1', 'coFlag': None, 'khaiValue': '58', 'so2Value': '0.003', 'coValue': '0.5', 'pm25Flag': None, 'pm10Flag': None, 'o3Grade': '2', 'pm10Value': '40', 'khaiGrade': '2', 'pm25Value': '21', 'sidoName': '서울', 'no2Flag': None, 'no2Grade': '1', 'o3Flag': None, 'pm25Grade': '1', 'so2Flag': None, 'dataTime': '2025-09-09 11:00', 'coGrade': '1', 'no2Value': '0.016', 'stationName': '용산구', 'pm10Grade': '2', 'o3Value': '0.039'}, {'so2Grade': '1', 'coFlag': None, 'khaiValue': '54', 'so2Value': '0.003', 'coValue': '0.5', 'pm25Flag': '통신장애', 'pm10Flag': '통신장애', 'o3Grade': '1', 'pm10Value': '-', 'khaiGrade': '2', 'pm25Value': '-', 'sidoName': '서울', 'no2Flag': None, 'no2Grade': '1', 'o3Flag': None, 'pm25Grade': '1', 'so2Flag': None, 'dataTime': '2025-09-09 11:00', 'coGrade': '1', 'no2Value': '0.019', 'stationName': '광진구', 'pm10Grade': '2', 'o3Value': '0.030'}, {'so2Grade': '1', 'coFlag': None, 'khaiValue': '51', 'so2Value': '0.003', 'coValue': '0.4', 'pm25Flag': None, 'pm10Flag': None, 'o3Grade': '2', 'pm10Value': '35', 'khaiGrade': '2', 'pm25Value': '16', 'sidoName': '서울', 'no2Flag': None, 'no2Grade': '1', 'o3Flag': None, 'pm25Grade': '1', 'so2Flag': None, 'dataTime': '2025-09-09 11:00', 'coGrade': '1', 'no2Value': '0.023', 'stationName': '성동구', 'pm10Grade': '1', 'o3Value': '0.030'}, {'so2Grade': '1', 'coFlag': None, 'khaiValue': '54', 'so2Value': '0.003', 'coValue': '0.4', 'pm25Flag': None, 'pm10Flag': None, 'o3Grade': '1', 'pm10Value': '31', 'khaiGrade': '2', 'pm25Value': '14', 'sidoName': '서울', 'no2Flag': None, 'no2Grade': '2', 'o3Flag': None, 'pm25Grade': '1', 'so2Flag': None, 'dataTime': '2025-09-09 11:00', 'coGrade': '1', 'no2Value': '0.032', 'stationName': '강변북로', 'pm10Grade': '2', 'o3Value': '0.012'}, {'so2Grade': '1', 'coFlag': None, 'khaiValue': '57', 'so2Value': '0.003', 'coValue': '0.4', 'pm25Flag': None, 'pm10Flag': None, 'o3Grade': '2', 'pm10Value': '33', 'khaiGrade': '2', 'pm25Value': '12', 'sidoName': '서울', 'no2Flag': None, 'no2Grade': '1', 'o3Flag': None, 'pm25Grade': '1', 'so2Flag': None, 'dataTime': '2025-09-09 11:00', 'coGrade': '1', 'no2Value': '0.016', 'stationName': '중랑구', 'pm10Grade': '1', 'o3Value': '0.038'}, {'so2Grade': '1', 'coFlag': None, 'khaiValue': '58', 'so2Value': '0.003', 'coValue': '0.4', 'pm25Flag': None, 'pm10Flag': None, 'o3Grade': '2', 'pm10Value': '37', 'khaiGrade': '2', 'pm25Value': '15', 'sidoName': '서울', 'no2Flag': None, 'no2Grade': '1', 'o3Flag': None, 'pm25Grade': '1', 'so2Flag': None, 'dataTime': '2025-09-09 11:00', 'coGrade': '1', 'no2Value': '0.018', 'stationName': '동대문구', 'pm10Grade': '2', 'o3Value': '0.039'}, {'so2Grade': '1', 'coFlag': None, 'khaiValue': '55', 'so2Value': '0.003', 'coValue': '0.5', 'pm25Flag': None, 'pm10Flag': None, 'o3Grade': '2', 'pm10Value': '39', 'khaiGrade': '2', 'pm25Value': '12', 'sidoName': '서울', 'no2Flag': None, 'no2Grade': '1', 'o3Flag': None, 'pm25Grade': '1', 'so2Flag': None, 'dataTime': '2025-09-09 11:00', 'coGrade': '1', 'no2Value': '0.024', 'stationName': '홍릉로', 'pm10Grade': '2', 'o3Value': '0.030'}, {'so2Grade': '1', 'coFlag': None, 'khaiValue': '58', 'so2Value': '0.003', 'coValue': '0.4', 'pm25Flag': None, 'pm10Flag': None, 'o3Grade': '2', 'pm10Value': '37', 'khaiGrade': '2', 'pm25Value': '15', 'sidoName': '서울', 'no2Flag': None, 'no2Grade': '1', 'o3Flag': None, 'pm25Grade': '1', 'so2Flag': None, 'dataTime': '2025-09-09 11:00', 'coGrade': '1', 'no2Value': '0.012', 'stationName': '성북구', 'pm10Grade': '1', 'o3Value': '0.039'}, {'so2Grade': '1', 'coFlag': None, 'khaiValue': '56', 'so2Value': '0.003', 'coValue': '0.5', 'pm25Flag': None, 'pm10Flag': None, 'o3Grade': '2', 'pm10Value': '43', 'khaiGrade': '2', 'pm25Value': '20', 'sidoName': '서울', 'no2Flag': None, 'no2Grade': '1', 'o3Flag': None, 'pm25Grade': '1', 'so2Flag': None, 'dataTime': '2025-09-09 11:00', 'coGrade': '1', 'no2Value': '0.027', 'stationName': '정릉로', 'pm10Grade': '2', 'o3Value': '0.032'}, {'so2Grade': '1', 'coFlag': None, 'khaiValue': '57', 'so2Value': '0.003', 'coValue': '0.4', 'pm25Flag': None, 'pm10Flag': None, 'o3Grade': '2', 'pm10Value': '39', 'khaiGrade': '2', 'pm25Value': '13', 'sidoName': '서울', 'no2Flag': None, 'no2Grade': '1', 'o3Flag': None, 'pm25Grade': '1', 'so2Flag': None, 'dataTime': '2025-09-09 11:00', 'coGrade': '1', 'no2Value': '0.012', 'stationName': '도봉구', 'pm10Grade': '2', 'o3Value': '0.037'}, {'so2Grade': '1', 'coFlag': None, 'khaiValue': '60', 'so2Value': '0.003', 'coValue': '0.3', 'pm25Flag': None, 'pm10Flag': None, 'o3Grade': '2', 'pm10Value': '30', 'khaiGrade': '2', 'pm25Value': '16', 'sidoName': '서울', 'no2Flag': None, 'no2Grade': '1', 'o3Flag': None, 'pm25Grade': '1', 'so2Flag': None, 'dataTime': '2025-09-09 11:00', 'coGrade': '1', 'no2Value': '0.008', 'stationName': '은평구', 'pm10Grade': '1', 'o3Value': '0.042'}, {'so2Grade': '1', 'coFlag': None, 'khaiValue': '59', 'so2Value': '0.004', 'coValue': '0.5', 'pm25Flag': None, 'pm10Flag': None, 'o3Grade': '2', 'pm10Value': '32', 'khaiGrade': '2', 'pm25Value': '20', 'sidoName': '서울', 'no2Flag': None, 'no2Grade': '1', 'o3Flag': None, 'pm25Grade': '1', 'so2Flag': None, 'dataTime': '2025-09-09 11:00', 'coGrade': '1', 'no2Value': '0.013', 'stationName': '서대문구', 'pm10Grade': '1', 'o3Value': '0.039'}, {'so2Grade': '1', 'coFlag': None, 'khaiValue': '54', 'so2Value': '0.002', 'coValue': '0.4', 'pm25Flag': None, 'pm10Flag': None, 'o3Grade': '2', 'pm10Value': '38', 'khaiGrade': '2', 'pm25Value': '17', 'sidoName': '서울', 'no2Flag': None, 'no2Grade': '1', 'o3Flag': None, 'pm25Grade': '1', 'so2Flag': None, 'dataTime': '2025-09-09 11:00', 'coGrade': '1', 'no2Value': '0.022', 'stationName': '마포구', 'pm10Grade': '2', 'o3Value': '0.033'}, {'so2Grade': None, 'coFlag': '통신장애', 'khaiValue': '-', 'so2Value': '-', 'coValue': '-', 'pm25Flag': '통신장애', 'pm10Flag': '통신장애', 'o3Grade': None, 'pm10Value': '-', 'khaiGrade': None, 'pm25Value': '-', 'sidoName': '서울', 'no2Flag': '통신장애', 'no2Grade': None, 'o3Flag': '통신장애', 'pm25Grade': '2', 'so2Flag': '통신장애', 'dataTime': '2025-09-09 11:00', 'coGrade': None, 'no2Value': '-', 'stationName': '신촌로', 'pm10Grade': '2', 'o3Value': '-'}, {'so2Grade': '1', 'coFlag': None, 'khaiValue': '55', 'so2Value': '0.003', 'coValue': '0.4', 'pm25Flag': None, 'pm10Flag': None, 'o3Grade': '2', 'pm10Value': '33', 'khaiGrade': '2', 'pm25Value': '16', 'sidoName': '서울', 'no2Flag': None, 'no2Grade': '1', 'o3Flag': None, 'pm25Grade': '1', 'so2Flag': None, 'dataTime': '2025-09-09 11:00', 'coGrade': '1', 'no2Value': '0.017', 'stationName': '강서구', 'pm10Grade': '2', 'o3Value': '0.035'}, {'so2Grade': '1', 'coFlag': None, 'khaiValue': '56', 'so2Value': '0.003', 'coValue': '0.4', 'pm25Flag': None, 'pm10Flag': None, 'o3Grade': '2', 'pm10Value': '42', 'khaiGrade': '2', 'pm25Value': '18', 'sidoName': '서울', 'no2Flag': None, 'no2Grade': '1', 'o3Flag': None, 'pm25Grade': '1', 'so2Flag': None, 'dataTime': '2025-09-09 11:00', 'coGrade': '1', 'no2Value': '0.017', 'stationName': '공항대로', 'pm10Grade': '2', 'o3Value': '0.031'}, {'so2Grade': '1', 'coFlag': None, 'khaiValue': '57', 'so2Value': '0.003', 'coValue': '0.4', 'pm25Flag': None, 'pm10Flag': None, 'o3Grade': '2', 'pm10Value': '43', 'khaiGrade': '2', 'pm25Value': '22', 'sidoName': '서울', 'no2Flag': None, 'no2Grade': '1', 'o3Flag': None, 'pm25Grade': '2', 'so2Flag': None, 'dataTime': '2025-09-09 11:00', 'coGrade': '1', 'no2Value': '0.018', 'stationName': '구로구', 'pm10Grade': '2', 'o3Value': '0.038'}, {'so2Grade': '1', 'coFlag': None, 'khaiValue': '54', 'so2Value': '0.003', 'coValue': '0.4', 'pm25Flag': None, 'pm10Flag': None, 'o3Grade': '2', 'pm10Value': '30', 'khaiGrade': '2', 'pm25Value': '22', 'sidoName': '서울', 'no2Flag': None, 'no2Grade': '1', 'o3Flag': None, 'pm25Grade': '2', 'so2Flag': None, 'dataTime': '2025-09-09 11:00', 'coGrade': '1', 'no2Value': '0.024', 'stationName': '영등포구', 'pm10Grade': '1', 'o3Value': '0.034'}, {'so2Grade': '1', 'coFlag': None, 'khaiValue': '55', 'so2Value': '0.003', 'coValue': '0.5', 'pm25Flag': None, 'pm10Flag': None, 'o3Grade': '2', 'pm10Value': '38', 'khaiGrade': '2', 'pm25Value': '14', 'sidoName': '서울', 'no2Flag': None, 'no2Grade': '1', 'o3Flag': None, 'pm25Grade': '1', 'so2Flag': None, 'dataTime': '2025-09-09 11:00', 'coGrade': '1', 'no2Value': '0.030', 'stationName': '영등포로', 'pm10Grade': '2', 'o3Value': '0.030'}, {'so2Grade': '1', 'coFlag': None, 'khaiValue': '59', 'so2Value': '0.003', 'coValue': '0.4', 'pm25Flag': None, 'pm10Flag': None, 'o3Grade': '2', 'pm10Value': '36', 'khaiGrade': '2', 'pm25Value': '17', 'sidoName': '서울', 'no2Flag': None, 'no2Grade': '1', 'o3Flag': None, 'pm25Grade': '2', 'so2Flag': None, 'dataTime': '2025-09-09 11:00', 'coGrade': '1', 'no2Value': '0.019', 'stationName': '동작구', 'pm10Grade': '2', 'o3Value': '0.039'}, {'so2Grade': None, 'coFlag': '통신장애', 'khaiValue': '-', 'so2Value': '-', 'coValue': '-', 'pm25Flag': '통신장애', 'pm10Flag': '통신장애', 'o3Grade': None, 'pm10Value': '-', 'khaiGrade': None, 'pm25Value': '-', 'sidoName': '서울', 'no2Flag': '통신장애', 'no2Grade': None, 'o3Flag': '통신장애', 'pm25Grade': None, 'so2Flag': '통신장애', 'dataTime': '2025-09-09 11:00', 'coGrade': None, 'no2Value': '-', 'stationName': '동작대로 중앙차로', 'pm10Grade': None, 'o3Value': '-'}, {'so2Grade': '1', 'coFlag': None, 'khaiValue': '56', 'so2Value': '0.003', 'coValue': '0.4', 'pm25Flag': None, 'pm10Flag': None, 'o3Grade': '2', 'pm10Value': '34', 'khaiGrade': '2', 'pm25Value': '17', 'sidoName': '서울', 'no2Flag': None, 'no2Grade': '1', 'o3Flag': None, 'pm25Grade': '2', 'so2Flag': None, 'dataTime': '2025-09-09 11:00', 'coGrade': '1', 'no2Value': '0.020', 'stationName': '관악구', 'pm10Grade': '2', 'o3Value': '0.037'}, {'so2Grade': '1', 'coFlag': None, 'khaiValue': '54', 'so2Value': '0.003', 'coValue': '0.5', 'pm25Flag': None, 'pm10Flag': None, 'o3Grade': '1', 'pm10Value': '35', 'khaiGrade': '2', 'pm25Value': '11', 'sidoName': '서울', 'no2Flag': None, 'no2Grade': '1', 'o3Flag': None, 'pm25Grade': '1', 'so2Flag': None, 'dataTime': '2025-09-09 11:00', 'coGrade': '1', 'no2Value': '0.025', 'stationName': '강남구', 'pm10Grade': '2', 'o3Value': '0.025'}, {'so2Grade': '1', 'coFlag': None, 'khaiValue': '53', 'so2Value': '0.003', 'coValue': '0.5', 'pm25Flag': None, 'pm10Flag': None, 'o3Grade': '2', 'pm10Value': '41', 'khaiGrade': '2', 'pm25Value': '15', 'sidoName': '서울', 'no2Flag': None, 'no2Grade': '1', 'o3Flag': None, 'pm25Grade': '2', 'so2Flag': None, 'dataTime': '2025-09-09 11:00', 'coGrade': '1', 'no2Value': '0.020', 'stationName': '서초구', 'pm10Grade': '2', 'o3Value': '0.033'}, {'so2Grade': '1', 'coFlag': None, 'khaiValue': '58', 'so2Value': '0.004', 'coValue': '0.6', 'pm25Flag': None, 'pm10Flag': None, 'o3Grade': '2', 'pm10Value': '45', 'khaiGrade': '2', 'pm25Value': '14', 'sidoName': '서울', 'no2Flag': None, 'no2Grade': '1', 'o3Flag': None, 'pm25Grade': '1', 'so2Flag': None, 'dataTime': '2025-09-09 11:00', 'coGrade': '1', 'no2Value': '0.024', 'stationName': '도산대로', 'pm10Grade': '2', 'o3Value': '0.032'}, {'so2Grade': '1', 'coFlag': None, 'khaiValue': '60', 'so2Value': '0.004', 'coValue': '0.7', 'pm25Flag': None, 'pm10Flag': None, 'o3Grade': '1', 'pm10Value': '46', 'khaiGrade': '2', 'pm25Value': '14', 'sidoName': '서울', 'no2Flag': None, 'no2Grade': '2', 'o3Flag': None, 'pm25Grade': '1', 'so2Flag': None, 'dataTime': '2025-09-09 11:00', 'coGrade': '1', 'no2Value': '0.036', 'stationName': '강남대로', 'pm10Grade': '2', 'o3Value': '0.014'}, {'so2Grade': '1', 'coFlag': None, 'khaiValue': '55', 'so2Value': '0.002', 'coValue': '0.4', 'pm25Flag': None, 'pm10Flag': None, 'o3Grade': '2', 'pm10Value': '31', 'khaiGrade': '2', 'pm25Value': '17', 'sidoName': '서울', 'no2Flag': None, 'no2Grade': '1', 'o3Flag': None, 'pm25Grade': '2', 'so2Flag': None, 'dataTime': '2025-09-09 11:00', 'coGrade': '1', 'no2Value': '0.017', 'stationName': '송파구', 'pm10Grade': '2', 'o3Value': '0.035'}, {'so2Grade': '1', 'coFlag': None, 'khaiValue': '57', 'so2Value': '0.003', 'coValue': '0.7', 'pm25Flag': None, 'pm10Flag': None, 'o3Grade': '1', 'pm10Value': '37', 'khaiGrade': '2', 'pm25Value': '16', 'sidoName': '서울', 'no2Flag': None, 'no2Grade': '1', 'o3Flag': None, 'pm25Grade': '1', 'so2Flag': None, 'dataTime': '2025-09-09 11:00', 'coGrade': '1', 'no2Value': '0.017', 'stationName': '강동구', 'pm10Grade': '2', 'o3Value': '0.029'}, {'so2Grade': '1', 'coFlag': None, 'khaiValue': '52', 'so2Value': '0.003', 'coValue': '0.5', 'pm25Flag': None, 'pm10Flag': None, 'o3Grade': '1', 'pm10Value': '32', 'khaiGrade': '2', 'pm25Value': '3', 'sidoName': '서울', 'no2Flag': None, 'no2Grade': '2', 'o3Flag': None, 'pm25Grade': '1', 'so2Flag': None, 'dataTime': '2025-09-09 11:00', 'coGrade': '1', 'no2Value': '0.031', 'stationName': '천호대로', 'pm10Grade': '2', 'o3Value': '0.021'}, {'so2Grade': '1', 'coFlag': None, 'khaiValue': '64', 'so2Value': '0.003', 'coValue': '0.5', 'pm25Flag': None, 'pm10Flag': None, 'o3Grade': '1', 'pm10Value': '46', 'khaiGrade': '2', 'pm25Value': '25', 'sidoName': '서울', 'no2Flag': None, 'no2Grade': '1', 'o3Flag': None, 'pm25Grade': '2', 'so2Flag': None, 'dataTime': '2025-09-09 11:00', 'coGrade': '1', 'no2Value': '0.024', 'stationName': '금천구', 'pm10Grade': '2', 'o3Value': '0.028'}, {'so2Grade': '1', 'coFlag': None, 'khaiValue': '63', 'so2Value': '0.004', 'coValue': '0.8', 'pm25Flag': None, 'pm10Flag': None, 'o3Grade': '1', 'pm10Value': '43', 'khaiGrade': '2', 'pm25Value': '20', 'sidoName': '서울', 'no2Flag': None, 'no2Grade': '2', 'o3Flag': None, 'pm25Grade': '2', 'so2Flag': None, 'dataTime': '2025-09-09 11:00', 'coGrade': '1', 'no2Value': '0.038', 'stationName': '시흥대로', 'pm10Grade': '2', 'o3Value': '0.008'}, {'so2Grade': '1', 'coFlag': None, 'khaiValue': '55', 'so2Value': '0.003', 'coValue': '0.4', 'pm25Flag': None, 'pm10Flag': None, 'o3Grade': '2', 'pm10Value': '37', 'khaiGrade': '2', 'pm25Value': '19', 'sidoName': '서울', 'no2Flag': None, 'no2Grade': '1', 'o3Flag': None, 'pm25Grade': '1', 'so2Flag': None, 'dataTime': '2025-09-09 11:00', 'coGrade': '1', 'no2Value': '0.011', 'stationName': '강북구', 'pm10Grade': '2', 'o3Value': '0.035'}, {'so2Grade': '1', 'coFlag': None, 'khaiValue': '64', 'so2Value': '0.003', 'coValue': '0.4', 'pm25Flag': None, 'pm10Flag': None, 'o3Grade': '2', 'pm10Value': '35', 'khaiGrade': '2', 'pm25Value': '13', 'sidoName': '서울', 'no2Flag': None, 'no2Grade': '1', 'o3Flag': None, 'pm25Grade': '1', 'so2Flag': None, 'dataTime': '2025-09-09 11:00', 'coGrade': '1', 'no2Value': '0.014', 'stationName': '양천구', 'pm10Grade': '2', 'o3Value': '0.046'}, {'so2Grade': '1', 'coFlag': None, 'khaiValue': '52', 'so2Value': '0.002', 'coValue': '0.5', 'pm25Flag': None, 'pm10Flag': None, 'o3Grade': '2', 'pm10Value': '37', 'khaiGrade': '2', 'pm25Value': '18', 'sidoName': '서울', 'no2Flag': None, 'no2Grade': '1', 'o3Flag': None, 'pm25Grade': '1', 'so2Flag': None, 'dataTime': '2025-09-09 11:00', 'coGrade': '1', 'no2Value': '0.015', 'stationName': '노원구', 'pm10Grade': '2', 'o3Value': '0.032'}, {'so2Grade': '1', 'coFlag': None, 'khaiValue': '58', 'so2Value': '0.002', 'coValue': '0.6', 'pm25Flag': None, 'pm10Flag': None, 'o3Grade': '1', 'pm10Value': '42', 'khaiGrade': '2', 'pm25Value': '19', 'sidoName': '서울', 'no2Flag': None, 'no2Grade': '2', 'o3Flag': None, 'pm25Grade': '2', 'so2Flag': None, 'dataTime': '2025-09-09 11:00', 'coGrade': '1', 'no2Value': '0.035', 'stationName': '화랑로', 'pm10Grade': '2', 'o3Value': '0.026'}], 'pageNo': 1, 'numOfRows': 100}, 'header': {'resultMsg': 'NORMAL_CODE', 'resultCode': '00'}}}\n"
          ]
        }
      ]
    },
    {
      "cell_type": "markdown",
      "source": [
        "## 데이터 프레임 생성"
      ],
      "metadata": {
        "id": "d6mT4IxkySzI"
      }
    },
    {
      "cell_type": "code",
      "source": [
        "import pandas as pd\n",
        "\n",
        "## requests로부터 response, body, item 항목 읽기\n",
        "data = response.json()['response']['body']['items']\n",
        "df = pd.DataFrame(data)\n",
        "print(df.head())\n"
      ],
      "metadata": {
        "id": "HOOo9qTsXLkB",
        "outputId": "e4f48fcd-5adf-4d8f-8221-d80cc8bdc60a",
        "colab": {
          "base_uri": "https://localhost:8080/"
        }
      },
      "execution_count": 2,
      "outputs": [
        {
          "output_type": "stream",
          "name": "stdout",
          "text": [
            "  so2Grade coFlag khaiValue so2Value coValue pm25Flag pm10Flag o3Grade  \\\n",
            "0        1   None        62    0.003     0.5     None     None       2   \n",
            "1        1   None        58    0.003     0.5     None     None       2   \n",
            "2        1   None        63    0.003     0.5     None     None       2   \n",
            "3     None   통신장애         -        -       -     통신장애     통신장애    None   \n",
            "4        1   None        55    0.003     0.5     None     None       2   \n",
            "\n",
            "  pm10Value khaiGrade  ... no2Grade o3Flag pm25Grade so2Flag  \\\n",
            "0        34         2  ...        1   None         1    None   \n",
            "1        41         2  ...        1   None         2    None   \n",
            "2        39         2  ...        1   None         1    None   \n",
            "3         -      None  ...     None   통신장애      None    통신장애   \n",
            "4        32         2  ...        1   None         1    None   \n",
            "\n",
            "           dataTime coGrade no2Value stationName pm10Grade o3Value  \n",
            "0  2025-09-09 11:00       1    0.015          중구         1   0.044  \n",
            "1  2025-09-09 11:00       1    0.017        한강대로         2   0.039  \n",
            "2  2025-09-09 11:00       1    0.018         종로구         1   0.044  \n",
            "3  2025-09-09 11:00    None        -        청계천로      None       -  \n",
            "4  2025-09-09 11:00       1    0.016          종로         1   0.035  \n",
            "\n",
            "[5 rows x 23 columns]\n"
          ]
        }
      ]
    },
    {
      "cell_type": "markdown",
      "source": [
        "## 다양항 형식으로 데이터 저장\n"
      ],
      "metadata": {
        "id": "vVG0HYb0ymeM"
      }
    },
    {
      "cell_type": "code",
      "source": [
        "df.to_csv('air_pollution.csv', index=False, encoding='utf-8')\n",
        "\n",
        "## JSON 형식 데이터 저장\n",
        "df.to_json('air_pollution.json', orient = 'records', force_ascii=False)\n",
        "\n",
        "\n"
      ],
      "metadata": {
        "id": "HW1ZodpgXNhG"
      },
      "execution_count": 5,
      "outputs": []
    }
  ]
}