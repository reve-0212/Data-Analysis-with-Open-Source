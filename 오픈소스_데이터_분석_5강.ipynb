{
  "nbformat": 4,
  "nbformat_minor": 0,
  "metadata": {
    "colab": {
      "provenance": [],
      "toc_visible": true,
      "include_colab_link": true
    },
    "kernelspec": {
      "name": "python3",
      "display_name": "Python 3"
    },
    "language_info": {
      "name": "python"
    }
  },
  "cells": [
    {
      "cell_type": "markdown",
      "metadata": {
        "id": "view-in-github",
        "colab_type": "text"
      },
      "source": [
        "<a href=\"https://colab.research.google.com/github/reve-0212/Data-Analysis-with-Open-Source/blob/main/%EC%98%A4%ED%94%88%EC%86%8C%EC%8A%A4_%EB%8D%B0%EC%9D%B4%ED%84%B0_%EB%B6%84%EC%84%9D_5%EA%B0%95.ipynb\" target=\"_parent\"><img src=\"https://colab.research.google.com/assets/colab-badge.svg\" alt=\"Open In Colab\"/></a>"
      ]
    },
    {
      "cell_type": "markdown",
      "source": [
        "# 오픈소스 기반 데이터 분석 5강 - 데이터 저장"
      ],
      "metadata": {
        "id": "O4kC4JMknVnK"
      }
    },
    {
      "cell_type": "markdown",
      "source": [
        "## 5-1 CSV 형식 저장"
      ],
      "metadata": {
        "id": "8DfV0cZLqj_s"
      }
    },
    {
      "cell_type": "code",
      "source": [
        "import pandas as pd\n",
        "\n",
        "data = {\n",
        "    'student_id': [101, 102, 103, 104, 105],\n",
        "    'database_score': [85, 76, 92, 63, 88],\n",
        "    'cloudcomputing_score': [78, 82, 95, 70, 84],\n",
        "    'python_score': [92, 78, 85, 75, 91],\n",
        "    'watch_rate': [0.95, 0.87, 0.99, 0.80, 0.93]\n",
        "}\n",
        "## DataFrame 생성\n",
        "df = pd.DataFrame(data)\n",
        "\n",
        "## CSV 형식 저장\n",
        "df.to_csv('student_analysis.csv', encoding='utf-8', index=False)\n"
      ],
      "metadata": {
        "id": "DztLRI9gW2lk"
      },
      "execution_count": 1,
      "outputs": []
    },
    {
      "cell_type": "markdown",
      "source": [
        "## 5-2 JSON 형식 저장"
      ],
      "metadata": {
        "id": "CSABzaf3q8XU"
      }
    },
    {
      "cell_type": "code",
      "source": [
        "### 라이브러리 임포트\n",
        "import json\n",
        "import pandas as pd\n",
        "\n",
        "data = {\n",
        "    \"이름\": \"홍길동\",\n",
        "    \"나이\": 25,\n",
        "    \"거주지\": \"서울\",\n",
        "    \"관심사\": [\"프로그래밍\", \"데이터 분석\", \"여행\"]\n",
        "}\n",
        "\n",
        "## json.dump를 이용한 저장\n",
        "with open ('output.json', 'w', encoding='utf-8') as f:\n",
        "  json.dump(data, f, indent = 4, ensure_ascii=False)\n",
        "\n",
        "## DataFrame을 이용한 저장\n",
        "df = pd.DataFrame([data])\n",
        "df.to_json('output.json', orient='records', indent=4, force_ascii=False)\n"
      ],
      "metadata": {
        "id": "7bAgRpizW7Vj"
      },
      "execution_count": 2,
      "outputs": []
    },
    {
      "cell_type": "markdown",
      "source": [
        "## 5-3 Pandas Dataframe 데이터 추출"
      ],
      "metadata": {
        "id": "NMlsQDHtrA_x"
      }
    },
    {
      "cell_type": "code",
      "source": [
        "import pandas as pd\n",
        "\n",
        "data = {\n",
        "    \"이름\": [\"김철수\", \"이영희\", \"박민수\", \"최지훈\", \"정소희\"],\n",
        "    \"학년\": [1, 2, 3, 4, 2],\n",
        "    \"학점\": [4.2, 3.8, 4.5, 3.9, 3.5],\n",
        "    \"학과\": [\"컴퓨터학\", \"경영학\", \"농학\", \"교육학\", \"영어영문학\"],\n",
        "    \"동아리\": [\"프로그래밍\", \"독서토론\", \"로봇공학\", \"봉사활동\", \"음악감상\"]\n",
        "}\n",
        "df = pd.DataFrame([data])\n",
        "\n",
        "## DataFrame 인덱스 출력\n",
        "print(f'index: {df.index}')\n",
        "\n",
        "## DataFrame 컬럼 출력\n",
        "print(f'columns : {df.columns}')\n",
        "\n",
        "## DataFrame 행 출력\n",
        "print(f'values : {df.values.flatten()}')\n",
        "\n",
        "## DataFrame 값 출력\n",
        "print(f'rows : {df.values.tolist()}')\n"
      ],
      "metadata": {
        "id": "dk3xneVAW9_g",
        "outputId": "6a0776f5-d58d-4a8f-c4df-88c48ee04bc4",
        "colab": {
          "base_uri": "https://localhost:8080/"
        }
      },
      "execution_count": 8,
      "outputs": [
        {
          "output_type": "stream",
          "name": "stdout",
          "text": [
            "index: RangeIndex(start=0, stop=1, step=1)\n",
            "columns : Index(['이름', '학년', '학점', '학과', '동아리'], dtype='object')\n",
            "values : [list(['김철수', '이영희', '박민수', '최지훈', '정소희']) list([1, 2, 3, 4, 2])\n",
            " list([4.2, 3.8, 4.5, 3.9, 3.5])\n",
            " list(['컴퓨터학', '경영학', '농학', '교육학', '영어영문학'])\n",
            " list(['프로그래밍', '독서토론', '로봇공학', '봉사활동', '음악감상'])]\n",
            "rows : [[['김철수', '이영희', '박민수', '최지훈', '정소희'], [1, 2, 3, 4, 2], [4.2, 3.8, 4.5, 3.9, 3.5], ['컴퓨터학', '경영학', '농학', '교육학', '영어영문학'], ['프로그래밍', '독서토론', '로봇공학', '봉사활동', '음악감상']]]\n",
            "[[list(['김철수', '이영희', '박민수', '최지훈', '정소희']) list([1, 2, 3, 4, 2])\n",
            "  list([4.2, 3.8, 4.5, 3.9, 3.5])\n",
            "  list(['컴퓨터학', '경영학', '농학', '교육학', '영어영문학'])\n",
            "  list(['프로그래밍', '독서토론', '로봇공학', '봉사활동', '음악감상'])]]\n"
          ]
        }
      ]
    },
    {
      "cell_type": "markdown",
      "source": [
        "## 5-4 DataFrame 생성 방법"
      ],
      "metadata": {
        "id": "ILJd1GLoseqm"
      }
    },
    {
      "cell_type": "code",
      "source": [
        "import pandas as pd\n",
        "import json\n",
        "\n",
        "data = {\n",
        "    \"이름\": [\"김철수\", \"이영희\", \"박민수\", \"최지훈\", \"정소희\"],\n",
        "    \"학년\": [1, 2, 3, 4, 2],\n",
        "    \"학점\": [4.2, 3.8, 4.5, 3.9, 3.5],\n",
        "    \"학과\": [\"컴퓨터공학\", \"경영학\", \"전자공학\", \"의학\", \"심리학\"],\n",
        "    \"동아리\": [\"프로그래밍\", \"독서토론\", \"로봇공학\", \"봉사활동\", \"음악감상\"]\n",
        "}\n",
        "\n",
        "## 딕셔너리, csv, json으로 부터 DataFrame 생성\n",
        "df1 = pd.DataFrame.from_dict(data)\n",
        "df2 = pd.read_csv('students.csv', encoding='utf-8')\n",
        "df3 = pd.read_json('students.json')\n",
        "\n",
        "## 세가지 방법 결과 비교\n",
        "print(df1)\n",
        "print(df2)\n",
        "print(df3)\n"
      ],
      "metadata": {
        "id": "ISnPLEgNXAmi",
        "outputId": "cd3856c9-c3ca-4149-ae94-eaddfb3e2c0a",
        "colab": {
          "base_uri": "https://localhost:8080/"
        }
      },
      "execution_count": 13,
      "outputs": [
        {
          "output_type": "stream",
          "name": "stdout",
          "text": [
            "    이름  학년   학점     학과    동아리\n",
            "0  김철수   1  4.2  컴퓨터공학  프로그래밍\n",
            "1  이영희   2  3.8    경영학   독서토론\n",
            "2  박민수   3  4.5   전자공학   로봇공학\n",
            "3  최지훈   4  3.9     의학   봉사활동\n",
            "4  정소희   2  3.5    심리학   음악감상\n",
            "    학번   이름  데이터베이스  파이썬  클라우드\n",
            "0  101  김철수      85   78    92\n",
            "1  102  이영희      76   82    78\n",
            "2  103  박지민      92   95    85\n",
            "3  104  최준서      63   70    75\n",
            "4  105  정미나      88   84    91\n",
            "    id name  database  python  cloud\n",
            "0  101  김철수        85      78     92\n",
            "1  102  이영희        76      82     78\n",
            "2  103  박지민        92      95     85\n",
            "3  104  최준서        63      70     75\n",
            "4  105  정미나        88      84     91\n"
          ]
        }
      ]
    },
    {
      "cell_type": "markdown",
      "source": [
        "## 5-5 DataFrame 저장 방법"
      ],
      "metadata": {
        "id": "z1N6lAnwsdyU"
      }
    },
    {
      "cell_type": "code",
      "source": [
        "import pandas as pd\n",
        "\n",
        "data = {\n",
        "    \"이름\": [\"김철수\", \"이영희\", \"박민수\", \"최지훈\", \"정소희\"],\n",
        "    \"학년\": [1, 2, 3, 4, 2],\n",
        "    \"학점\": [4.2, 3.8, 4.5, 3.9, 3.5],\n",
        "    \"학과\": [\"컴퓨터공학\", \"경영학\", \"전자공학\", \"의학\", \"심리학\"],\n",
        "    \"동아리\": [\"프로그래밍\", \"독서토론\", \"로봇공학\", \"봉사활동\", \"음악감상\"]\n",
        "}\n",
        "\n",
        "## Dataframe 생성\n",
        "df1 = pd.DataFrame.from_dict(data, orient = \"index\")\n",
        "print(df1)\n",
        "\n",
        "## CSV, JSON 형식으로 저장\n",
        "df.to_csv('students_scores.csv', encoding='utf-8', index=False)\n",
        "df.to_json('students_scores.json', orient = 'records', indent = 4, force_ascii=False)\n",
        "\n",
        "## HTML 형식으로 저장\n",
        "html_table = df.to_html()\n",
        "\n",
        "## HTML 형식으로 저장\n",
        "with open('students_scores.html', 'w', encoding = 'utf-8') as f :\n",
        "  f.write(html_table)"
      ],
      "metadata": {
        "id": "_dqoWCRoXDrJ",
        "outputId": "c76a6716-e12e-4540-95c9-cc584db4f01d",
        "colab": {
          "base_uri": "https://localhost:8080/"
        }
      },
      "execution_count": 18,
      "outputs": [
        {
          "output_type": "stream",
          "name": "stdout",
          "text": [
            "         0     1     2     3     4\n",
            "이름     김철수   이영희   박민수   최지훈   정소희\n",
            "학년       1     2     3     4     2\n",
            "학점     4.2   3.8   4.5   3.9   3.5\n",
            "학과   컴퓨터공학   경영학  전자공학    의학   심리학\n",
            "동아리  프로그래밍  독서토론  로봇공학  봉사활동  음악감상\n"
          ]
        }
      ]
    },
    {
      "cell_type": "markdown",
      "source": [
        "## 5-6 실습 시나리오"
      ],
      "metadata": {
        "id": "ifBFAyulsdJb"
      }
    },
    {
      "cell_type": "markdown",
      "source": [
        "## 데이터 수집"
      ],
      "metadata": {
        "id": "muFj6okKyXy6"
      }
    },
    {
      "cell_type": "code",
      "source": [
        "import requests\n",
        "\n",
        "url = \"http://apis.data.go.kr/B552584/ArpltnInforInqireSvc/getMinuDustFrcstDspth\"\n",
        "api_key = 'E4NOOERXTcGtLZjt3lHVRGGy+hOi1Uyo265PlfuN5JaQiLOqzYWyRriUdYY8ECvRNA1sHe00P7uZI8O18cLUFA=='\n",
        "\n",
        "params = {\n",
        "    'serviceKey': api_key,\n",
        "    'returnType': 'json',\n",
        "    'numOfRows': '100',\n",
        "    'pageNo': '1',\n",
        "    'sidoName': '서울',\n",
        "    'ver': '1.0'\n",
        "}\n",
        "\n",
        "## 데이터 수집\n",
        "response = requests.get(url, params=params)\n",
        "\n",
        "## 호출 성공/실패 출력\n",
        "if response.status_code == 200:\n",
        "    print('데이터 수집 성공')\n",
        "    print(response.json())\n",
        "else:\n",
        "    print(f'데이터 수집 실패 : {response.status_Code}')\n",
        "\n"
      ],
      "metadata": {
        "id": "7yCozmQeXJcO",
        "outputId": "7265c996-478a-45fa-9db5-8319d714e60e",
        "colab": {
          "base_uri": "https://localhost:8080/"
        }
      },
      "execution_count": 19,
      "outputs": [
        {
          "output_type": "stream",
          "name": "stdout",
          "text": [
            "데이터 수집 성공\n",
            "{'response': {'body': {'totalCount': 846, 'items': [{'informCode': 'O3', 'dataTime': '2025-09-09'}, {'informCode': 'O3', 'dataTime': '2025-09-09'}, {'informCode': 'PM25', 'dataTime': '2025-09-09'}, {'informCode': 'PM10', 'dataTime': '2025-09-09'}, {'informCode': 'PM25', 'dataTime': '2025-09-09'}, {'informCode': 'PM10', 'dataTime': '2025-09-09'}, {'informCode': 'O3', 'dataTime': '2025-09-08'}, {'informCode': 'PM25', 'dataTime': '2025-09-08'}, {'informCode': 'PM10', 'dataTime': '2025-09-08'}, {'informCode': 'PM10', 'dataTime': '2025-09-08'}, {'informCode': 'PM25', 'dataTime': '2025-09-08'}, {'informCode': 'PM25', 'dataTime': '2025-09-08'}, {'informCode': 'O3', 'dataTime': '2025-09-08'}, {'informCode': 'O3', 'dataTime': '2025-09-08'}, {'informCode': 'PM10', 'dataTime': '2025-09-08'}, {'informCode': 'PM10', 'dataTime': '2025-09-08'}, {'informCode': 'PM25', 'dataTime': '2025-09-08'}, {'informCode': 'PM25', 'dataTime': '2025-09-08'}, {'informCode': 'O3', 'dataTime': '2025-09-08'}, {'informCode': 'O3', 'dataTime': '2025-09-08'}, {'informCode': 'PM10', 'dataTime': '2025-09-08'}, {'informCode': 'PM10', 'dataTime': '2025-09-08'}, {'informCode': 'PM10', 'dataTime': '2025-09-08'}, {'informCode': 'PM25', 'dataTime': '2025-09-08'}, {'informCode': 'PM25', 'dataTime': '2025-09-08'}, {'informCode': 'PM25', 'dataTime': '2025-09-08'}, {'informCode': 'O3', 'dataTime': '2025-09-08'}, {'informCode': 'O3', 'dataTime': '2025-09-08'}, {'informCode': 'PM10', 'dataTime': '2025-09-08'}, {'informCode': 'PM10', 'dataTime': '2025-09-08'}, {'informCode': 'PM10', 'dataTime': '2025-09-08'}, {'informCode': 'PM25', 'dataTime': '2025-09-08'}, {'informCode': 'PM25', 'dataTime': '2025-09-08'}, {'informCode': 'O3', 'dataTime': '2025-09-08'}, {'informCode': 'PM10', 'dataTime': '2025-09-07'}, {'informCode': 'PM10', 'dataTime': '2025-09-07'}, {'informCode': 'PM25', 'dataTime': '2025-09-07'}, {'informCode': 'PM25', 'dataTime': '2025-09-07'}, {'informCode': 'O3', 'dataTime': '2025-09-07'}, {'informCode': 'O3', 'dataTime': '2025-09-07'}, {'informCode': 'PM10', 'dataTime': '2025-09-07'}, {'informCode': 'PM10', 'dataTime': '2025-09-07'}, {'informCode': 'PM25', 'dataTime': '2025-09-07'}, {'informCode': 'PM25', 'dataTime': '2025-09-07'}, {'informCode': 'O3', 'dataTime': '2025-09-07'}, {'informCode': 'O3', 'dataTime': '2025-09-07'}, {'informCode': 'PM10', 'dataTime': '2025-09-07'}, {'informCode': 'PM10', 'dataTime': '2025-09-07'}, {'informCode': 'PM25', 'dataTime': '2025-09-07'}, {'informCode': 'PM25', 'dataTime': '2025-09-07'}, {'informCode': 'O3', 'dataTime': '2025-09-07'}, {'informCode': 'O3', 'dataTime': '2025-09-07'}, {'informCode': 'PM10', 'dataTime': '2025-09-07'}, {'informCode': 'PM10', 'dataTime': '2025-09-07'}, {'informCode': 'PM10', 'dataTime': '2025-09-07'}, {'informCode': 'PM25', 'dataTime': '2025-09-07'}, {'informCode': 'PM25', 'dataTime': '2025-09-07'}, {'informCode': 'PM25', 'dataTime': '2025-09-07'}, {'informCode': 'O3', 'dataTime': '2025-09-07'}, {'informCode': 'O3', 'dataTime': '2025-09-07'}, {'informCode': 'PM10', 'dataTime': '2025-09-07'}, {'informCode': 'PM25', 'dataTime': '2025-09-07'}, {'informCode': 'O3', 'dataTime': '2025-09-06'}, {'informCode': 'PM25', 'dataTime': '2025-09-06'}, {'informCode': 'PM10', 'dataTime': '2025-09-06'}, {'informCode': 'PM10', 'dataTime': '2025-09-06'}, {'informCode': 'PM25', 'dataTime': '2025-09-06'}, {'informCode': 'PM25', 'dataTime': '2025-09-06'}, {'informCode': 'O3', 'dataTime': '2025-09-06'}, {'informCode': 'O3', 'dataTime': '2025-09-06'}, {'informCode': 'PM10', 'dataTime': '2025-09-06'}, {'informCode': 'PM10', 'dataTime': '2025-09-06'}, {'informCode': 'PM25', 'dataTime': '2025-09-06'}, {'informCode': 'PM25', 'dataTime': '2025-09-06'}, {'informCode': 'O3', 'dataTime': '2025-09-06'}, {'informCode': 'O3', 'dataTime': '2025-09-06'}, {'informCode': 'PM10', 'dataTime': '2025-09-06'}, {'informCode': 'PM10', 'dataTime': '2025-09-06'}, {'informCode': 'PM10', 'dataTime': '2025-09-06'}, {'informCode': 'PM25', 'dataTime': '2025-09-06'}, {'informCode': 'PM25', 'dataTime': '2025-09-06'}, {'informCode': 'PM25', 'dataTime': '2025-09-06'}, {'informCode': 'O3', 'dataTime': '2025-09-06'}, {'informCode': 'O3', 'dataTime': '2025-09-06'}, {'informCode': 'PM10', 'dataTime': '2025-09-06'}, {'informCode': 'PM10', 'dataTime': '2025-09-06'}, {'informCode': 'PM10', 'dataTime': '2025-09-06'}, {'informCode': 'PM25', 'dataTime': '2025-09-06'}, {'informCode': 'PM25', 'dataTime': '2025-09-06'}, {'informCode': 'O3', 'dataTime': '2025-09-06'}, {'informCode': 'PM10', 'dataTime': '2025-09-05'}, {'informCode': 'PM10', 'dataTime': '2025-09-05'}, {'informCode': 'PM25', 'dataTime': '2025-09-05'}, {'informCode': 'PM25', 'dataTime': '2025-09-05'}, {'informCode': 'O3', 'dataTime': '2025-09-05'}, {'informCode': 'O3', 'dataTime': '2025-09-05'}, {'informCode': 'PM10', 'dataTime': '2025-09-05'}, {'informCode': 'PM10', 'dataTime': '2025-09-05'}, {'informCode': 'PM10', 'dataTime': '2025-09-05'}, {'informCode': 'PM25', 'dataTime': '2025-09-05'}], 'pageNo': 1, 'numOfRows': 100}, 'header': {'resultMsg': 'NORMAL_CODE', 'resultCode': '00'}}}\n"
          ]
        }
      ]
    },
    {
      "cell_type": "markdown",
      "source": [
        "## 데이터 프레임 생성"
      ],
      "metadata": {
        "id": "d6mT4IxkySzI"
      }
    },
    {
      "cell_type": "code",
      "source": [
        "import pandas as pd\n",
        "\n",
        "## requests로부터 response, body, item 항목 읽기\n",
        "data = response.json()['response']['body']['items']\n",
        "df = pd.DataFrame(data)\n",
        "print(df.head())\n"
      ],
      "metadata": {
        "id": "HOOo9qTsXLkB",
        "outputId": "da8670ff-d349-458f-c5b0-64b7bbb07583",
        "colab": {
          "base_uri": "https://localhost:8080/"
        }
      },
      "execution_count": 20,
      "outputs": [
        {
          "output_type": "stream",
          "name": "stdout",
          "text": [
            "  informCode    dataTime\n",
            "0         O3  2025-09-09\n",
            "1         O3  2025-09-09\n",
            "2       PM25  2025-09-09\n",
            "3       PM10  2025-09-09\n",
            "4       PM25  2025-09-09\n"
          ]
        }
      ]
    },
    {
      "cell_type": "markdown",
      "source": [
        "## 다양항 형식으로 데이터 저장\n"
      ],
      "metadata": {
        "id": "vVG0HYb0ymeM"
      }
    },
    {
      "cell_type": "code",
      "source": [
        "df.to_csv('air_pollution.csv', index=False, encoding='utf-8')\n",
        "\n",
        "## JSON 형식 데이터 저장\n",
        "\n",
        "## EXCEL 형식 데이터 저장\n",
        "\n",
        "## HTML 형식 데이터 저장\n"
      ],
      "metadata": {
        "id": "HW1ZodpgXNhG"
      },
      "execution_count": null,
      "outputs": []
    }
  ]
}