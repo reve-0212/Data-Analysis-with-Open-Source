{
  "nbformat": 4,
  "nbformat_minor": 0,
  "metadata": {
    "colab": {
      "provenance": [],
      "include_colab_link": true
    },
    "kernelspec": {
      "name": "python3",
      "display_name": "Python 3"
    },
    "language_info": {
      "name": "python"
    }
  },
  "cells": [
    {
      "cell_type": "markdown",
      "metadata": {
        "id": "view-in-github",
        "colab_type": "text"
      },
      "source": [
        "<a href=\"https://colab.research.google.com/github/reve-0212/Data-Analysis-with-Open-Source/blob/main/%EC%98%A4%ED%94%88%EC%86%8C%EC%8A%A4_%EB%8D%B0%EC%9D%B4%ED%84%B0_%EB%B6%84%EC%84%9D_15%EA%B0%95.ipynb\" target=\"_parent\"><img src=\"https://colab.research.google.com/assets/colab-badge.svg\" alt=\"Open In Colab\"/></a>"
      ]
    },
    {
      "cell_type": "markdown",
      "source": [
        "# 15강 시계열 데이터 분석 : 주가 데이터 활용\n",
        "\n",
        "### 목표\n",
        "\n",
        "- S&P500 지수를 중심으로 주가 데이터를 수집\n",
        "- 다양한 시계열 분석 기법을 적용하여 의미 있는 인사이트를 도출\n",
        "\n",
        "> ⚠️**주의**⚠️ : 이번 장에서 다루는 내용은 순전히 교육 및 실습 목적으로 주가 데이터를 활용하는 것이며, 실제 투자 결정을 위한 가이드로 사용할 수 없다. 시계열 분석 기법은 과거 데이터의 패턴을 학습하는 데 유용하나, 금융 시장의 불확실성과 예측 불가능한 사건들로 인해 실제 투자에 적용할 경우 상당한 위험이 따를 수 있다. 어떤 분석 방법도 미래 주가를 완벽히 예측할 수 없으며, 본 내용은 데이터 분석 기술을 배우는 학습 도구로만 활용하길 권장한다.\n",
        "\n",
        "### 분석 프로세스 개요\n",
        "\n",
        "1. 데이터 수집\n",
        "  - yfinance를 이용한 데이터 수집\n",
        "  - 데이터 구조 이해\n",
        "2. 금융 시계열 분석\n",
        "  - 기술적 지표 계산 (이동평균, RSI)\n",
        "  - 거래 신호 생성 및 거래 전략 구성\n",
        "  - 백테스팅\n",
        "3. Prophet 기반 예측\n",
        "  - 단기 주가 예측 모델 학습 및 평가\n",
        "4. GBRT 기반 예측\n",
        "  - 특성 변수 설계 및 예측 모델 학습\n",
        "  - 예측 기반 투자 전략 및 백테스팅"
      ],
      "metadata": {
        "id": "egaDlNK_rHoa"
      }
    },
    {
      "cell_type": "code",
      "source": [
        "# 한글 처리를 위한 matplotlib 설정 (1)\n",
        "\n",
        "!sudo apt-get install -y fonts-nanum\n",
        "!sudo fc-cache –fv\n",
        "!rm ~/.cache/matplotlib -rf"
      ],
      "metadata": {
        "id": "QU9ZCsU5sNts",
        "outputId": "2a3a9a9e-e0c1-47b7-d190-bd07ef7ad6e3",
        "colab": {
          "base_uri": "https://localhost:8080/"
        }
      },
      "execution_count": 1,
      "outputs": [
        {
          "output_type": "stream",
          "name": "stdout",
          "text": [
            "Reading package lists... Done\n",
            "Building dependency tree... Done\n",
            "Reading state information... Done\n",
            "The following NEW packages will be installed:\n",
            "  fonts-nanum\n",
            "0 upgraded, 1 newly installed, 0 to remove and 38 not upgraded.\n",
            "Need to get 10.3 MB of archives.\n",
            "After this operation, 34.1 MB of additional disk space will be used.\n",
            "Get:1 http://archive.ubuntu.com/ubuntu jammy/universe amd64 fonts-nanum all 20200506-1 [10.3 MB]\n",
            "Fetched 10.3 MB in 1s (9,974 kB/s)\n",
            "debconf: unable to initialize frontend: Dialog\n",
            "debconf: (No usable dialog-like program is installed, so the dialog based frontend cannot be used. at /usr/share/perl5/Debconf/FrontEnd/Dialog.pm line 78, <> line 1.)\n",
            "debconf: falling back to frontend: Readline\n",
            "debconf: unable to initialize frontend: Readline\n",
            "debconf: (This frontend requires a controlling tty.)\n",
            "debconf: falling back to frontend: Teletype\n",
            "dpkg-preconfigure: unable to re-open stdin: \n",
            "Selecting previously unselected package fonts-nanum.\n",
            "(Reading database ... 126666 files and directories currently installed.)\n",
            "Preparing to unpack .../fonts-nanum_20200506-1_all.deb ...\n",
            "Unpacking fonts-nanum (20200506-1) ...\n",
            "Setting up fonts-nanum (20200506-1) ...\n",
            "Processing triggers for fontconfig (2.13.1-4.2ubuntu5) ...\n"
          ]
        }
      ]
    },
    {
      "cell_type": "markdown",
      "source": [
        "- 런타임 -> 세션 다시 시작"
      ],
      "metadata": {
        "id": "02np0JdHsPd2"
      }
    },
    {
      "cell_type": "code",
      "source": [
        "# 한글 처리를 위한 matplotlib 설정 (2)\n",
        "\n",
        "import matplotlib.pyplot as plt\n",
        "plt.rc('font', family='NanumBarunGothic')"
      ],
      "metadata": {
        "id": "As0gBP7BsPxj"
      },
      "execution_count": 1,
      "outputs": []
    },
    {
      "cell_type": "markdown",
      "source": [
        "# 1. 데이터 수집"
      ],
      "metadata": {
        "id": "d887Ue6YsbJz"
      }
    },
    {
      "cell_type": "markdown",
      "source": [
        "## 15-1 yfinance를 이용한 S&P 500 데이터 다운로드"
      ],
      "metadata": {
        "id": "cxu2a7TjtGzk"
      }
    },
    {
      "cell_type": "code",
      "execution_count": 2,
      "metadata": {
        "id": "Y0mS6JWIAvrL",
        "outputId": "c136d382-77ae-4edb-a0b4-d739eded1054",
        "colab": {
          "base_uri": "https://localhost:8080/",
          "height": 355
        }
      },
      "outputs": [
        {
          "output_type": "stream",
          "name": "stderr",
          "text": [
            "/tmp/ipython-input-4105558319.py:13: FutureWarning: YF.download() has changed argument auto_adjust default to True\n",
            "  df = yf.download(ticker, start=start_date, end=end_date)\n",
            "[*********************100%***********************]  1 of 1 completed\n"
          ]
        },
        {
          "output_type": "execute_result",
          "data": {
            "text/plain": [
              "Price        Close         High          Low         Open        Volume\n",
              "count  1509.000000  1509.000000  1509.000000  1509.000000  1.509000e+03\n",
              "mean   2365.076824  2374.893937  2353.617748  2364.783671  3.588534e+09\n",
              "std     380.653792   381.515469   379.812445   380.702127  6.749905e+08\n",
              "min    1741.890015  1755.790039  1737.920044  1743.819946  1.296530e+09\n",
              "25%    2050.629883  2062.830078  2041.479980  2049.729980  3.201300e+09\n",
              "50%    2265.179932  2271.780029  2258.409912  2266.810059  3.502190e+09\n",
              "75%    2723.060059  2737.600098  2708.850098  2722.120117  3.875630e+09\n",
              "max    3240.020020  3247.929932  3234.370117  3247.229980  7.657890e+09"
            ],
            "text/html": [
              "\n",
              "  <div id=\"df-c3763024-45e9-41a1-a3d0-5ec23f356d41\" class=\"colab-df-container\">\n",
              "    <div>\n",
              "<style scoped>\n",
              "    .dataframe tbody tr th:only-of-type {\n",
              "        vertical-align: middle;\n",
              "    }\n",
              "\n",
              "    .dataframe tbody tr th {\n",
              "        vertical-align: top;\n",
              "    }\n",
              "\n",
              "    .dataframe thead th {\n",
              "        text-align: right;\n",
              "    }\n",
              "</style>\n",
              "<table border=\"1\" class=\"dataframe\">\n",
              "  <thead>\n",
              "    <tr style=\"text-align: right;\">\n",
              "      <th>Price</th>\n",
              "      <th>Close</th>\n",
              "      <th>High</th>\n",
              "      <th>Low</th>\n",
              "      <th>Open</th>\n",
              "      <th>Volume</th>\n",
              "    </tr>\n",
              "  </thead>\n",
              "  <tbody>\n",
              "    <tr>\n",
              "      <th>count</th>\n",
              "      <td>1509.000000</td>\n",
              "      <td>1509.000000</td>\n",
              "      <td>1509.000000</td>\n",
              "      <td>1509.000000</td>\n",
              "      <td>1.509000e+03</td>\n",
              "    </tr>\n",
              "    <tr>\n",
              "      <th>mean</th>\n",
              "      <td>2365.076824</td>\n",
              "      <td>2374.893937</td>\n",
              "      <td>2353.617748</td>\n",
              "      <td>2364.783671</td>\n",
              "      <td>3.588534e+09</td>\n",
              "    </tr>\n",
              "    <tr>\n",
              "      <th>std</th>\n",
              "      <td>380.653792</td>\n",
              "      <td>381.515469</td>\n",
              "      <td>379.812445</td>\n",
              "      <td>380.702127</td>\n",
              "      <td>6.749905e+08</td>\n",
              "    </tr>\n",
              "    <tr>\n",
              "      <th>min</th>\n",
              "      <td>1741.890015</td>\n",
              "      <td>1755.790039</td>\n",
              "      <td>1737.920044</td>\n",
              "      <td>1743.819946</td>\n",
              "      <td>1.296530e+09</td>\n",
              "    </tr>\n",
              "    <tr>\n",
              "      <th>25%</th>\n",
              "      <td>2050.629883</td>\n",
              "      <td>2062.830078</td>\n",
              "      <td>2041.479980</td>\n",
              "      <td>2049.729980</td>\n",
              "      <td>3.201300e+09</td>\n",
              "    </tr>\n",
              "    <tr>\n",
              "      <th>50%</th>\n",
              "      <td>2265.179932</td>\n",
              "      <td>2271.780029</td>\n",
              "      <td>2258.409912</td>\n",
              "      <td>2266.810059</td>\n",
              "      <td>3.502190e+09</td>\n",
              "    </tr>\n",
              "    <tr>\n",
              "      <th>75%</th>\n",
              "      <td>2723.060059</td>\n",
              "      <td>2737.600098</td>\n",
              "      <td>2708.850098</td>\n",
              "      <td>2722.120117</td>\n",
              "      <td>3.875630e+09</td>\n",
              "    </tr>\n",
              "    <tr>\n",
              "      <th>max</th>\n",
              "      <td>3240.020020</td>\n",
              "      <td>3247.929932</td>\n",
              "      <td>3234.370117</td>\n",
              "      <td>3247.229980</td>\n",
              "      <td>7.657890e+09</td>\n",
              "    </tr>\n",
              "  </tbody>\n",
              "</table>\n",
              "</div>\n",
              "    <div class=\"colab-df-buttons\">\n",
              "\n",
              "  <div class=\"colab-df-container\">\n",
              "    <button class=\"colab-df-convert\" onclick=\"convertToInteractive('df-c3763024-45e9-41a1-a3d0-5ec23f356d41')\"\n",
              "            title=\"Convert this dataframe to an interactive table.\"\n",
              "            style=\"display:none;\">\n",
              "\n",
              "  <svg xmlns=\"http://www.w3.org/2000/svg\" height=\"24px\" viewBox=\"0 -960 960 960\">\n",
              "    <path d=\"M120-120v-720h720v720H120Zm60-500h600v-160H180v160Zm220 220h160v-160H400v160Zm0 220h160v-160H400v160ZM180-400h160v-160H180v160Zm440 0h160v-160H620v160ZM180-180h160v-160H180v160Zm440 0h160v-160H620v160Z\"/>\n",
              "  </svg>\n",
              "    </button>\n",
              "\n",
              "  <style>\n",
              "    .colab-df-container {\n",
              "      display:flex;\n",
              "      gap: 12px;\n",
              "    }\n",
              "\n",
              "    .colab-df-convert {\n",
              "      background-color: #E8F0FE;\n",
              "      border: none;\n",
              "      border-radius: 50%;\n",
              "      cursor: pointer;\n",
              "      display: none;\n",
              "      fill: #1967D2;\n",
              "      height: 32px;\n",
              "      padding: 0 0 0 0;\n",
              "      width: 32px;\n",
              "    }\n",
              "\n",
              "    .colab-df-convert:hover {\n",
              "      background-color: #E2EBFA;\n",
              "      box-shadow: 0px 1px 2px rgba(60, 64, 67, 0.3), 0px 1px 3px 1px rgba(60, 64, 67, 0.15);\n",
              "      fill: #174EA6;\n",
              "    }\n",
              "\n",
              "    .colab-df-buttons div {\n",
              "      margin-bottom: 4px;\n",
              "    }\n",
              "\n",
              "    [theme=dark] .colab-df-convert {\n",
              "      background-color: #3B4455;\n",
              "      fill: #D2E3FC;\n",
              "    }\n",
              "\n",
              "    [theme=dark] .colab-df-convert:hover {\n",
              "      background-color: #434B5C;\n",
              "      box-shadow: 0px 1px 3px 1px rgba(0, 0, 0, 0.15);\n",
              "      filter: drop-shadow(0px 1px 2px rgba(0, 0, 0, 0.3));\n",
              "      fill: #FFFFFF;\n",
              "    }\n",
              "  </style>\n",
              "\n",
              "    <script>\n",
              "      const buttonEl =\n",
              "        document.querySelector('#df-c3763024-45e9-41a1-a3d0-5ec23f356d41 button.colab-df-convert');\n",
              "      buttonEl.style.display =\n",
              "        google.colab.kernel.accessAllowed ? 'block' : 'none';\n",
              "\n",
              "      async function convertToInteractive(key) {\n",
              "        const element = document.querySelector('#df-c3763024-45e9-41a1-a3d0-5ec23f356d41');\n",
              "        const dataTable =\n",
              "          await google.colab.kernel.invokeFunction('convertToInteractive',\n",
              "                                                    [key], {});\n",
              "        if (!dataTable) return;\n",
              "\n",
              "        const docLinkHtml = 'Like what you see? Visit the ' +\n",
              "          '<a target=\"_blank\" href=https://colab.research.google.com/notebooks/data_table.ipynb>data table notebook</a>'\n",
              "          + ' to learn more about interactive tables.';\n",
              "        element.innerHTML = '';\n",
              "        dataTable['output_type'] = 'display_data';\n",
              "        await google.colab.output.renderOutput(dataTable, element);\n",
              "        const docLink = document.createElement('div');\n",
              "        docLink.innerHTML = docLinkHtml;\n",
              "        element.appendChild(docLink);\n",
              "      }\n",
              "    </script>\n",
              "  </div>\n",
              "\n",
              "\n",
              "    <div id=\"df-d4f6c564-02c8-494d-acdf-b102d64ca969\">\n",
              "      <button class=\"colab-df-quickchart\" onclick=\"quickchart('df-d4f6c564-02c8-494d-acdf-b102d64ca969')\"\n",
              "                title=\"Suggest charts\"\n",
              "                style=\"display:none;\">\n",
              "\n",
              "<svg xmlns=\"http://www.w3.org/2000/svg\" height=\"24px\"viewBox=\"0 0 24 24\"\n",
              "     width=\"24px\">\n",
              "    <g>\n",
              "        <path d=\"M19 3H5c-1.1 0-2 .9-2 2v14c0 1.1.9 2 2 2h14c1.1 0 2-.9 2-2V5c0-1.1-.9-2-2-2zM9 17H7v-7h2v7zm4 0h-2V7h2v10zm4 0h-2v-4h2v4z\"/>\n",
              "    </g>\n",
              "</svg>\n",
              "      </button>\n",
              "\n",
              "<style>\n",
              "  .colab-df-quickchart {\n",
              "      --bg-color: #E8F0FE;\n",
              "      --fill-color: #1967D2;\n",
              "      --hover-bg-color: #E2EBFA;\n",
              "      --hover-fill-color: #174EA6;\n",
              "      --disabled-fill-color: #AAA;\n",
              "      --disabled-bg-color: #DDD;\n",
              "  }\n",
              "\n",
              "  [theme=dark] .colab-df-quickchart {\n",
              "      --bg-color: #3B4455;\n",
              "      --fill-color: #D2E3FC;\n",
              "      --hover-bg-color: #434B5C;\n",
              "      --hover-fill-color: #FFFFFF;\n",
              "      --disabled-bg-color: #3B4455;\n",
              "      --disabled-fill-color: #666;\n",
              "  }\n",
              "\n",
              "  .colab-df-quickchart {\n",
              "    background-color: var(--bg-color);\n",
              "    border: none;\n",
              "    border-radius: 50%;\n",
              "    cursor: pointer;\n",
              "    display: none;\n",
              "    fill: var(--fill-color);\n",
              "    height: 32px;\n",
              "    padding: 0;\n",
              "    width: 32px;\n",
              "  }\n",
              "\n",
              "  .colab-df-quickchart:hover {\n",
              "    background-color: var(--hover-bg-color);\n",
              "    box-shadow: 0 1px 2px rgba(60, 64, 67, 0.3), 0 1px 3px 1px rgba(60, 64, 67, 0.15);\n",
              "    fill: var(--button-hover-fill-color);\n",
              "  }\n",
              "\n",
              "  .colab-df-quickchart-complete:disabled,\n",
              "  .colab-df-quickchart-complete:disabled:hover {\n",
              "    background-color: var(--disabled-bg-color);\n",
              "    fill: var(--disabled-fill-color);\n",
              "    box-shadow: none;\n",
              "  }\n",
              "\n",
              "  .colab-df-spinner {\n",
              "    border: 2px solid var(--fill-color);\n",
              "    border-color: transparent;\n",
              "    border-bottom-color: var(--fill-color);\n",
              "    animation:\n",
              "      spin 1s steps(1) infinite;\n",
              "  }\n",
              "\n",
              "  @keyframes spin {\n",
              "    0% {\n",
              "      border-color: transparent;\n",
              "      border-bottom-color: var(--fill-color);\n",
              "      border-left-color: var(--fill-color);\n",
              "    }\n",
              "    20% {\n",
              "      border-color: transparent;\n",
              "      border-left-color: var(--fill-color);\n",
              "      border-top-color: var(--fill-color);\n",
              "    }\n",
              "    30% {\n",
              "      border-color: transparent;\n",
              "      border-left-color: var(--fill-color);\n",
              "      border-top-color: var(--fill-color);\n",
              "      border-right-color: var(--fill-color);\n",
              "    }\n",
              "    40% {\n",
              "      border-color: transparent;\n",
              "      border-right-color: var(--fill-color);\n",
              "      border-top-color: var(--fill-color);\n",
              "    }\n",
              "    60% {\n",
              "      border-color: transparent;\n",
              "      border-right-color: var(--fill-color);\n",
              "    }\n",
              "    80% {\n",
              "      border-color: transparent;\n",
              "      border-right-color: var(--fill-color);\n",
              "      border-bottom-color: var(--fill-color);\n",
              "    }\n",
              "    90% {\n",
              "      border-color: transparent;\n",
              "      border-bottom-color: var(--fill-color);\n",
              "    }\n",
              "  }\n",
              "</style>\n",
              "\n",
              "      <script>\n",
              "        async function quickchart(key) {\n",
              "          const quickchartButtonEl =\n",
              "            document.querySelector('#' + key + ' button');\n",
              "          quickchartButtonEl.disabled = true;  // To prevent multiple clicks.\n",
              "          quickchartButtonEl.classList.add('colab-df-spinner');\n",
              "          try {\n",
              "            const charts = await google.colab.kernel.invokeFunction(\n",
              "                'suggestCharts', [key], {});\n",
              "          } catch (error) {\n",
              "            console.error('Error during call to suggestCharts:', error);\n",
              "          }\n",
              "          quickchartButtonEl.classList.remove('colab-df-spinner');\n",
              "          quickchartButtonEl.classList.add('colab-df-quickchart-complete');\n",
              "        }\n",
              "        (() => {\n",
              "          let quickchartButtonEl =\n",
              "            document.querySelector('#df-d4f6c564-02c8-494d-acdf-b102d64ca969 button');\n",
              "          quickchartButtonEl.style.display =\n",
              "            google.colab.kernel.accessAllowed ? 'block' : 'none';\n",
              "        })();\n",
              "      </script>\n",
              "    </div>\n",
              "\n",
              "    </div>\n",
              "  </div>\n"
            ],
            "application/vnd.google.colaboratory.intrinsic+json": {
              "type": "dataframe",
              "summary": "{\n  \"name\": \"df\",\n  \"rows\": 8,\n  \"fields\": [\n    {\n      \"column\": \"Close\",\n      \"properties\": {\n        \"dtype\": \"number\",\n        \"std\": 860.824025010731,\n        \"min\": 380.65379248984897,\n        \"max\": 3240.02001953125,\n        \"num_unique_values\": 8,\n        \"samples\": [\n          2365.076824372774,\n          2265.179931640625,\n          1509.0\n        ],\n        \"semantic_type\": \"\",\n        \"description\": \"\"\n      }\n    },\n    {\n      \"column\": \"High\",\n      \"properties\": {\n        \"dtype\": \"number\",\n        \"std\": 863.9930619181496,\n        \"min\": 381.5154694798918,\n        \"max\": 3247.929931640625,\n        \"num_unique_values\": 8,\n        \"samples\": [\n          2374.893937239195,\n          2271.780029296875,\n          1509.0\n        ],\n        \"semantic_type\": \"\",\n        \"description\": \"\"\n      }\n    },\n    {\n      \"column\": \"Low\",\n      \"properties\": {\n        \"dtype\": \"number\",\n        \"std\": 857.5890318221464,\n        \"min\": 379.8124447197792,\n        \"max\": 3234.3701171875,\n        \"num_unique_values\": 8,\n        \"samples\": [\n          2353.617748343921,\n          2258.409912109375,\n          1509.0\n        ],\n        \"semantic_type\": \"\",\n        \"description\": \"\"\n      }\n    },\n    {\n      \"column\": \"Open\",\n      \"properties\": {\n        \"dtype\": \"number\",\n        \"std\": 862.0993315935889,\n        \"min\": 380.7021268170773,\n        \"max\": 3247.22998046875,\n        \"num_unique_values\": 8,\n        \"samples\": [\n          2364.783671425225,\n          2266.81005859375,\n          1509.0\n        ],\n        \"semantic_type\": \"\",\n        \"description\": \"\"\n      }\n    },\n    {\n      \"column\": \"Volume\",\n      \"properties\": {\n        \"dtype\": \"number\",\n        \"std\": 2402501019.4204216,\n        \"min\": 1509.0,\n        \"max\": 7657890000.0,\n        \"num_unique_values\": 8,\n        \"samples\": [\n          3588533843.6050363,\n          3502190000.0,\n          1509.0\n        ],\n        \"semantic_type\": \"\",\n        \"description\": \"\"\n      }\n    }\n  ]\n}"
            }
          },
          "metadata": {},
          "execution_count": 2
        }
      ],
      "source": [
        "# yfinance 임포트\n",
        "import datetime\n",
        "import yfinance as yf\n",
        "\n",
        "symbol = 'S&P500'\n",
        "ticker = '^GSPC'\n",
        "\n",
        "## 데이터 수집 날짜 설정 (2014년 1월 1일) ~ (2019년 12월 31일)\n",
        "start_date = datetime.datetime(2014, 1, 1)\n",
        "end_date = datetime.datetime(2019, 12, 31)\n",
        "\n",
        "## yfinance를 사용하여 S&P 500 (^GSPC) 데이터를 지정된 기간 동안 다운로드\n",
        "df = yf.download(ticker, start=start_date, end=end_date)\n",
        "\n",
        "## MultiIndex 컬럼에서 두 번째 레벨(보통 'Adj Close' 등)을 제거하여 컬럼 이름을 단순화\n",
        "df.columns = df.columns.droplevel(1)\n",
        "\n",
        "## 다운로드된 DataFrame의 기술 통계량 출력\n",
        "df.describe()"
      ]
    },
    {
      "cell_type": "markdown",
      "source": [
        "## 15-2 S&P 500 데이터 시각화 (훈련/테스트 분할)"
      ],
      "metadata": {
        "id": "rM2ipNz0tLGe"
      }
    },
    {
      "cell_type": "code",
      "source": [
        "import matplotlib.pyplot as plt\n",
        "\n",
        "plt.figure(figsize=(14, 7))\n",
        "plt.grid(True)\n",
        "plt.title('S&P500')\n",
        "## 2018년까지의 데이터를 훈련 데이터로 시각화\n",
        "plt.plot(df[:'2018'].index, df[:'2018']['Close'], label='Train Data')\n",
        "## 2018년 이후 데이터를 훈련 데이터로 시각화\n",
        "plt.plot(df['2018':].index, df['2018':]['Close'], label='Test Data')\n",
        "plt.legend()\n",
        "plt.show()"
      ],
      "metadata": {
        "id": "FTJUpPjUA7Ey",
        "outputId": "43e2785a-8991-4f95-b73a-55dbcaeeede9",
        "colab": {
          "base_uri": "https://localhost:8080/",
          "height": 621
        }
      },
      "execution_count": 3,
      "outputs": [
        {
          "output_type": "display_data",
          "data": {
            "text/plain": [
              "<Figure size 1400x700 with 1 Axes>"
            ],
            "image/png": "[encoded data removed]"
          },
          "metadata": {}
        }
      ]
    },
    {
      "cell_type": "markdown",
      "source": [
        "# 2. 금융 시계열 분석"
      ],
      "metadata": {
        "id": "S_LvRxLCuymS"
      }
    },
    {
      "cell_type": "markdown",
      "source": [
        "## 15-3 기술 지표 계산"
      ],
      "metadata": {
        "id": "jj5-hri-tZdH"
      }
    },
    {
      "cell_type": "code",
      "source": [
        "## 50일 이동 평균 계산\n",
        "df['MA50'] = df['Close'].rolling(window = 50).mean()\n",
        "## 200일 이동 평균 계산\n",
        "df['MA50'] = df['Close'].rolling(window =200).mean()\n",
        "\n",
        "## 일별 수익률 계산\n",
        "\n",
        "\n",
        "## RSI 계산\n",
        "delta = df['Close'].diff()\n",
        "gain = delta.where(delta > 0, 0).rolling(window=14).mean()\n",
        "loss = -delta.where(delta < 0, 0).rolling(window=14).mean()\n",
        "rs = gain / loss\n",
        "df['RSI'] = 100 - (100 / (1 + rs))"
      ],
      "metadata": {
        "id": "Lj7t2NHaBEh6"
      },
      "execution_count": null,
      "outputs": []
    },
    {
      "cell_type": "markdown",
      "source": [
        "## 15-4 기본 차트 생성 및 시각화"
      ],
      "metadata": {
        "id": "u5cF_W8-tp98"
      }
    },
    {
      "cell_type": "code",
      "source": [
        "def make_base_chart(df, title, show_close_only=False):\n",
        "  ## 기본 차트(종가, 이동평균선, RSI)를 생성하는 함수\n",
        "  fig, ax1 = plt.subplots(figsize=(10, 6))\n",
        "\n",
        "  ax1.plot(df.index, df['Close'], label='Close')\n",
        "  ax1.set_title(title)\n",
        "  ax1.set_ylabel('Price')\n",
        "  ax1.grid(True)\n",
        "  ax1.legend(loc='upper left')\n",
        "\n",
        "  if not show_close_only:\n",
        "    ## 종가만 표시하지 않을 경우\n",
        "    ax2 = ax1.twinx()\n",
        "    ax1.plot(df.index, df['MA50'], label='MA50')\n",
        "    ax1.plot(df.index, df['MA200'], label='MA200')\n",
        "    ax2.plot(df.index, df['RSI'], 'red', label='RSI', alpha=0.5, linewidth=1)\n",
        "    ax2.set_ylabel('RSI')\n",
        "    ax2.set_ylim(0, 100)  # RSI는 0-100 범위\n",
        "    ax2.legend(loc='upper right')\n",
        "\n",
        "  return fig, ax1\n",
        "\n",
        "## 테스트 데이터셋 (2018년 이후)에 대해 기본 차트 시각화\n",
        "test_df = df['2018':]\n",
        "fig, ax1 = make_base_chart(test_df, 'S&P500 이동평균선과 RSI')\n",
        "plt.tight_layout()\n",
        "plt.show()"
      ],
      "metadata": {
        "id": "aSAlSL_uBF5S"
      },
      "execution_count": null,
      "outputs": []
    },
    {
      "cell_type": "markdown",
      "source": [
        "## 15-5 매수/매도 신호 생성"
      ],
      "metadata": {
        "id": "7aBdTZs3t6sj"
      }
    },
    {
      "cell_type": "code",
      "source": [
        "import pandas as pd\n",
        "\n",
        "def make_signal(df):\n",
        "  ## 이동평균선과 RSI를 기반으로 매수/매도 신호를 생성하는 함수\n",
        "  buy = (  | ## MA 골든 크로스 (현재 시점에서 50일 이동 평균이 200일 이동 평균보다 위에 있다. & 이전 시점에서는 50일 이동 평균이 200일 이동 평균보다 같거나 아래에 있었다.)\n",
        "        ) ## RSI 30 상향 돌파\n",
        "\n",
        "  sell = ( | ## MA 데드 크로스 (현재 시점에서 50일 이동 평균이 200일 이동 평균보다 아래에 있다. & 이전 시점에서는 50일 이동 평균이 200일 이동 평균보다 같거나 위에 있었다.)\n",
        "          ) ## RSI 70 하향 돌파\n",
        "\n",
        "  return buy, sell\n",
        "\n",
        "## 테스트 데이터셋에 대해 매수/매도 신호 생성\n",
        "test_df = df['2018':].copy()\n",
        "buy, sell = make_signal(test_df)"
      ],
      "metadata": {
        "id": "6FPmsNg7BHn3"
      },
      "execution_count": null,
      "outputs": []
    },
    {
      "cell_type": "markdown",
      "source": [
        "## 15-6 매수/매도 신호 시각화"
      ],
      "metadata": {
        "id": "FN0LeKXiuBx0"
      }
    },
    {
      "cell_type": "code",
      "source": [
        "def plot_signal(df, buy, sell):\n",
        "  ## 매수/매도 신호를 차트에 표시하는 함수\n",
        "  fig, ax1 = make_base_chart(df, \"S&P500 구매 및 판매 시그널\") ## 기본 차트 생성\n",
        "\n",
        "  ## 매수/매도 신호 날짜 추출\n",
        "  buy_dates = df.index[buy]\n",
        "  sell_dates = df.index[sell] ## 매도 신호 날짜 추출\n",
        "\n",
        "  ## 매수/매도 신호 산점도로 표시\n",
        "  ax1.scatter(buy_dates, df.loc[buy_dates, 'Close'], marker='^', color='g', s=100, label='Buy Signal')\n",
        "  ax1.scatter(sell_dates, df.loc[sell_dates, 'Close'], marker='v', color='r', s=100, label='Sell Signal')\n",
        "\n",
        "  # 범례 업데이트\n",
        "  handles, labels = ax1.get_legend_handles_labels()\n",
        "  ax1.legend(handles=handles, labels=labels, loc='upper left')\n",
        "\n",
        "  return fig, ax1\n",
        "\n",
        "fig, ax1 = plot_signal(test_df, buy, sell)\n",
        "plt.show()"
      ],
      "metadata": {
        "id": "zgZbg_dVBI3n"
      },
      "execution_count": null,
      "outputs": []
    },
    {
      "cell_type": "markdown",
      "source": [
        "## 15-7 거래 포지션 생성 및 시각화"
      ],
      "metadata": {
        "id": "Ljtk_VXhu3gv"
      }
    },
    {
      "cell_type": "code",
      "source": [
        "def make_and_plot_position(df, buy, sell):\n",
        "    ## 거래 포지션(보유/미보유)을 생성하고 차트에 시각화하는 함수\n",
        "\n",
        "    ## DataFrame 인덱스로 새로운 'position' DataFrame 생성\n",
        "    position = pd.DataFrame(index=df.index)\n",
        "    ## 매수 시 signal 1, 매도 시 signal 0 할당\n",
        "\n",
        "\n",
        "    ## 신호를 하루 뒤로 밀어 포지션 시작 시점 반영\n",
        "    position = position['signal'].shift(1)\n",
        "\n",
        "    # 처음 상태는 0(미보유)로 시작\n",
        "    position['position'] = position.ffill().fillna(0)\n",
        "\n",
        "    ## 기본 차트 생성\n",
        "    fig, ax1 = make_base_chart(df, 'S&P500 거래 포지션')\n",
        "\n",
        "    for i in range(len(df)-1):\n",
        "        ## 포지션이 1(보유)인 경우 초록색 음영 생성\n",
        "        if position['position'].iloc[i] == 1:\n",
        "            ax1.axvspan(df.index[i], df.index[i+1], alpha=0.1, color='green')\n",
        "        ## 포지션이 0(미보유)인 경우 빨간색 음영 생성\n",
        "        else:\n",
        "            ax1.axvspan(df.index[i], df.index[i+1], alpha=0.1, color='red')\n",
        "\n",
        "    # 범례 업데이트\n",
        "    handles, labels = ax1.get_legend_handles_labels()\n",
        "    ax1.legend(handles=handles, labels=labels, loc='upper left')\n",
        "\n",
        "    return position\n",
        "\n",
        "## 거래 포지션 생성 및 시각화\n",
        "position = make_and_plot_position(test_df, buy, sell)"
      ],
      "metadata": {
        "id": "2r4usswUBKKg"
      },
      "execution_count": null,
      "outputs": []
    },
    {
      "cell_type": "markdown",
      "source": [
        "## 15-8 백테스트 및 수익률 분석"
      ],
      "metadata": {
        "id": "pCdEeRVPvkpg"
      }
    },
    {
      "cell_type": "code",
      "source": [
        "def backtest(df, position):\n",
        "    ## 일별 수익률 사용 (이미 계산된 값)\n",
        "    daily_returns = df['Returns']\n",
        "\n",
        "    ## 1) Buy & Hold 전략의 누적 수익률\n",
        "    buy_hold_returns = (1 + daily_returns).cumprod() - 1\n",
        "\n",
        "    ## 2) 포지션에 따른 전략의 수익률\n",
        "    strategy_returns = daily_returns * position['position']\n",
        "\n",
        "    ## 누적 수익률 계산\n",
        "    strategy_cumulative_returns = (1 + strategy_returns).cumprod() - 1\n",
        "\n",
        "    final_buy_hold_return = buy_hold_returns.iloc[-1] * 100\n",
        "    final_strategy_return = strategy_cumulative_returns.iloc[-1] * 100\n",
        "\n",
        "    print(f\"Buy & Hold 최종 수익률: {final_buy_hold_return:.2f}%\")\n",
        "    print(f\"전략 최종 수익률: {final_strategy_return:.2f}%\")\n",
        "\n",
        "    ## 수익률 추이 그래프 시각화\n",
        "    plt.figure(figsize=(12, 6))\n",
        "    plt.plot(buy_hold_returns.index, buy_hold_returns * 100, label='Buy & Hold', color='blue')\n",
        "    plt.plot(strategy_cumulative_returns.index, strategy_cumulative_returns * 100, label='Strategy', color='green')\n",
        "    plt.xlabel('Date')\n",
        "    plt.ylabel('Return (%)')\n",
        "    plt.title('Buy & Hold vs. Strategy Returns')\n",
        "    plt.legend()\n",
        "    plt.grid(True)\n",
        "    plt.show()\n",
        "\n",
        "backtest(test_df, position)"
      ],
      "metadata": {
        "id": "ULUkvCINBLvA"
      },
      "execution_count": null,
      "outputs": []
    },
    {
      "cell_type": "markdown",
      "source": [
        "# 3. Prophet 기반 예측"
      ],
      "metadata": {
        "id": "ezyniN23v5Ab"
      }
    },
    {
      "cell_type": "markdown",
      "source": [
        "## 15-9 Prophet 예측 및 시각화"
      ],
      "metadata": {
        "id": "Zq9XMPNXwLdr"
      }
    },
    {
      "cell_type": "code",
      "source": [
        "# prophet 모듈에서 Prophet 클래스 임포트\n",
        "\n",
        "\n",
        "def prophet_prediction(df, periods=5):\n",
        "    ## Prophet 모델을 사용하여 시계열 데이터를 예측하는 함수\n",
        "\n",
        "    ## Prophet 형식에 맞게 DataFrame 준비\n",
        "    # prophet은 ds와 y 칼럼 필요. df의 인덱스를 해제하고, Date와 Close 칼럼만 선택한 다음, Date를 ds로, Close를 y로 변환하여 prophet_df로 저장.\n",
        "\n",
        "    ## Prophet 모델 훈련\n",
        "    model = Prophet()\n",
        "    model.fit(prophet_df)\n",
        "\n",
        "    ## 미래 예측\n",
        "    future = model.make_future_dataframe(periods=periods)\n",
        "    forecast = model.predict(future)\n",
        "    return model, forecast\n",
        "\n",
        "## 훈련 데이터 셋 생성\n",
        "train_df = df[:'2018']\n",
        "## 훈련 데이터로 향후 365일 예측\n",
        "model, forecast = prophet_prediction(train_df, periods=365)\n",
        "\n",
        "## 예측 결과 및 시계열 구성 요소 시각화\n",
        "fig1 = model.plot(forecast)\n",
        "plt.show()\n",
        "fig2 = model.plot_components(forecast)\n",
        "plt.show()"
      ],
      "metadata": {
        "id": "2PE8ksIMBOAo"
      },
      "execution_count": null,
      "outputs": []
    },
    {
      "cell_type": "markdown",
      "source": [
        "## 15-10 확장 윈도우 예측"
      ],
      "metadata": {
        "id": "X9qc2qREwtWZ"
      }
    },
    {
      "cell_type": "code",
      "source": [
        "def expanding_window_forecast(train_df, test_df, step_size=30):\n",
        "    ## 확장 윈도우 방식으로 Prophet 모델을 사용하여 예측을 수행하는 함수\n",
        "    # 30일 간격으로 새로운 모델을 생성하고 예측\n",
        "    result_df = test_df.copy()\n",
        "    # prophet 결과 칼럼 추가\n",
        "    for col in ['yhat', 'yhat_upper', 'yhat_lower']:\n",
        "        result_df[col] = None\n",
        "\n",
        "    current_train = train_df.copy()\n",
        "\n",
        "    ## 테스트 데이터셋을 step_size 간격으로 순회\n",
        "    for i in range(0, len(test_df), step_size):\n",
        "        ## 테스트 기간 설정\n",
        "        current_test = test_df.iloc[i:min(i + step_size, len(test_df))]\n",
        "        ## 최근 365일 훈련 데이터로 Prophet 예측 수행\n",
        "        _, forecast = prophet_prediction(current_train[-365:], periods=len(current_test))\n",
        "\n",
        "        ## 예측 결과를 저장\n",
        "        for j, date in enumerate(current_test.index):\n",
        "            for col in ['yhat', 'yhat_upper', 'yhat_lower']:\n",
        "                result_df.loc[date, col] = forecast.tail(len(current_test)).iloc[j][col]\n",
        "\n",
        "        ## 훈련 데이터 셋 확장\n",
        "        current_train = pd.concat([current_train, current_test])\n",
        "\n",
        "    return result_df\n",
        "\n",
        "## 확장 윈도우 예측 수행 (2018년까지 훈련, 2018년 이후 테스트)\n",
        "prophet_df = df.copy()\n",
        "prophet_prediction_df = expanding_window_forecast(prophet_df[:'2018'], prophet_df['2018':])"
      ],
      "metadata": {
        "id": "PVz80FiEBPlA"
      },
      "execution_count": null,
      "outputs": []
    },
    {
      "cell_type": "markdown",
      "source": [
        "## 15-11 예측 결과 시각화"
      ],
      "metadata": {
        "id": "kyJOnmxqxWf4"
      }
    },
    {
      "cell_type": "code",
      "source": [
        "def plot_prediction(df_with_predictions, model='Prophet'):\n",
        "    ## 예측 결과를 실제 종가와 함께 시각화하는 함수\n",
        "    fig, ax1 = make_base_chart(df_with_predictions, f'S&P500 이동평균선, RSI, {model} 예측 값', show_close_only=True)\n",
        "    ## 예측값(yhat) 플로팅\n",
        "    ax1.plot(df_with_predictions.index, df_with_predictions['yhat'], label='yhat', color='orange', linestyle='--')\n",
        "    handles, labels = ax1.get_legend_handles_labels()\n",
        "    ax1.legend(handles=handles, labels=labels, loc='upper left')\n",
        "    plt.tight_layout()\n",
        "    plt.show()\n",
        "\n",
        "plot_prediction(prophet_prediction_df, model='Prophet')"
      ],
      "metadata": {
        "id": "K6hknM6TBQ5X"
      },
      "execution_count": null,
      "outputs": []
    },
    {
      "cell_type": "markdown",
      "source": [
        "# 4. GBRT 기반 예측"
      ],
      "metadata": {
        "id": "4fjxkAGKwA6I"
      }
    },
    {
      "cell_type": "markdown",
      "source": [
        "## 15-12 Gradient Boosting Regressor 예측"
      ],
      "metadata": {
        "id": "9taUb_EQxmGq"
      }
    },
    {
      "cell_type": "code",
      "source": [
        "# scikit learn의 ensemble 알고리즘 중 GradientBoostingRegresoor 임포트\n",
        "\n",
        "\n",
        "def expanding_window_forecast_gbrt(train_df, test_df, step_size=30):\n",
        "    ## Gradient Boosting Regressor를 이용한 확장 윈도우 예측 함수\n",
        "\n",
        "    ## 지연 피처 생성을 위한 훈련 및 테스트 데이터 결합\n",
        "    combined = pd.concat([train_df, test_df])\n",
        "    ## 피처 목록, (피처)_(지연일자)\n",
        "    features = ['High_1', 'Low_1', 'Volume_1', 'MA50_1', 'MA200_1', 'Close_1', 'Close_2', 'Close_3', 'Close_4', 'Close_5', 'Close_6', 'Close_7']\n",
        "    for feature in features:\n",
        "        feature_column, lag = feature.split('_')  ## 피처 이름과 지연(lag) 분리\n",
        "        combined[feature] = combined[feature_column].shift(int(lag))  ## 지연 피처 생성\n",
        "\n",
        "    ## 학습 데이터, 훈련 데이터 재분리\n",
        "    train = combined.loc[train_df.index]\n",
        "    test = combined.loc[test_df.index]\n",
        "\n",
        "    ## GBRT 모델 초기화\n",
        "    # n_estimators=100, lr=0.1, max_depth=3, random_state=42로 설정\n",
        "\n",
        "\n",
        "    ## 예측 값 저장 칼럼 초기화\n",
        "    test_df['yhat'] = None\n",
        "\n",
        "    current_train = train.copy()\n",
        "    ## 테스트 데이터셋을 step_size 간격으로 순회\n",
        "    for start in range(0, len(test), step_size):\n",
        "        ## 현재 테스트 윈도우 설정\n",
        "        test_window = test.iloc[start:start+step_size]\n",
        "\n",
        "        ## 최근 365일을 훈련 데이터로 설정\n",
        "        train_data = current_train[-365:].dropna(subset=features + ['Close'])\n",
        "        X_train, y_train = train_data[features], train_data['Close']\n",
        "\n",
        "        ## 모델 학습\n",
        "        model.fit(X_train, y_train)\n",
        "        test_df.loc[test_window.index, 'yhat'] = model.predict(test_window[features])\n",
        "\n",
        "        ## 훈련 데이터 확장\n",
        "        current_train = pd.concat([current_train, test_window])\n",
        "\n",
        "    return test_df\n",
        "\n",
        "gbrt_df = df.copy()\n",
        "## GBRT 확장 윈도우 예측 수행 (2018년까지 훈련, 2018년 이후 테스트)\n",
        "gbrt_prediction_df = expanding_window_forecast_gbrt(gbrt_df[:'2018'], gbrt_df['2018':])"
      ],
      "metadata": {
        "id": "fmH_im14BTOm"
      },
      "execution_count": null,
      "outputs": []
    },
    {
      "cell_type": "markdown",
      "source": [
        "## 15-13 GBRT 예측 결과 시각화"
      ],
      "metadata": {
        "id": "Y3_nfRa0ynze"
      }
    },
    {
      "cell_type": "code",
      "source": [
        "plot_prediction(gbrt_prediction_df, model='GBRT')"
      ],
      "metadata": {
        "id": "oBiqtZ2uBUju"
      },
      "execution_count": null,
      "outputs": []
    },
    {
      "cell_type": "markdown",
      "source": [
        "## 15-14 예측값을 활용한 매수/매도 신호 생성"
      ],
      "metadata": {
        "id": "4O7aMVWCyz5Q"
      }
    },
    {
      "cell_type": "code",
      "source": [
        "def make_signal_with_prediction(df):\n",
        "    buy = (\n",
        "        (df['MA50'] > df['MA200']) & (df['MA50'].shift(1) <= df['MA200'].shift(1)) |\n",
        "        (df['RSI'] > 30) & (df['RSI'].shift(1) <= 30) |\n",
        "        # 추가된 조건: 예측값이 현재 종가보다 높음 (상승 예측)\n",
        "        (df['yhat'] > df['Close'] * 1.01)  # 1% 이상 상승 예측\n",
        "    )\n",
        "\n",
        "    sell = (\n",
        "        (df['MA50'] < df['MA200']) & (df['MA50'].shift(1) >= df['MA200'].shift(1)) |\n",
        "        (df['RSI'] < 70) & (df['RSI'].shift(1) >= 70) |\n",
        "        # 옵션: 예측값이 현재 종가보다 낮음 (하락 예측)\n",
        "        (df['yhat'] < df['Close'] * 0.99)  # 1% 이상 하락 예측\n",
        "    )\n",
        "\n",
        "    return buy, sell\n",
        "\n",
        "buy, sell = make_signal_with_prediction(gbrt_prediction_df)"
      ],
      "metadata": {
        "id": "wiq1e95GBVy-"
      },
      "execution_count": null,
      "outputs": []
    },
    {
      "cell_type": "markdown",
      "source": [
        "## 15-15 예측값을 포함한 신호 시각화"
      ],
      "metadata": {
        "id": "zKh0aR9Xy33Y"
      }
    },
    {
      "cell_type": "code",
      "source": [
        "fig, ax1 = plot_signal(gbrt_prediction_df, buy, sell)\n",
        "ax1.plot(gbrt_prediction_df.index, gbrt_prediction_df['yhat'], label='yhat', color='orange', linestyle='--')\n",
        "handles, labels = ax1.get_legend_handles_labels()\n",
        "ax1.legend(handles=handles, labels=labels, loc='upper left')\n",
        "plt.show()"
      ],
      "metadata": {
        "id": "85pBbkWOBWvO"
      },
      "execution_count": null,
      "outputs": []
    },
    {
      "cell_type": "markdown",
      "source": [
        "## 15-16 예측 기반 거래 포지션 생성 및 시각화"
      ],
      "metadata": {
        "id": "31ConS3Py7Xm"
      }
    },
    {
      "cell_type": "code",
      "source": [
        "position = make_and_plot_position(gbrt_prediction_df, buy, sell)"
      ],
      "metadata": {
        "id": "lEHHLZl0BX-E"
      },
      "execution_count": null,
      "outputs": []
    },
    {
      "cell_type": "markdown",
      "source": [
        "## 15-17 예측 기반 전략 백테스트 실행"
      ],
      "metadata": {
        "id": "ac9V5cjfzANz"
      }
    },
    {
      "cell_type": "code",
      "source": [
        "backtest(gbrt_prediction_df, position)"
      ],
      "metadata": {
        "id": "Aw1C46iPBZT7"
      },
      "execution_count": null,
      "outputs": []
    }
  ]
}