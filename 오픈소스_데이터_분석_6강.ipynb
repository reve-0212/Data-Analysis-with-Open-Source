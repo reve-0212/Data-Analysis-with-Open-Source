{
  "nbformat": 4,
  "nbformat_minor": 0,
  "metadata": {
    "colab": {
      "provenance": [],
      "include_colab_link": true
    },
    "kernelspec": {
      "name": "python3",
      "display_name": "Python 3"
    },
    "language_info": {
      "name": "python"
    }
  },
  "cells": [
    {
      "cell_type": "markdown",
      "metadata": {
        "id": "view-in-github",
        "colab_type": "text"
      },
      "source": [
        "<a href=\"https://colab.research.google.com/github/reve-0212/Data-Analysis-with-Open-Source/blob/main/%EC%98%A4%ED%94%88%EC%86%8C%EC%8A%A4_%EB%8D%B0%EC%9D%B4%ED%84%B0_%EB%B6%84%EC%84%9D_6%EA%B0%95.ipynb\" target=\"_parent\"><img src=\"https://colab.research.google.com/assets/colab-badge.svg\" alt=\"Open In Colab\"/></a>"
      ]
    },
    {
      "cell_type": "markdown",
      "source": [
        "# 오픈소스 기반 데이터 분석 6강 - 데이터 전처리 1"
      ],
      "metadata": {
        "id": "1Ld5KWf86hIu"
      }
    },
    {
      "cell_type": "markdown",
      "source": [
        "### 6-1 데이터 훑어보기"
      ],
      "metadata": {
        "id": "XqpCWf2063pN"
      }
    },
    {
      "cell_type": "code",
      "source": [
        "import pandas as pd\n",
        "from sklearn.cluster import KMeans\n",
        "\n",
        "data = {'나이':[25, 30, 22, 35, 40, 50, 28, 33, 45, 55],\n",
        "        '소득':[3000,4000,2800,5000,6000,7000,3200,4500,6200, 7200]}\n",
        "df = pd.DataFrame(data)\n",
        "\n",
        "kmeans = KMeans(n_clusters=3, random_state = 42)\n",
        "df['군집'] = kmeans.fit_predict(df[['나이', '소득']])\n",
        "\n",
        "print(df)"
      ],
      "metadata": {
        "id": "WqTc-oI_opXq",
        "outputId": "861c3c92-c44b-4139-fc53-72227340f944",
        "colab": {
          "base_uri": "https://localhost:8080/"
        }
      },
      "execution_count": null,
      "outputs": [
        {
          "output_type": "stream",
          "name": "stdout",
          "text": [
            "   나이    소득  군집\n",
            "0  25  3000   1\n",
            "1  30  4000   1\n",
            "2  22  2800   1\n",
            "3  35  5000   0\n",
            "4  40  6000   2\n",
            "5  50  7000   2\n",
            "6  28  3200   1\n",
            "7  33  4500   0\n",
            "8  45  6200   2\n",
            "9  55  7200   2\n"
          ]
        }
      ]
    },
    {
      "cell_type": "code",
      "source": [
        "import pandas as pd\n",
        "import numpy as np\n",
        "\n",
        "data = {\n",
        "    'name': ['김민수', '이지영', '박준호', '최서연', '정도윤'],\n",
        "    'age': [25, 30, 28, 22, 35],\n",
        "    'city': ['서울', '부산', '인천', '서울', '대전'],\n",
        "    'score': [90, 85, 95, 80, np.nan]\n",
        "}\n",
        "df = pd.DataFrame(data)\n",
        "\n",
        "# 데이터 측정\n",
        "print('1. 기본 describe() : ')\n",
        "print(df.describe())\n",
        "print()\n",
        "\n",
        "# 모든 데이터 타입 측정\n",
        "print('2. 모든 데이터 타입 : ')\n",
        "print(df.describe(include='all'))\n",
        "print()\n",
        "\n",
        "# 수치형 데이터 측정\n",
        "print('3. 수치형 데이터만 : ')\n",
        "print(df.describe(include = [np.number]))\n",
        "print()\n",
        "\n",
        "# 범주형 데이터 측정\n",
        "print('4. 범주형 데이터만 : ')\n",
        "print(df.describe(include = ['object']))\n",
        "print()\n",
        "\n",
        "# 모든 데이터 타입 측정\n",
        "print('5. score 열 분석 : ')\n",
        "print(df['score'].describe())\n",
        "print()\n",
        "\n",
        "#\n",
        "\n",
        "\n",
        "# 특정 열 분석\n"
      ],
      "metadata": {
        "id": "TKsIqpFtYVVS",
        "outputId": "8b4bd4d6-9863-4a18-b43d-de3299a2a7e7",
        "colab": {
          "base_uri": "https://localhost:8080/"
        }
      },
      "execution_count": null,
      "outputs": [
        {
          "output_type": "stream",
          "name": "stdout",
          "text": [
            "1. 기본 describe() : \n",
            "             age      score\n",
            "count   5.000000   4.000000\n",
            "mean   28.000000  87.500000\n",
            "std     4.949747   6.454972\n",
            "min    22.000000  80.000000\n",
            "25%    25.000000  83.750000\n",
            "50%    28.000000  87.500000\n",
            "75%    30.000000  91.250000\n",
            "max    35.000000  95.000000\n",
            "\n",
            "2. 모든 데이터 타입 : \n",
            "       name        age city      score\n",
            "count     5   5.000000    5   4.000000\n",
            "unique    5        NaN    4        NaN\n",
            "top     김민수        NaN   서울        NaN\n",
            "freq      1        NaN    2        NaN\n",
            "mean    NaN  28.000000  NaN  87.500000\n",
            "std     NaN   4.949747  NaN   6.454972\n",
            "min     NaN  22.000000  NaN  80.000000\n",
            "25%     NaN  25.000000  NaN  83.750000\n",
            "50%     NaN  28.000000  NaN  87.500000\n",
            "75%     NaN  30.000000  NaN  91.250000\n",
            "max     NaN  35.000000  NaN  95.000000\n",
            "\n",
            "3. 수치형 데이터만 : \n",
            "             age      score\n",
            "count   5.000000   4.000000\n",
            "mean   28.000000  87.500000\n",
            "std     4.949747   6.454972\n",
            "min    22.000000  80.000000\n",
            "25%    25.000000  83.750000\n",
            "50%    28.000000  87.500000\n",
            "75%    30.000000  91.250000\n",
            "max    35.000000  95.000000\n",
            "\n",
            "4. 범주형 데이터만 : \n",
            "       name city\n",
            "count     5    5\n",
            "unique    5    4\n",
            "top     김민수   서울\n",
            "freq      1    2\n",
            "\n",
            "5. score 열 분석 : \n",
            "count     4.000000\n",
            "mean     87.500000\n",
            "std       6.454972\n",
            "min      80.000000\n",
            "25%      83.750000\n",
            "50%      87.500000\n",
            "75%      91.250000\n",
            "max      95.000000\n",
            "Name: score, dtype: float64\n",
            "\n"
          ]
        }
      ]
    },
    {
      "cell_type": "markdown",
      "source": [
        "### 6-2 DataFrame 열 선택 및 **조작**"
      ],
      "metadata": {
        "id": "HezV4iK1BmrB"
      }
    },
    {
      "cell_type": "code",
      "source": [
        "import pandas as pd\n",
        "\n",
        "data = {\n",
        "    \"이름\": [\"김철수\", \"이영희\", \"박민수\", \"최지훈\", \"정소희\"],\n",
        "    \"학년\": [1, 2, 3, 4, 2],\n",
        "    \"학점\": [4.2, 3.8, 4.5, 3.9, 3.5],\n",
        "    \"학과\": [\"컴퓨터공학\", \"경영학\", \"전자공학\", \"의학\", \"심리학\"],\n",
        "    \"동아리\": [\"프로그래밍\", \"독서토론\", \"로봇공학\", \"봉사활동\", \"음악감상\"]\n",
        "}\n",
        "df = pd.DataFrame(data)\n",
        "\n",
        "# 특정 열 선택\n",
        "selected_cols = df[['이름','학과','학점']]\n",
        "print('2. 특정 열만 선택 : ')\n",
        "print(selected_cols)\n",
        "print()\n",
        "\n",
        "# DataFrame 열순서 변경\n",
        "reordered_cols = df[['학과','이름','학년','학점','동아리']]\n",
        "print('3. 열 순서 변경 : ')\n",
        "print(reordered_cols)\n",
        "\n",
        "# DataFrame 열이름 변경\n",
        "df_renamed = df.rename(columns = {'이름':'학생명', '학점':'평점', '동아리':'과외활동'})\n",
        "print('4. 열 이름 변경 : ')\n",
        "print(df_renamed)\n"
      ],
      "metadata": {
        "id": "23DbuKjzYcpS",
        "outputId": "397c748e-c1f5-406f-b861-78d93dcef73e",
        "colab": {
          "base_uri": "https://localhost:8080/"
        }
      },
      "execution_count": null,
      "outputs": [
        {
          "output_type": "stream",
          "name": "stdout",
          "text": [
            "2. 특정 열만 선택 : \n",
            "    이름     학과   학점\n",
            "0  김철수  컴퓨터공학  4.2\n",
            "1  이영희    경영학  3.8\n",
            "2  박민수   전자공학  4.5\n",
            "3  최지훈     의학  3.9\n",
            "4  정소희    심리학  3.5\n",
            "\n",
            "3. 열 순서 변경 : \n",
            "      학과   이름  학년   학점    동아리\n",
            "0  컴퓨터공학  김철수   1  4.2  프로그래밍\n",
            "1    경영학  이영희   2  3.8   독서토론\n",
            "2   전자공학  박민수   3  4.5   로봇공학\n",
            "3     의학  최지훈   4  3.9   봉사활동\n",
            "4    심리학  정소희   2  3.5   음악감상\n",
            "4. 열 이름 변경 : \n",
            "   학생명  학년   평점     학과   과외활동\n",
            "0  김철수   1  4.2  컴퓨터공학  프로그래밍\n",
            "1  이영희   2  3.8    경영학   독서토론\n",
            "2  박민수   3  4.5   전자공학   로봇공학\n",
            "3  최지훈   4  3.9     의학   봉사활동\n",
            "4  정소희   2  3.5    심리학   음악감상\n"
          ]
        }
      ]
    },
    {
      "cell_type": "markdown",
      "source": [
        "### 6-3 DataFrame 행 선택"
      ],
      "metadata": {
        "id": "lZ2fkkq7B9NN"
      }
    },
    {
      "cell_type": "code",
      "source": [
        "import pandas as pd\n",
        "\n",
        "data = {\n",
        "    \"이름\": [\"김철수\", \"이영희\", \"박민수\", \"최지훈\", \"정소희\"],\n",
        "    \"학년\": [1, 2, 3, 4, 2],\n",
        "    \"학점\": [4.2, 3.8, 4.5, 3.9, 3.5],\n",
        "    \"학과\": [\"컴퓨터공학\", \"경영학\", \"전자공학\", \"의학\", \"심리학\"],\n",
        "    \"동아리\": [\"프로그래밍\", \"독서토론\", \"로봇공학\", \"봉사활동\", \"음악감상\"]\n",
        "}\n",
        "\n",
        "df = pd.DataFrame(data, index = data['이름'])\n",
        "#DataFrame 인덱스 지정\n",
        "print('df.loc[김철수]------------------------------')\n",
        "print(df.loc['김철수'])\n",
        "print()\n",
        "\n",
        "print('df.loc[김철수:박민수]-----------------------')\n",
        "print(df.loc['김철수':'박민수'])\n",
        "print()\n",
        "\n",
        "#DataFrame 행 선택\n",
        "print('df.iloc[1]---------------------')\n",
        "print(df.iloc[1])\n",
        "print()\n",
        "\n",
        "print('df.iloc[0:3]--------------------')\n",
        "print(df.iloc[0:3])\n",
        "print()\n",
        "\n",
        "#DataFrame 위치 기반 행 선택\n",
        "print('df[df[학점]>=4.0]----------------')\n",
        "print(df[df['학점']>=4.0])\n",
        "print()\n",
        "\n",
        "print('df[df[학년]==2]----------------------')\n",
        "print(df[df['학년']==2])\n",
        "print()\n",
        "\n",
        "print('df[(df[학년]==2) & (df[학점]>=3.7)]-----------------------')\n",
        "print(df[(df['학년']==2) & (df['학점']>=3.7)])\n",
        "\n",
        "\n",
        "#DataFrame 조건 기반 선택\n"
      ],
      "metadata": {
        "id": "Iztna0YTYe_e",
        "outputId": "4f975967-5b13-46ea-d4a5-3928de7649c9",
        "colab": {
          "base_uri": "https://localhost:8080/"
        }
      },
      "execution_count": null,
      "outputs": [
        {
          "output_type": "stream",
          "name": "stdout",
          "text": [
            "df.loc[김철수]------------------------------\n",
            "이름       김철수\n",
            "학년         1\n",
            "학점       4.2\n",
            "학과     컴퓨터공학\n",
            "동아리    프로그래밍\n",
            "Name: 김철수, dtype: object\n",
            "\n",
            "df.loc[김철수:박민수]-----------------------\n",
            "      이름  학년   학점     학과    동아리\n",
            "김철수  김철수   1  4.2  컴퓨터공학  프로그래밍\n",
            "이영희  이영희   2  3.8    경영학   독서토론\n",
            "박민수  박민수   3  4.5   전자공학   로봇공학\n",
            "\n",
            "df.iloc[1]---------------------\n",
            "이름      이영희\n",
            "학년        2\n",
            "학점      3.8\n",
            "학과      경영학\n",
            "동아리    독서토론\n",
            "Name: 이영희, dtype: object\n",
            "\n",
            "df.iloc[0:3]--------------------\n",
            "      이름  학년   학점     학과    동아리\n",
            "김철수  김철수   1  4.2  컴퓨터공학  프로그래밍\n",
            "이영희  이영희   2  3.8    경영학   독서토론\n",
            "박민수  박민수   3  4.5   전자공학   로봇공학\n",
            "\n",
            "df[df[학점]>=4.0]----------------\n",
            "      이름  학년   학점     학과    동아리\n",
            "김철수  김철수   1  4.2  컴퓨터공학  프로그래밍\n",
            "박민수  박민수   3  4.5   전자공학   로봇공학\n",
            "\n",
            "df[df[학년]==2]----------------------\n",
            "      이름  학년   학점   학과   동아리\n",
            "이영희  이영희   2  3.8  경영학  독서토론\n",
            "정소희  정소희   2  3.5  심리학  음악감상\n",
            "\n",
            "df[(df[학년]==2) & (df[학점]>=3.7)]-----------------------\n",
            "      이름  학년   학점   학과   동아리\n",
            "이영희  이영희   2  3.8  경영학  독서토론\n"
          ]
        }
      ]
    },
    {
      "cell_type": "markdown",
      "source": [
        "### 6-4 DataFrame 정렬"
      ],
      "metadata": {
        "id": "EX3RYr5jCfka"
      }
    },
    {
      "cell_type": "markdown",
      "source": [],
      "metadata": {
        "id": "G_mEibnYC_tQ"
      }
    },
    {
      "cell_type": "code",
      "source": [
        "import pandas as pd\n",
        "\n",
        "data = {\n",
        "    \"이름\": [\"김철수\", \"이영희\", \"박민수\", \"최지훈\", \"정소희\"],\n",
        "    \"학년\": [1, 2, 3, 4, 2],\n",
        "    \"학점\": [4.2, 3.8, 4.5, 3.9, 3.5],\n",
        "    \"학과\": [\"컴퓨터공학\", \"경영학\", \"전자공학\", \"의학\", \"심리학\"],\n",
        "    \"동아리\": [\"프로그래밍\", \"독서토론\", \"로봇공학\", \"봉사활동\", \"음악감상\"]\n",
        "}\n",
        "\n",
        "#DataFrame 인덱스 지정\n",
        "df_indexed = pd.DataFrame(data).set_index('이름')\n",
        "\n",
        "#DataFrame 단일 열 오름차순, 내림차순 정렬\n",
        "print(df.sort_values(by='학점'))\n",
        "print()\n",
        "print(df.sort_values(by='학점', ascending = False))\n",
        "print()\n",
        "print(df.sort_values(by = ['학년','학점'], ascending = [True, False]))\n",
        "print()\n",
        "\n",
        "#DataFrame 복수 열 오름차순, 내림차순 정렬\n",
        "print(df_indexed.sort_index())\n",
        "print()\n",
        "\n",
        "#DataFrame 인덱스 기분 오른차순, 내림차순 정렬\n",
        "print(df_indexed.sort_index(ascending = False))\n",
        "print()\n"
      ],
      "metadata": {
        "id": "T9G-46ITYx7b",
        "outputId": "b54c7943-7a4f-4fc5-b9f1-bd6bdfe5bed9",
        "colab": {
          "base_uri": "https://localhost:8080/"
        }
      },
      "execution_count": null,
      "outputs": [
        {
          "output_type": "stream",
          "name": "stdout",
          "text": [
            "      이름  학년   학점     학과    동아리\n",
            "정소희  정소희   2  3.5    심리학   음악감상\n",
            "이영희  이영희   2  3.8    경영학   독서토론\n",
            "최지훈  최지훈   4  3.9     의학   봉사활동\n",
            "김철수  김철수   1  4.2  컴퓨터공학  프로그래밍\n",
            "박민수  박민수   3  4.5   전자공학   로봇공학\n",
            "\n",
            "      이름  학년   학점     학과    동아리\n",
            "박민수  박민수   3  4.5   전자공학   로봇공학\n",
            "김철수  김철수   1  4.2  컴퓨터공학  프로그래밍\n",
            "최지훈  최지훈   4  3.9     의학   봉사활동\n",
            "이영희  이영희   2  3.8    경영학   독서토론\n",
            "정소희  정소희   2  3.5    심리학   음악감상\n",
            "\n",
            "      이름  학년   학점     학과    동아리\n",
            "김철수  김철수   1  4.2  컴퓨터공학  프로그래밍\n",
            "이영희  이영희   2  3.8    경영학   독서토론\n",
            "정소희  정소희   2  3.5    심리학   음악감상\n",
            "박민수  박민수   3  4.5   전자공학   로봇공학\n",
            "최지훈  최지훈   4  3.9     의학   봉사활동\n",
            "\n",
            "     학년   학점     학과    동아리\n",
            "이름                        \n",
            "김철수   1  4.2  컴퓨터공학  프로그래밍\n",
            "박민수   3  4.5   전자공학   로봇공학\n",
            "이영희   2  3.8    경영학   독서토론\n",
            "정소희   2  3.5    심리학   음악감상\n",
            "최지훈   4  3.9     의학   봉사활동\n",
            "\n",
            "     학년   학점     학과    동아리\n",
            "이름                        \n",
            "최지훈   4  3.9     의학   봉사활동\n",
            "정소희   2  3.5    심리학   음악감상\n",
            "이영희   2  3.8    경영학   독서토론\n",
            "박민수   3  4.5   전자공학   로봇공학\n",
            "김철수   1  4.2  컴퓨터공학  프로그래밍\n",
            "\n"
          ]
        }
      ]
    },
    {
      "cell_type": "markdown",
      "source": [
        "## 6-5 실습 시나리오 - Kaggle을 활용한 데이터 수집 및 측정"
      ],
      "metadata": {
        "id": "6ui5L5oe8HH-"
      }
    },
    {
      "cell_type": "markdown",
      "source": [
        "- Kaggle([https://www.kaggle.com](https://www.kaggle.com)) 회원 가입\n",
        "- Kaggle 접근 토큰 생성(API 키)\n"
      ],
      "metadata": {
        "id": "kX0puWUc8aNR"
      }
    },
    {
      "cell_type": "markdown",
      "source": [
        "### Kaggle API 키 업로드"
      ],
      "metadata": {
        "id": "RtoqM2Mc98fS"
      }
    },
    {
      "cell_type": "code",
      "source": [
        "from google.colab import files\n",
        "files.upload()"
      ],
      "metadata": {
        "id": "OlIwjX8vaAF6",
        "colab": {
          "base_uri": "https://localhost:8080/",
          "height": 95
        },
        "outputId": "e01c7816-3768-4328-81bc-0ad3984795f6"
      },
      "execution_count": 1,
      "outputs": [
        {
          "output_type": "display_data",
          "data": {
            "text/plain": [
              "<IPython.core.display.HTML object>"
            ],
            "text/html": [
              "\n",
              "     <input type=\"file\" id=\"files-16c12d11-81a2-46fa-b9f1-05fcf0b8fcc6\" name=\"files[]\" multiple disabled\n",
              "        style=\"border:none\" />\n",
              "     <output id=\"result-16c12d11-81a2-46fa-b9f1-05fcf0b8fcc6\">\n",
              "      Upload widget is only available when the cell has been executed in the\n",
              "      current browser session. Please rerun this cell to enable.\n",
              "      </output>\n",
              "      <script>// Copyright 2017 Google LLC\n",
              "//\n",
              "// Licensed under the Apache License, Version 2.0 (the \"License\");\n",
              "// you may not use this file except in compliance with the License.\n",
              "// You may obtain a copy of the License at\n",
              "//\n",
              "//      http://www.apache.org/licenses/LICENSE-2.0\n",
              "//\n",
              "// Unless required by applicable law or agreed to in writing, software\n",
              "// distributed under the License is distributed on an \"AS IS\" BASIS,\n",
              "// WITHOUT WARRANTIES OR CONDITIONS OF ANY KIND, either express or implied.\n",
              "// See the License for the specific language governing permissions and\n",
              "// limitations under the License.\n",
              "\n",
              "/**\n",
              " * @fileoverview Helpers for google.colab Python module.\n",
              " */\n",
              "(function(scope) {\n",
              "function span(text, styleAttributes = {}) {\n",
              "  const element = document.createElement('span');\n",
              "  element.textContent = text;\n",
              "  for (const key of Object.keys(styleAttributes)) {\n",
              "    element.style[key] = styleAttributes[key];\n",
              "  }\n",
              "  return element;\n",
              "}\n",
              "\n",
              "// Max number of bytes which will be uploaded at a time.\n",
              "const MAX_PAYLOAD_SIZE = 100 * 1024;\n",
              "\n",
              "function _uploadFiles(inputId, outputId) {\n",
              "  const steps = uploadFilesStep(inputId, outputId);\n",
              "  const outputElement = document.getElementById(outputId);\n",
              "  // Cache steps on the outputElement to make it available for the next call\n",
              "  // to uploadFilesContinue from Python.\n",
              "  outputElement.steps = steps;\n",
              "\n",
              "  return _uploadFilesContinue(outputId);\n",
              "}\n",
              "\n",
              "// This is roughly an async generator (not supported in the browser yet),\n",
              "// where there are multiple asynchronous steps and the Python side is going\n",
              "// to poll for completion of each step.\n",
              "// This uses a Promise to block the python side on completion of each step,\n",
              "// then passes the result of the previous step as the input to the next step.\n",
              "function _uploadFilesContinue(outputId) {\n",
              "  const outputElement = document.getElementById(outputId);\n",
              "  const steps = outputElement.steps;\n",
              "\n",
              "  const next = steps.next(outputElement.lastPromiseValue);\n",
              "  return Promise.resolve(next.value.promise).then((value) => {\n",
              "    // Cache the last promise value to make it available to the next\n",
              "    // step of the generator.\n",
              "    outputElement.lastPromiseValue = value;\n",
              "    return next.value.response;\n",
              "  });\n",
              "}\n",
              "\n",
              "/**\n",
              " * Generator function which is called between each async step of the upload\n",
              " * process.\n",
              " * @param {string} inputId Element ID of the input file picker element.\n",
              " * @param {string} outputId Element ID of the output display.\n",
              " * @return {!Iterable<!Object>} Iterable of next steps.\n",
              " */\n",
              "function* uploadFilesStep(inputId, outputId) {\n",
              "  const inputElement = document.getElementById(inputId);\n",
              "  inputElement.disabled = false;\n",
              "\n",
              "  const outputElement = document.getElementById(outputId);\n",
              "  outputElement.innerHTML = '';\n",
              "\n",
              "  const pickedPromise = new Promise((resolve) => {\n",
              "    inputElement.addEventListener('change', (e) => {\n",
              "      resolve(e.target.files);\n",
              "    });\n",
              "  });\n",
              "\n",
              "  const cancel = document.createElement('button');\n",
              "  inputElement.parentElement.appendChild(cancel);\n",
              "  cancel.textContent = 'Cancel upload';\n",
              "  const cancelPromise = new Promise((resolve) => {\n",
              "    cancel.onclick = () => {\n",
              "      resolve(null);\n",
              "    };\n",
              "  });\n",
              "\n",
              "  // Wait for the user to pick the files.\n",
              "  const files = yield {\n",
              "    promise: Promise.race([pickedPromise, cancelPromise]),\n",
              "    response: {\n",
              "      action: 'starting',\n",
              "    }\n",
              "  };\n",
              "\n",
              "  cancel.remove();\n",
              "\n",
              "  // Disable the input element since further picks are not allowed.\n",
              "  inputElement.disabled = true;\n",
              "\n",
              "  if (!files) {\n",
              "    return {\n",
              "      response: {\n",
              "        action: 'complete',\n",
              "      }\n",
              "    };\n",
              "  }\n",
              "\n",
              "  for (const file of files) {\n",
              "    const li = document.createElement('li');\n",
              "    li.append(span(file.name, {fontWeight: 'bold'}));\n",
              "    li.append(span(\n",
              "        `(${file.type || 'n/a'}) - ${file.size} bytes, ` +\n",
              "        `last modified: ${\n",
              "            file.lastModifiedDate ? file.lastModifiedDate.toLocaleDateString() :\n",
              "                                    'n/a'} - `));\n",
              "    const percent = span('0% done');\n",
              "    li.appendChild(percent);\n",
              "\n",
              "    outputElement.appendChild(li);\n",
              "\n",
              "    const fileDataPromise = new Promise((resolve) => {\n",
              "      const reader = new FileReader();\n",
              "      reader.onload = (e) => {\n",
              "        resolve(e.target.result);\n",
              "      };\n",
              "      reader.readAsArrayBuffer(file);\n",
              "    });\n",
              "    // Wait for the data to be ready.\n",
              "    let fileData = yield {\n",
              "      promise: fileDataPromise,\n",
              "      response: {\n",
              "        action: 'continue',\n",
              "      }\n",
              "    };\n",
              "\n",
              "    // Use a chunked sending to avoid message size limits. See b/62115660.\n",
              "    let position = 0;\n",
              "    do {\n",
              "      const length = Math.min(fileData.byteLength - position, MAX_PAYLOAD_SIZE);\n",
              "      const chunk = new Uint8Array(fileData, position, length);\n",
              "      position += length;\n",
              "\n",
              "      const base64 = btoa(String.fromCharCode.apply(null, chunk));\n",
              "      yield {\n",
              "        response: {\n",
              "          action: 'append',\n",
              "          file: file.name,\n",
              "          data: base64,\n",
              "        },\n",
              "      };\n",
              "\n",
              "      let percentDone = fileData.byteLength === 0 ?\n",
              "          100 :\n",
              "          Math.round((position / fileData.byteLength) * 100);\n",
              "      percent.textContent = `${percentDone}% done`;\n",
              "\n",
              "    } while (position < fileData.byteLength);\n",
              "  }\n",
              "\n",
              "  // All done.\n",
              "  yield {\n",
              "    response: {\n",
              "      action: 'complete',\n",
              "    }\n",
              "  };\n",
              "}\n",
              "\n",
              "scope.google = scope.google || {};\n",
              "scope.google.colab = scope.google.colab || {};\n",
              "scope.google.colab._files = {\n",
              "  _uploadFiles,\n",
              "  _uploadFilesContinue,\n",
              "};\n",
              "})(self);\n",
              "</script> "
            ]
          },
          "metadata": {}
        },
        {
          "output_type": "stream",
          "name": "stdout",
          "text": [
            "Saving kaggle.json to kaggle.json\n"
          ]
        },
        {
          "output_type": "execute_result",
          "data": {
            "text/plain": [
              "{'kaggle.json': b'{\"username\":\"jihyunsim0212\",\"key\":\"f1355fc0d3691a5412d9c8bdc3571972\"}'}"
            ]
          },
          "metadata": {},
          "execution_count": 1
        }
      ]
    },
    {
      "cell_type": "markdown",
      "source": [
        "### Kaggle API 키 사용을 위한 Colab 환경 설정"
      ],
      "metadata": {
        "id": "V3YAacMY-KAV"
      }
    },
    {
      "cell_type": "code",
      "source": [
        "!mkdir -p ~/.kaggle\n",
        "!cp kaggle.json ~/.kaggle/\n",
        "!chmod 600 ~/.kaggle/kaggle.json"
      ],
      "metadata": {
        "id": "9bknQa2TaDRD"
      },
      "execution_count": 2,
      "outputs": []
    },
    {
      "cell_type": "markdown",
      "source": [
        "### Kaggle 데이터셋 다운로드"
      ],
      "metadata": {
        "id": "Dv2PN16j-ip4"
      }
    },
    {
      "cell_type": "code",
      "source": [
        "!kaggle competitions download -c store-sales-time-series-forecasting\n",
        "\n",
        "!unzip store-sales-time-series-forecasting.zip"
      ],
      "metadata": {
        "id": "nemk0pNOaEvh",
        "colab": {
          "base_uri": "https://localhost:8080/"
        },
        "outputId": "fbb5c1b7-8e6b-4750-a9e7-f8824f3861a5"
      },
      "execution_count": 6,
      "outputs": [
        {
          "output_type": "stream",
          "name": "stdout",
          "text": [
            "Downloading store-sales-time-series-forecasting.zip to /content\n",
            "\r  0% 0.00/21.4M [00:00<?, ?B/s]\n",
            "\r100% 21.4M/21.4M [00:00<00:00, 1.14GB/s]\n",
            "Archive:  store-sales-time-series-forecasting.zip\n",
            "  inflating: holidays_events.csv     \n",
            "  inflating: oil.csv                 \n",
            "  inflating: sample_submission.csv   \n",
            "  inflating: stores.csv              \n",
            "  inflating: test.csv                \n",
            "  inflating: train.csv               \n",
            "  inflating: transactions.csv        \n"
          ]
        }
      ]
    },
    {
      "cell_type": "markdown",
      "source": [
        "### Kaggle 데이터셋 DataFrame 로드 및 살펴보기"
      ],
      "metadata": {
        "id": "o31gdHgx-pik"
      }
    },
    {
      "cell_type": "code",
      "source": [
        "import pandas as pd\n",
        "\n",
        "# Grocery Sales 데이터 DataFrame 로드\n",
        "train = pd.read_csv('train.csv')\n",
        "stores = pd.read_csv('transactions.csv')\n",
        "oil = pd.read_csv('oil.csv')\n",
        "holidays = pd.read_csv('holidays_events.csv')\n",
        "\n",
        "# 판매 데이터 살펴보기\n",
        "print('학습 데이터 기본 정보 : ')\n",
        "display(train.info())"
      ],
      "metadata": {
        "id": "QSoBpU9caKQ-",
        "colab": {
          "base_uri": "https://localhost:8080/",
          "height": 289
        },
        "outputId": "36978a72-dbf1-4fb3-c853-e8f760e14fc7"
      },
      "execution_count": 8,
      "outputs": [
        {
          "output_type": "stream",
          "name": "stdout",
          "text": [
            "학습 데이터 기본 정보 : \n",
            "<class 'pandas.core.frame.DataFrame'>\n",
            "RangeIndex: 3000888 entries, 0 to 3000887\n",
            "Data columns (total 6 columns):\n",
            " #   Column       Dtype  \n",
            "---  ------       -----  \n",
            " 0   id           int64  \n",
            " 1   date         object \n",
            " 2   store_nbr    int64  \n",
            " 3   family       object \n",
            " 4   sales        float64\n",
            " 5   onpromotion  int64  \n",
            "dtypes: float64(1), int64(3), object(2)\n",
            "memory usage: 137.4+ MB\n"
          ]
        },
        {
          "output_type": "display_data",
          "data": {
            "text/plain": [
              "None"
            ]
          },
          "metadata": {}
        }
      ]
    },
    {
      "cell_type": "markdown",
      "source": [
        "### Kaggle 데이터셋 측정"
      ],
      "metadata": {
        "id": "-B_aRee0_CXf"
      }
    },
    {
      "cell_type": "code",
      "source": [
        "# 판매 데이터 기본 통계량\n",
        "print('판매 데이터의 기본 통계량 : ')\n",
        "print(train.describe())\n",
        "\n",
        "# 매장 데이터 기본 정보\n",
        "print('\\n매장 데이터의 기본 정보 : ')\n",
        "print(stores.head())\n",
        "\n",
        "# 원유 가격 데이터 기본 정보\n",
        "print('\\n원유 가격 데이터 기본 정보 : ')\n",
        "print(oil.head())"
      ],
      "metadata": {
        "id": "d00dD1V0aNoO",
        "colab": {
          "base_uri": "https://localhost:8080/"
        },
        "outputId": "00720aec-ac23-43b3-a167-33e3a50ee98a"
      },
      "execution_count": 9,
      "outputs": [
        {
          "output_type": "stream",
          "name": "stdout",
          "text": [
            "판매 데이터의 기본 통계량 : \n",
            "                 id     store_nbr         sales   onpromotion\n",
            "count  3.000888e+06  3.000888e+06  3.000888e+06  3.000888e+06\n",
            "mean   1.500444e+06  2.750000e+01  3.577757e+02  2.602770e+00\n",
            "std    8.662819e+05  1.558579e+01  1.101998e+03  1.221888e+01\n",
            "min    0.000000e+00  1.000000e+00  0.000000e+00  0.000000e+00\n",
            "25%    7.502218e+05  1.400000e+01  0.000000e+00  0.000000e+00\n",
            "50%    1.500444e+06  2.750000e+01  1.100000e+01  0.000000e+00\n",
            "75%    2.250665e+06  4.100000e+01  1.958473e+02  0.000000e+00\n",
            "max    3.000887e+06  5.400000e+01  1.247170e+05  7.410000e+02\n",
            "\n",
            "매장 데이터의 기본 정보 : \n",
            "         date  store_nbr  transactions\n",
            "0  2013-01-01         25           770\n",
            "1  2013-01-02          1          2111\n",
            "2  2013-01-02          2          2358\n",
            "3  2013-01-02          3          3487\n",
            "4  2013-01-02          4          1922\n",
            "\n",
            "원유 가격 데이터 기본 정보 : \n",
            "         date  dcoilwtico\n",
            "0  2013-01-01         NaN\n",
            "1  2013-01-02       93.14\n",
            "2  2013-01-03       92.97\n",
            "3  2013-01-04       93.12\n",
            "4  2013-01-07       93.20\n"
          ]
        }
      ]
    }
  ]
}