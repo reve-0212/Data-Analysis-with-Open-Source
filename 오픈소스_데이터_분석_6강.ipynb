{
  "nbformat": 4,
  "nbformat_minor": 0,
  "metadata": {
    "colab": {
      "provenance": [],
      "include_colab_link": true
    },
    "kernelspec": {
      "name": "python3",
      "display_name": "Python 3"
    },
    "language_info": {
      "name": "python"
    }
  },
  "cells": [
    {
      "cell_type": "markdown",
      "metadata": {
        "id": "view-in-github",
        "colab_type": "text"
      },
      "source": [
        "<a href=\"https://colab.research.google.com/github/reve-0212/Data-Analysis-with-Open-Source/blob/main/%EC%98%A4%ED%94%88%EC%86%8C%EC%8A%A4_%EB%8D%B0%EC%9D%B4%ED%84%B0_%EB%B6%84%EC%84%9D_6%EA%B0%95.ipynb\" target=\"_parent\"><img src=\"https://colab.research.google.com/assets/colab-badge.svg\" alt=\"Open In Colab\"/></a>"
      ]
    },
    {
      "cell_type": "markdown",
      "source": [
        "# 오픈소스 기반 데이터 분석 6강 - 데이터 전처리 1"
      ],
      "metadata": {
        "id": "1Ld5KWf86hIu"
      }
    },
    {
      "cell_type": "markdown",
      "source": [
        "### 6-1 데이터 훑어보기"
      ],
      "metadata": {
        "id": "XqpCWf2063pN"
      }
    },
    {
      "cell_type": "code",
      "source": [
        "import pandas as pd\n",
        "from sklearn.cluster import KMeans\n",
        "\n",
        "data = {'나이':[25, 30, 22, 35, 40, 50, 28, 33, 45, 55],\n",
        "        '소득':[3000,4000,2800,5000,6000,7000,3200,4500,6200, 7200]}\n",
        "df = pd.DataFrame(data)\n",
        "\n",
        "kmeans = KMeans(n_clusters=3, random_state = 42)\n",
        "df['군집'] = kmeans.fit_predict(df[['나이', '소득']])\n",
        "\n",
        "print(df)"
      ],
      "metadata": {
        "id": "WqTc-oI_opXq",
        "outputId": "861c3c92-c44b-4139-fc53-72227340f944",
        "colab": {
          "base_uri": "https://localhost:8080/"
        }
      },
      "execution_count": null,
      "outputs": [
        {
          "output_type": "stream",
          "name": "stdout",
          "text": [
            "   나이    소득  군집\n",
            "0  25  3000   1\n",
            "1  30  4000   1\n",
            "2  22  2800   1\n",
            "3  35  5000   0\n",
            "4  40  6000   2\n",
            "5  50  7000   2\n",
            "6  28  3200   1\n",
            "7  33  4500   0\n",
            "8  45  6200   2\n",
            "9  55  7200   2\n"
          ]
        }
      ]
    },
    {
      "cell_type": "code",
      "source": [
        "import pandas as pd\n",
        "import numpy as np\n",
        "\n",
        "data = {\n",
        "    'name': ['김민수', '이지영', '박준호', '최서연', '정도윤'],\n",
        "    'age': [25, 30, 28, 22, 35],\n",
        "    'city': ['서울', '부산', '인천', '서울', '대전'],\n",
        "    'score': [90, 85, 95, 80, np.nan]\n",
        "}\n",
        "df = pd.DataFrame(data)\n",
        "\n",
        "# 데이터 측정\n",
        "print('1. 기본 describe() : ')\n",
        "print(df.describe())\n",
        "print()\n",
        "\n",
        "# 모든 데이터 타입 측정\n",
        "print('2. 모든 데이터 타입 : ')\n",
        "print(df.describe(include='all'))\n",
        "print()\n",
        "\n",
        "# 수치형 데이터 측정\n",
        "print('3. 수치형 데이터만 : ')\n",
        "print(df.describe(include = [np.number]))\n",
        "print()\n",
        "\n",
        "# 범주형 데이터 측정\n",
        "print('4. 범주형 데이터만 : ')\n",
        "print(df.describe(include = ['object']))\n",
        "print()\n",
        "\n",
        "# 모든 데이터 타입 측정\n",
        "print('5. score 열 분석 : ')\n",
        "print(df['score'].describe())\n",
        "print()\n",
        "\n",
        "#\n",
        "\n",
        "\n",
        "# 특정 열 분석\n"
      ],
      "metadata": {
        "id": "TKsIqpFtYVVS",
        "outputId": "8b4bd4d6-9863-4a18-b43d-de3299a2a7e7",
        "colab": {
          "base_uri": "https://localhost:8080/"
        }
      },
      "execution_count": 2,
      "outputs": [
        {
          "output_type": "stream",
          "name": "stdout",
          "text": [
            "1. 기본 describe() : \n",
            "             age      score\n",
            "count   5.000000   4.000000\n",
            "mean   28.000000  87.500000\n",
            "std     4.949747   6.454972\n",
            "min    22.000000  80.000000\n",
            "25%    25.000000  83.750000\n",
            "50%    28.000000  87.500000\n",
            "75%    30.000000  91.250000\n",
            "max    35.000000  95.000000\n",
            "\n",
            "2. 모든 데이터 타입 : \n",
            "       name        age city      score\n",
            "count     5   5.000000    5   4.000000\n",
            "unique    5        NaN    4        NaN\n",
            "top     김민수        NaN   서울        NaN\n",
            "freq      1        NaN    2        NaN\n",
            "mean    NaN  28.000000  NaN  87.500000\n",
            "std     NaN   4.949747  NaN   6.454972\n",
            "min     NaN  22.000000  NaN  80.000000\n",
            "25%     NaN  25.000000  NaN  83.750000\n",
            "50%     NaN  28.000000  NaN  87.500000\n",
            "75%     NaN  30.000000  NaN  91.250000\n",
            "max     NaN  35.000000  NaN  95.000000\n",
            "\n",
            "3. 수치형 데이터만 : \n",
            "             age      score\n",
            "count   5.000000   4.000000\n",
            "mean   28.000000  87.500000\n",
            "std     4.949747   6.454972\n",
            "min    22.000000  80.000000\n",
            "25%    25.000000  83.750000\n",
            "50%    28.000000  87.500000\n",
            "75%    30.000000  91.250000\n",
            "max    35.000000  95.000000\n",
            "\n",
            "4. 범주형 데이터만 : \n",
            "       name city\n",
            "count     5    5\n",
            "unique    5    4\n",
            "top     김민수   서울\n",
            "freq      1    2\n",
            "\n",
            "5. score 열 분석 : \n",
            "count     4.000000\n",
            "mean     87.500000\n",
            "std       6.454972\n",
            "min      80.000000\n",
            "25%      83.750000\n",
            "50%      87.500000\n",
            "75%      91.250000\n",
            "max      95.000000\n",
            "Name: score, dtype: float64\n",
            "\n"
          ]
        }
      ]
    },
    {
      "cell_type": "markdown",
      "source": [
        "### 6-2 DataFrame 열 선택 및 **조작**"
      ],
      "metadata": {
        "id": "HezV4iK1BmrB"
      }
    },
    {
      "cell_type": "code",
      "source": [
        "import pandas as pd\n",
        "\n",
        "data = {\n",
        "    \"이름\": [\"김철수\", \"이영희\", \"박민수\", \"최지훈\", \"정소희\"],\n",
        "    \"학년\": [1, 2, 3, 4, 2],\n",
        "    \"학점\": [4.2, 3.8, 4.5, 3.9, 3.5],\n",
        "    \"학과\": [\"컴퓨터공학\", \"경영학\", \"전자공학\", \"의학\", \"심리학\"],\n",
        "    \"동아리\": [\"프로그래밍\", \"독서토론\", \"로봇공학\", \"봉사활동\", \"음악감상\"]\n",
        "}\n",
        "df = pd.DataFrame(data)\n",
        "\n",
        "# 특정 열 선택\n",
        "selected_cols = df[['이름','학과','학점']]\n",
        "print('2. 특정 열만 선택 : ')\n",
        "print(selected_cols)\n",
        "print()\n",
        "\n",
        "# DataFrame 열순서 변경\n",
        "reordered_cols = df[['학과','이름','학년','학점','동아리']]\n",
        "print('3. 열 순서 변경 : ')\n",
        "print(reordered_cols)\n",
        "\n",
        "# DataFrame 열이름 변경\n",
        "df_renamed = df.rename(columns = {'이름':'학생명', '학점':'평점', '동아리':'과외활동'})\n",
        "print('4. 열 이름 변경 : ')\n",
        "print(df_renamed)\n"
      ],
      "metadata": {
        "id": "23DbuKjzYcpS",
        "outputId": "397c748e-c1f5-406f-b861-78d93dcef73e",
        "colab": {
          "base_uri": "https://localhost:8080/"
        }
      },
      "execution_count": 6,
      "outputs": [
        {
          "output_type": "stream",
          "name": "stdout",
          "text": [
            "2. 특정 열만 선택 : \n",
            "    이름     학과   학점\n",
            "0  김철수  컴퓨터공학  4.2\n",
            "1  이영희    경영학  3.8\n",
            "2  박민수   전자공학  4.5\n",
            "3  최지훈     의학  3.9\n",
            "4  정소희    심리학  3.5\n",
            "\n",
            "3. 열 순서 변경 : \n",
            "      학과   이름  학년   학점    동아리\n",
            "0  컴퓨터공학  김철수   1  4.2  프로그래밍\n",
            "1    경영학  이영희   2  3.8   독서토론\n",
            "2   전자공학  박민수   3  4.5   로봇공학\n",
            "3     의학  최지훈   4  3.9   봉사활동\n",
            "4    심리학  정소희   2  3.5   음악감상\n",
            "4. 열 이름 변경 : \n",
            "   학생명  학년   평점     학과   과외활동\n",
            "0  김철수   1  4.2  컴퓨터공학  프로그래밍\n",
            "1  이영희   2  3.8    경영학   독서토론\n",
            "2  박민수   3  4.5   전자공학   로봇공학\n",
            "3  최지훈   4  3.9     의학   봉사활동\n",
            "4  정소희   2  3.5    심리학   음악감상\n"
          ]
        }
      ]
    },
    {
      "cell_type": "markdown",
      "source": [
        "### 6-3 DataFrame 행 선택"
      ],
      "metadata": {
        "id": "lZ2fkkq7B9NN"
      }
    },
    {
      "cell_type": "code",
      "source": [
        "import pandas as pd\n",
        "\n",
        "data = {\n",
        "    \"이름\": [\"김철수\", \"이영희\", \"박민수\", \"최지훈\", \"정소희\"],\n",
        "    \"학년\": [1, 2, 3, 4, 2],\n",
        "    \"학점\": [4.2, 3.8, 4.5, 3.9, 3.5],\n",
        "    \"학과\": [\"컴퓨터공학\", \"경영학\", \"전자공학\", \"의학\", \"심리학\"],\n",
        "    \"동아리\": [\"프로그래밍\", \"독서토론\", \"로봇공학\", \"봉사활동\", \"음악감상\"]\n",
        "}\n",
        "\n",
        "df = pd.DataFrame(data, index = data['이름'])\n",
        "#DataFrame 인덱스 지정\n",
        "print('df.loc[김철수]------------------------------')\n",
        "print(df.loc['김철수'])\n",
        "print()\n",
        "\n",
        "print('df.loc[김철수:박민수]-----------------------')\n",
        "print(df.loc['김철수':'박민수'])\n",
        "print()\n",
        "\n",
        "#DataFrame 행 선택\n",
        "print('df.iloc[1]---------------------')\n",
        "print(df.iloc[1])\n",
        "print()\n",
        "\n",
        "print('df.iloc[0:3]--------------------')\n",
        "print(df.iloc[0:3])\n",
        "print()\n",
        "\n",
        "#DataFrame 위치 기반 행 선택\n",
        "print('df[df[학점]>=4.0]----------------')\n",
        "print(df[df['학점']>=4.0])\n",
        "print()\n",
        "\n",
        "print('df[df[학년]==2]----------------------')\n",
        "print(df[df['학년']==2])\n",
        "print()\n",
        "\n",
        "print('df[(df[학년]==2) & (df[학점]>=3.7)]-----------------------')\n",
        "print(df[(df['학년']==2) & (df['학점']>=3.7)])\n",
        "\n",
        "\n",
        "#DataFrame 조건 기반 선택\n"
      ],
      "metadata": {
        "id": "Iztna0YTYe_e",
        "outputId": "4f975967-5b13-46ea-d4a5-3928de7649c9",
        "colab": {
          "base_uri": "https://localhost:8080/"
        }
      },
      "execution_count": 13,
      "outputs": [
        {
          "output_type": "stream",
          "name": "stdout",
          "text": [
            "df.loc[김철수]------------------------------\n",
            "이름       김철수\n",
            "학년         1\n",
            "학점       4.2\n",
            "학과     컴퓨터공학\n",
            "동아리    프로그래밍\n",
            "Name: 김철수, dtype: object\n",
            "\n",
            "df.loc[김철수:박민수]-----------------------\n",
            "      이름  학년   학점     학과    동아리\n",
            "김철수  김철수   1  4.2  컴퓨터공학  프로그래밍\n",
            "이영희  이영희   2  3.8    경영학   독서토론\n",
            "박민수  박민수   3  4.5   전자공학   로봇공학\n",
            "\n",
            "df.iloc[1]---------------------\n",
            "이름      이영희\n",
            "학년        2\n",
            "학점      3.8\n",
            "학과      경영학\n",
            "동아리    독서토론\n",
            "Name: 이영희, dtype: object\n",
            "\n",
            "df.iloc[0:3]--------------------\n",
            "      이름  학년   학점     학과    동아리\n",
            "김철수  김철수   1  4.2  컴퓨터공학  프로그래밍\n",
            "이영희  이영희   2  3.8    경영학   독서토론\n",
            "박민수  박민수   3  4.5   전자공학   로봇공학\n",
            "\n",
            "df[df[학점]>=4.0]----------------\n",
            "      이름  학년   학점     학과    동아리\n",
            "김철수  김철수   1  4.2  컴퓨터공학  프로그래밍\n",
            "박민수  박민수   3  4.5   전자공학   로봇공학\n",
            "\n",
            "df[df[학년]==2]----------------------\n",
            "      이름  학년   학점   학과   동아리\n",
            "이영희  이영희   2  3.8  경영학  독서토론\n",
            "정소희  정소희   2  3.5  심리학  음악감상\n",
            "\n",
            "df[(df[학년]==2) & (df[학점]>=3.7)]-----------------------\n",
            "      이름  학년   학점   학과   동아리\n",
            "이영희  이영희   2  3.8  경영학  독서토론\n"
          ]
        }
      ]
    },
    {
      "cell_type": "markdown",
      "source": [
        "### 6-4 DataFrame 정렬"
      ],
      "metadata": {
        "id": "EX3RYr5jCfka"
      }
    },
    {
      "cell_type": "markdown",
      "source": [],
      "metadata": {
        "id": "G_mEibnYC_tQ"
      }
    },
    {
      "cell_type": "code",
      "source": [
        "import pandas as pd\n",
        "\n",
        "data = {\n",
        "    \"이름\": [\"김철수\", \"이영희\", \"박민수\", \"최지훈\", \"정소희\"],\n",
        "    \"학년\": [1, 2, 3, 4, 2],\n",
        "    \"학점\": [4.2, 3.8, 4.5, 3.9, 3.5],\n",
        "    \"학과\": [\"컴퓨터공학\", \"경영학\", \"전자공학\", \"의학\", \"심리학\"],\n",
        "    \"동아리\": [\"프로그래밍\", \"독서토론\", \"로봇공학\", \"봉사활동\", \"음악감상\"]\n",
        "}\n",
        "\n",
        "#DataFrame 인덱스 지정\n",
        "df_indexed = pd.DataFrame(data).set_index('이름')\n",
        "\n",
        "#DataFrame 단일 열 오름차순, 내림차순 정렬\n",
        "print(df.sort_values(by='학점'))\n",
        "print()\n",
        "print(df.sort_values(by='학점', ascending = False))\n",
        "print()\n",
        "print(df.sort_values(by = ['학년','학점'], ascending = [True, False]))\n",
        "print()\n",
        "\n",
        "#DataFrame 복수 열 오름차순, 내림차순 정렬\n",
        "print(df_indexed.sort_index())\n",
        "print()\n",
        "\n",
        "#DataFrame 인덱스 기분 오른차순, 내림차순 정렬\n",
        "print(df_indexed.sort_index(ascending = False))\n",
        "print()\n"
      ],
      "metadata": {
        "id": "T9G-46ITYx7b",
        "outputId": "b54c7943-7a4f-4fc5-b9f1-bd6bdfe5bed9",
        "colab": {
          "base_uri": "https://localhost:8080/"
        }
      },
      "execution_count": 15,
      "outputs": [
        {
          "output_type": "stream",
          "name": "stdout",
          "text": [
            "      이름  학년   학점     학과    동아리\n",
            "정소희  정소희   2  3.5    심리학   음악감상\n",
            "이영희  이영희   2  3.8    경영학   독서토론\n",
            "최지훈  최지훈   4  3.9     의학   봉사활동\n",
            "김철수  김철수   1  4.2  컴퓨터공학  프로그래밍\n",
            "박민수  박민수   3  4.5   전자공학   로봇공학\n",
            "\n",
            "      이름  학년   학점     학과    동아리\n",
            "박민수  박민수   3  4.5   전자공학   로봇공학\n",
            "김철수  김철수   1  4.2  컴퓨터공학  프로그래밍\n",
            "최지훈  최지훈   4  3.9     의학   봉사활동\n",
            "이영희  이영희   2  3.8    경영학   독서토론\n",
            "정소희  정소희   2  3.5    심리학   음악감상\n",
            "\n",
            "      이름  학년   학점     학과    동아리\n",
            "김철수  김철수   1  4.2  컴퓨터공학  프로그래밍\n",
            "이영희  이영희   2  3.8    경영학   독서토론\n",
            "정소희  정소희   2  3.5    심리학   음악감상\n",
            "박민수  박민수   3  4.5   전자공학   로봇공학\n",
            "최지훈  최지훈   4  3.9     의학   봉사활동\n",
            "\n",
            "     학년   학점     학과    동아리\n",
            "이름                        \n",
            "김철수   1  4.2  컴퓨터공학  프로그래밍\n",
            "박민수   3  4.5   전자공학   로봇공학\n",
            "이영희   2  3.8    경영학   독서토론\n",
            "정소희   2  3.5    심리학   음악감상\n",
            "최지훈   4  3.9     의학   봉사활동\n",
            "\n",
            "     학년   학점     학과    동아리\n",
            "이름                        \n",
            "최지훈   4  3.9     의학   봉사활동\n",
            "정소희   2  3.5    심리학   음악감상\n",
            "이영희   2  3.8    경영학   독서토론\n",
            "박민수   3  4.5   전자공학   로봇공학\n",
            "김철수   1  4.2  컴퓨터공학  프로그래밍\n",
            "\n"
          ]
        }
      ]
    },
    {
      "cell_type": "markdown",
      "source": [
        "## 6-5 실습 시나리오 - Kaggle을 활용한 데이터 수집 및 측정"
      ],
      "metadata": {
        "id": "6ui5L5oe8HH-"
      }
    },
    {
      "cell_type": "markdown",
      "source": [
        "- Kaggle([https://www.kaggle.com](https://www.kaggle.com)) 회원 가입\n",
        "- Kaggle 접근 토큰 생성(API 키)\n"
      ],
      "metadata": {
        "id": "kX0puWUc8aNR"
      }
    },
    {
      "cell_type": "markdown",
      "source": [
        "### Kaggle API 키 업로드"
      ],
      "metadata": {
        "id": "RtoqM2Mc98fS"
      }
    },
    {
      "cell_type": "code",
      "source": [
        "from google.colab import files\n",
        "files.upload()"
      ],
      "metadata": {
        "id": "OlIwjX8vaAF6"
      },
      "execution_count": null,
      "outputs": []
    },
    {
      "cell_type": "markdown",
      "source": [
        "### Kaggle API 키 사용을 위한 Colab 환경 설정"
      ],
      "metadata": {
        "id": "V3YAacMY-KAV"
      }
    },
    {
      "cell_type": "code",
      "source": [
        "!mkdir -p ~/.kaggle\n",
        "!cp kaggle.json ~/.kaggle/\n",
        "!chmod 600 ~/.kaggle/kaggle.json"
      ],
      "metadata": {
        "id": "9bknQa2TaDRD"
      },
      "execution_count": null,
      "outputs": []
    },
    {
      "cell_type": "markdown",
      "source": [
        "### Kaggle 데이터셋 다운로드"
      ],
      "metadata": {
        "id": "Dv2PN16j-ip4"
      }
    },
    {
      "cell_type": "code",
      "source": [
        "!kaggle competitions download –c store-sales-time-series-forecasting\n",
        "\n",
        "!unzip store-sales-time-series-forecasting.zip"
      ],
      "metadata": {
        "id": "nemk0pNOaEvh"
      },
      "execution_count": null,
      "outputs": []
    },
    {
      "cell_type": "markdown",
      "source": [
        "### Kaggle 데이터셋 DataFrame 로드 및 살펴보기"
      ],
      "metadata": {
        "id": "o31gdHgx-pik"
      }
    },
    {
      "cell_type": "code",
      "source": [
        "import pandas as pd\n",
        "\n",
        "# Grocery Sales 데이터 DataFrame 로드\n",
        "\n",
        "# 판매 데이터 살펴보기\n"
      ],
      "metadata": {
        "id": "QSoBpU9caKQ-"
      },
      "execution_count": null,
      "outputs": []
    },
    {
      "cell_type": "markdown",
      "source": [
        "### Kaggle 데이터셋 측정"
      ],
      "metadata": {
        "id": "-B_aRee0_CXf"
      }
    },
    {
      "cell_type": "code",
      "source": [
        "# 판매 데이터 기본 통계량\n",
        "\n",
        "# 매장 데이터 기본 정보\n",
        "\n",
        "# 원유 가격 데이터 기본 정보\n"
      ],
      "metadata": {
        "id": "d00dD1V0aNoO"
      },
      "execution_count": null,
      "outputs": []
    }
  ]
}