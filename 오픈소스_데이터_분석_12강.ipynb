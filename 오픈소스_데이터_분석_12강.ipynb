{
  "nbformat": 4,
  "nbformat_minor": 0,
  "metadata": {
    "colab": {
      "provenance": [],
      "gpuType": "T4",
      "include_colab_link": true
    },
    "kernelspec": {
      "name": "python3",
      "display_name": "Python 3"
    },
    "language_info": {
      "name": "python"
    },
    "accelerator": "GPU"
  },
  "cells": [
    {
      "cell_type": "markdown",
      "metadata": {
        "id": "view-in-github",
        "colab_type": "text"
      },
      "source": [
        "<a href=\"https://colab.research.google.com/github/reve-0212/Data-Analysis-with-Open-Source/blob/main/%EC%98%A4%ED%94%88%EC%86%8C%EC%8A%A4_%EB%8D%B0%EC%9D%B4%ED%84%B0_%EB%B6%84%EC%84%9D_12%EA%B0%95.ipynb\" target=\"_parent\"><img src=\"https://colab.research.google.com/assets/colab-badge.svg\" alt=\"Open In Colab\"/></a>"
      ]
    },
    {
      "cell_type": "markdown",
      "source": [
        "# 12강 정형 데이터 분석 : 서울시 공공 자전거 데이터 활용\n",
        "\n",
        "### 목표\n",
        "\n",
        "공공 자전거 이용 특성을 파악하고, 날씨와 자전거 이용량의 상관관계를 분석하여 데이터 기반의 정책 수립에 필요한 인사이트를 도출\n",
        "\n",
        "### 분석 프로세스 개요\n",
        "\n",
        "1. 데이터 수집 및 전처리\n",
        "  - CSV 형태의 데이터 수집\n",
        "  - 기초 통계량 산출\n",
        "  - 결측치 처리 및 이상치 제거\n",
        "  - 날짜/시간 데이터 형식 변환\n",
        "2. 데이터 분석\n",
        "  - 시계열 패턴 분석\n",
        "3. 연계 분석\n",
        "  - 강수량 데이터와의 연계 분석\n",
        "  - 상관관계 분석\n",
        "  - 정책 제언으로 연결"
      ],
      "metadata": {
        "id": "EZhL8Dh2fXOv"
      }
    },
    {
      "cell_type": "code",
      "source": [
        "# 한글 처리를 위한 matplotlib 설정 (1)\n",
        "\n",
        "!sudo apt-get install -y fonts-nanum\n",
        "!sudo fc-cache –fv\n",
        "!rm ~/.cache/matplotlib -rf"
      ],
      "metadata": {
        "id": "MX4krAdHjx2Y",
        "colab": {
          "base_uri": "https://localhost:8080/"
        },
        "outputId": "11b695fc-69ad-473f-a5ee-5887bb0811a2"
      },
      "execution_count": 12,
      "outputs": [
        {
          "output_type": "stream",
          "name": "stdout",
          "text": [
            "Reading package lists... Done\n",
            "Building dependency tree... Done\n",
            "Reading state information... Done\n",
            "fonts-nanum is already the newest version (20200506-1).\n",
            "0 upgraded, 0 newly installed, 0 to remove and 35 not upgraded.\n"
          ]
        }
      ]
    },
    {
      "cell_type": "markdown",
      "source": [
        "- 런타임 -> 세션 다시 시작"
      ],
      "metadata": {
        "id": "UO0Qyqdnj1e9"
      }
    },
    {
      "cell_type": "code",
      "source": [
        "# 한글 처리를 위한 matplotlib 설정 (2)\n",
        "\n",
        "import matplotlib.pyplot as plt\n",
        "plt.rc('font', family='NanumBarunGothic')"
      ],
      "metadata": {
        "id": "oGHdeZdNj2CY"
      },
      "execution_count": 1,
      "outputs": []
    },
    {
      "cell_type": "markdown",
      "source": [
        "# 1. 데이터 수집 및 전처리"
      ],
      "metadata": {
        "id": "BMJzw0zqmOa8"
      }
    },
    {
      "cell_type": "markdown",
      "source": [
        "### 12-1 따릉이 대역 기록 2023-04 업로드 및 압축 해제\n",
        "\n",
        "- 따릉이 데이터 다운로드\n",
        "  - [서울 열린데이터 광장](https://data.seoul.go.kr)\n",
        "  - 검색어 : 따릉이\n",
        "  - 서울시 따릉이 대여소별 대여/반납 승객수 정보\n",
        "  - 2023-04 다운로드 후 업로드"
      ],
      "metadata": {
        "id": "_eBHEQ-bjS43"
      }
    },
    {
      "cell_type": "code",
      "source": [
        "!unzip tpss_bcycl_od_statnhm_202304.zip -d tpss_bcycl_od_statnhm_202304"
      ],
      "metadata": {
        "id": "DHqKgEYFjPoG",
        "colab": {
          "base_uri": "https://localhost:8080/"
        },
        "outputId": "e34cc07b-da9b-4f15-f260-ed9beb160764"
      },
      "execution_count": 4,
      "outputs": [
        {
          "output_type": "stream",
          "name": "stdout",
          "text": [
            "Archive:  tpss_bcycl_od_statnhm_202304.zip\n",
            "  inflating: tpss_bcycl_od_statnhm_202304/tpss_bcycl_od_statnhm_20230401.csv  \n",
            "  inflating: tpss_bcycl_od_statnhm_202304/tpss_bcycl_od_statnhm_20230402.csv  \n",
            "  inflating: tpss_bcycl_od_statnhm_202304/tpss_bcycl_od_statnhm_20230403.csv  \n",
            "  inflating: tpss_bcycl_od_statnhm_202304/tpss_bcycl_od_statnhm_20230404.csv  \n",
            "  inflating: tpss_bcycl_od_statnhm_202304/tpss_bcycl_od_statnhm_20230405.csv  \n",
            "  inflating: tpss_bcycl_od_statnhm_202304/tpss_bcycl_od_statnhm_20230406.csv  \n",
            "  inflating: tpss_bcycl_od_statnhm_202304/tpss_bcycl_od_statnhm_20230407.csv  \n",
            "  inflating: tpss_bcycl_od_statnhm_202304/tpss_bcycl_od_statnhm_20230408.csv  \n",
            "  inflating: tpss_bcycl_od_statnhm_202304/tpss_bcycl_od_statnhm_20230409.csv  \n",
            "  inflating: tpss_bcycl_od_statnhm_202304/tpss_bcycl_od_statnhm_20230410.csv  \n",
            "  inflating: tpss_bcycl_od_statnhm_202304/tpss_bcycl_od_statnhm_20230411.csv  \n",
            "  inflating: tpss_bcycl_od_statnhm_202304/tpss_bcycl_od_statnhm_20230412.csv  \n",
            "  inflating: tpss_bcycl_od_statnhm_202304/tpss_bcycl_od_statnhm_20230413.csv  \n",
            "  inflating: tpss_bcycl_od_statnhm_202304/tpss_bcycl_od_statnhm_20230414.csv  \n",
            "  inflating: tpss_bcycl_od_statnhm_202304/tpss_bcycl_od_statnhm_20230415.csv  \n",
            "  inflating: tpss_bcycl_od_statnhm_202304/tpss_bcycl_od_statnhm_20230416.csv  \n",
            "  inflating: tpss_bcycl_od_statnhm_202304/tpss_bcycl_od_statnhm_20230417.csv  \n",
            "  inflating: tpss_bcycl_od_statnhm_202304/tpss_bcycl_od_statnhm_20230418.csv  \n",
            "  inflating: tpss_bcycl_od_statnhm_202304/tpss_bcycl_od_statnhm_20230419.csv  \n",
            "  inflating: tpss_bcycl_od_statnhm_202304/tpss_bcycl_od_statnhm_20230420.csv  \n",
            "  inflating: tpss_bcycl_od_statnhm_202304/tpss_bcycl_od_statnhm_20230421.csv  \n",
            "  inflating: tpss_bcycl_od_statnhm_202304/tpss_bcycl_od_statnhm_20230422.csv  \n",
            "  inflating: tpss_bcycl_od_statnhm_202304/tpss_bcycl_od_statnhm_20230423.csv  \n",
            "  inflating: tpss_bcycl_od_statnhm_202304/tpss_bcycl_od_statnhm_20230424.csv  \n",
            "  inflating: tpss_bcycl_od_statnhm_202304/tpss_bcycl_od_statnhm_20230425.csv  \n",
            "  inflating: tpss_bcycl_od_statnhm_202304/tpss_bcycl_od_statnhm_20230426.csv  \n",
            "  inflating: tpss_bcycl_od_statnhm_202304/tpss_bcycl_od_statnhm_20230427.csv  \n",
            "  inflating: tpss_bcycl_od_statnhm_202304/tpss_bcycl_od_statnhm_20230428.csv  \n",
            "  inflating: tpss_bcycl_od_statnhm_202304/tpss_bcycl_od_statnhm_20230429.csv  \n",
            "  inflating: tpss_bcycl_od_statnhm_202304/tpss_bcycl_od_statnhm_20230430.csv  \n"
          ]
        }
      ]
    },
    {
      "cell_type": "markdown",
      "source": [
        "## 12-2 CSV 형태의 데이터 수집"
      ],
      "metadata": {
        "id": "mBY1ywBTfQdD"
      }
    },
    {
      "cell_type": "code",
      "execution_count": 2,
      "metadata": {
        "id": "7jjkoE6h-TJs",
        "colab": {
          "base_uri": "https://localhost:8080/",
          "height": 206
        },
        "outputId": "6eafc0e8-d6ab-47ba-c795-a2d4413a0b5b"
      },
      "outputs": [
        {
          "output_type": "execute_result",
          "data": {
            "text/plain": [
              "      기준_날짜 집계_기준  기준_시간대 시작_대여소_ID      시작_대여소명 종료_대여소_ID      종료_대여소명  \\\n",
              "0  20230401  출발시간       0   ST-1158   서초3동_010_1   ST-1158   서초3동_010_1   \n",
              "1  20230401  출발시간       0   ST-1287   하계1동_002_1   ST-1287   하계1동_002_1   \n",
              "2  20230401  출발시간       0   ST-1833   명일2동_007_3   ST-1833   명일2동_007_3   \n",
              "3  20230401  출발시간       0   ST-2396   신정6동_019_3   ST-2396   신정6동_019_3   \n",
              "4  20230401  출발시간       0   ST-2501  답십리2동_031_1   ST-2501  답십리2동_031_1   \n",
              "\n",
              "   전체_건수  전체_이용_분  전체_이용_거리  \n",
              "0      1        0         0  \n",
              "1      1        0         0  \n",
              "2      1        0         0  \n",
              "3      1        0         0  \n",
              "4      1        0         0  "
            ],
            "text/html": [
              "\n",
              "  <div id=\"df-a83eb160-b9ea-4f4c-9f8b-63fe70a581c9\" class=\"colab-df-container\">\n",
              "    <div>\n",
              "<style scoped>\n",
              "    .dataframe tbody tr th:only-of-type {\n",
              "        vertical-align: middle;\n",
              "    }\n",
              "\n",
              "    .dataframe tbody tr th {\n",
              "        vertical-align: top;\n",
              "    }\n",
              "\n",
              "    .dataframe thead th {\n",
              "        text-align: right;\n",
              "    }\n",
              "</style>\n",
              "<table border=\"1\" class=\"dataframe\">\n",
              "  <thead>\n",
              "    <tr style=\"text-align: right;\">\n",
              "      <th></th>\n",
              "      <th>기준_날짜</th>\n",
              "      <th>집계_기준</th>\n",
              "      <th>기준_시간대</th>\n",
              "      <th>시작_대여소_ID</th>\n",
              "      <th>시작_대여소명</th>\n",
              "      <th>종료_대여소_ID</th>\n",
              "      <th>종료_대여소명</th>\n",
              "      <th>전체_건수</th>\n",
              "      <th>전체_이용_분</th>\n",
              "      <th>전체_이용_거리</th>\n",
              "    </tr>\n",
              "  </thead>\n",
              "  <tbody>\n",
              "    <tr>\n",
              "      <th>0</th>\n",
              "      <td>20230401</td>\n",
              "      <td>출발시간</td>\n",
              "      <td>0</td>\n",
              "      <td>ST-1158</td>\n",
              "      <td>서초3동_010_1</td>\n",
              "      <td>ST-1158</td>\n",
              "      <td>서초3동_010_1</td>\n",
              "      <td>1</td>\n",
              "      <td>0</td>\n",
              "      <td>0</td>\n",
              "    </tr>\n",
              "    <tr>\n",
              "      <th>1</th>\n",
              "      <td>20230401</td>\n",
              "      <td>출발시간</td>\n",
              "      <td>0</td>\n",
              "      <td>ST-1287</td>\n",
              "      <td>하계1동_002_1</td>\n",
              "      <td>ST-1287</td>\n",
              "      <td>하계1동_002_1</td>\n",
              "      <td>1</td>\n",
              "      <td>0</td>\n",
              "      <td>0</td>\n",
              "    </tr>\n",
              "    <tr>\n",
              "      <th>2</th>\n",
              "      <td>20230401</td>\n",
              "      <td>출발시간</td>\n",
              "      <td>0</td>\n",
              "      <td>ST-1833</td>\n",
              "      <td>명일2동_007_3</td>\n",
              "      <td>ST-1833</td>\n",
              "      <td>명일2동_007_3</td>\n",
              "      <td>1</td>\n",
              "      <td>0</td>\n",
              "      <td>0</td>\n",
              "    </tr>\n",
              "    <tr>\n",
              "      <th>3</th>\n",
              "      <td>20230401</td>\n",
              "      <td>출발시간</td>\n",
              "      <td>0</td>\n",
              "      <td>ST-2396</td>\n",
              "      <td>신정6동_019_3</td>\n",
              "      <td>ST-2396</td>\n",
              "      <td>신정6동_019_3</td>\n",
              "      <td>1</td>\n",
              "      <td>0</td>\n",
              "      <td>0</td>\n",
              "    </tr>\n",
              "    <tr>\n",
              "      <th>4</th>\n",
              "      <td>20230401</td>\n",
              "      <td>출발시간</td>\n",
              "      <td>0</td>\n",
              "      <td>ST-2501</td>\n",
              "      <td>답십리2동_031_1</td>\n",
              "      <td>ST-2501</td>\n",
              "      <td>답십리2동_031_1</td>\n",
              "      <td>1</td>\n",
              "      <td>0</td>\n",
              "      <td>0</td>\n",
              "    </tr>\n",
              "  </tbody>\n",
              "</table>\n",
              "</div>\n",
              "    <div class=\"colab-df-buttons\">\n",
              "\n",
              "  <div class=\"colab-df-container\">\n",
              "    <button class=\"colab-df-convert\" onclick=\"convertToInteractive('df-a83eb160-b9ea-4f4c-9f8b-63fe70a581c9')\"\n",
              "            title=\"Convert this dataframe to an interactive table.\"\n",
              "            style=\"display:none;\">\n",
              "\n",
              "  <svg xmlns=\"http://www.w3.org/2000/svg\" height=\"24px\" viewBox=\"0 -960 960 960\">\n",
              "    <path d=\"M120-120v-720h720v720H120Zm60-500h600v-160H180v160Zm220 220h160v-160H400v160Zm0 220h160v-160H400v160ZM180-400h160v-160H180v160Zm440 0h160v-160H620v160ZM180-180h160v-160H180v160Zm440 0h160v-160H620v160Z\"/>\n",
              "  </svg>\n",
              "    </button>\n",
              "\n",
              "  <style>\n",
              "    .colab-df-container {\n",
              "      display:flex;\n",
              "      gap: 12px;\n",
              "    }\n",
              "\n",
              "    .colab-df-convert {\n",
              "      background-color: #E8F0FE;\n",
              "      border: none;\n",
              "      border-radius: 50%;\n",
              "      cursor: pointer;\n",
              "      display: none;\n",
              "      fill: #1967D2;\n",
              "      height: 32px;\n",
              "      padding: 0 0 0 0;\n",
              "      width: 32px;\n",
              "    }\n",
              "\n",
              "    .colab-df-convert:hover {\n",
              "      background-color: #E2EBFA;\n",
              "      box-shadow: 0px 1px 2px rgba(60, 64, 67, 0.3), 0px 1px 3px 1px rgba(60, 64, 67, 0.15);\n",
              "      fill: #174EA6;\n",
              "    }\n",
              "\n",
              "    .colab-df-buttons div {\n",
              "      margin-bottom: 4px;\n",
              "    }\n",
              "\n",
              "    [theme=dark] .colab-df-convert {\n",
              "      background-color: #3B4455;\n",
              "      fill: #D2E3FC;\n",
              "    }\n",
              "\n",
              "    [theme=dark] .colab-df-convert:hover {\n",
              "      background-color: #434B5C;\n",
              "      box-shadow: 0px 1px 3px 1px rgba(0, 0, 0, 0.15);\n",
              "      filter: drop-shadow(0px 1px 2px rgba(0, 0, 0, 0.3));\n",
              "      fill: #FFFFFF;\n",
              "    }\n",
              "  </style>\n",
              "\n",
              "    <script>\n",
              "      const buttonEl =\n",
              "        document.querySelector('#df-a83eb160-b9ea-4f4c-9f8b-63fe70a581c9 button.colab-df-convert');\n",
              "      buttonEl.style.display =\n",
              "        google.colab.kernel.accessAllowed ? 'block' : 'none';\n",
              "\n",
              "      async function convertToInteractive(key) {\n",
              "        const element = document.querySelector('#df-a83eb160-b9ea-4f4c-9f8b-63fe70a581c9');\n",
              "        const dataTable =\n",
              "          await google.colab.kernel.invokeFunction('convertToInteractive',\n",
              "                                                    [key], {});\n",
              "        if (!dataTable) return;\n",
              "\n",
              "        const docLinkHtml = 'Like what you see? Visit the ' +\n",
              "          '<a target=\"_blank\" href=https://colab.research.google.com/notebooks/data_table.ipynb>data table notebook</a>'\n",
              "          + ' to learn more about interactive tables.';\n",
              "        element.innerHTML = '';\n",
              "        dataTable['output_type'] = 'display_data';\n",
              "        await google.colab.output.renderOutput(dataTable, element);\n",
              "        const docLink = document.createElement('div');\n",
              "        docLink.innerHTML = docLinkHtml;\n",
              "        element.appendChild(docLink);\n",
              "      }\n",
              "    </script>\n",
              "  </div>\n",
              "\n",
              "\n",
              "    <div id=\"df-a489a216-8c62-4bdd-b6b6-322dcce0c22a\">\n",
              "      <button class=\"colab-df-quickchart\" onclick=\"quickchart('df-a489a216-8c62-4bdd-b6b6-322dcce0c22a')\"\n",
              "                title=\"Suggest charts\"\n",
              "                style=\"display:none;\">\n",
              "\n",
              "<svg xmlns=\"http://www.w3.org/2000/svg\" height=\"24px\"viewBox=\"0 0 24 24\"\n",
              "     width=\"24px\">\n",
              "    <g>\n",
              "        <path d=\"M19 3H5c-1.1 0-2 .9-2 2v14c0 1.1.9 2 2 2h14c1.1 0 2-.9 2-2V5c0-1.1-.9-2-2-2zM9 17H7v-7h2v7zm4 0h-2V7h2v10zm4 0h-2v-4h2v4z\"/>\n",
              "    </g>\n",
              "</svg>\n",
              "      </button>\n",
              "\n",
              "<style>\n",
              "  .colab-df-quickchart {\n",
              "      --bg-color: #E8F0FE;\n",
              "      --fill-color: #1967D2;\n",
              "      --hover-bg-color: #E2EBFA;\n",
              "      --hover-fill-color: #174EA6;\n",
              "      --disabled-fill-color: #AAA;\n",
              "      --disabled-bg-color: #DDD;\n",
              "  }\n",
              "\n",
              "  [theme=dark] .colab-df-quickchart {\n",
              "      --bg-color: #3B4455;\n",
              "      --fill-color: #D2E3FC;\n",
              "      --hover-bg-color: #434B5C;\n",
              "      --hover-fill-color: #FFFFFF;\n",
              "      --disabled-bg-color: #3B4455;\n",
              "      --disabled-fill-color: #666;\n",
              "  }\n",
              "\n",
              "  .colab-df-quickchart {\n",
              "    background-color: var(--bg-color);\n",
              "    border: none;\n",
              "    border-radius: 50%;\n",
              "    cursor: pointer;\n",
              "    display: none;\n",
              "    fill: var(--fill-color);\n",
              "    height: 32px;\n",
              "    padding: 0;\n",
              "    width: 32px;\n",
              "  }\n",
              "\n",
              "  .colab-df-quickchart:hover {\n",
              "    background-color: var(--hover-bg-color);\n",
              "    box-shadow: 0 1px 2px rgba(60, 64, 67, 0.3), 0 1px 3px 1px rgba(60, 64, 67, 0.15);\n",
              "    fill: var(--button-hover-fill-color);\n",
              "  }\n",
              "\n",
              "  .colab-df-quickchart-complete:disabled,\n",
              "  .colab-df-quickchart-complete:disabled:hover {\n",
              "    background-color: var(--disabled-bg-color);\n",
              "    fill: var(--disabled-fill-color);\n",
              "    box-shadow: none;\n",
              "  }\n",
              "\n",
              "  .colab-df-spinner {\n",
              "    border: 2px solid var(--fill-color);\n",
              "    border-color: transparent;\n",
              "    border-bottom-color: var(--fill-color);\n",
              "    animation:\n",
              "      spin 1s steps(1) infinite;\n",
              "  }\n",
              "\n",
              "  @keyframes spin {\n",
              "    0% {\n",
              "      border-color: transparent;\n",
              "      border-bottom-color: var(--fill-color);\n",
              "      border-left-color: var(--fill-color);\n",
              "    }\n",
              "    20% {\n",
              "      border-color: transparent;\n",
              "      border-left-color: var(--fill-color);\n",
              "      border-top-color: var(--fill-color);\n",
              "    }\n",
              "    30% {\n",
              "      border-color: transparent;\n",
              "      border-left-color: var(--fill-color);\n",
              "      border-top-color: var(--fill-color);\n",
              "      border-right-color: var(--fill-color);\n",
              "    }\n",
              "    40% {\n",
              "      border-color: transparent;\n",
              "      border-right-color: var(--fill-color);\n",
              "      border-top-color: var(--fill-color);\n",
              "    }\n",
              "    60% {\n",
              "      border-color: transparent;\n",
              "      border-right-color: var(--fill-color);\n",
              "    }\n",
              "    80% {\n",
              "      border-color: transparent;\n",
              "      border-right-color: var(--fill-color);\n",
              "      border-bottom-color: var(--fill-color);\n",
              "    }\n",
              "    90% {\n",
              "      border-color: transparent;\n",
              "      border-bottom-color: var(--fill-color);\n",
              "    }\n",
              "  }\n",
              "</style>\n",
              "\n",
              "      <script>\n",
              "        async function quickchart(key) {\n",
              "          const quickchartButtonEl =\n",
              "            document.querySelector('#' + key + ' button');\n",
              "          quickchartButtonEl.disabled = true;  // To prevent multiple clicks.\n",
              "          quickchartButtonEl.classList.add('colab-df-spinner');\n",
              "          try {\n",
              "            const charts = await google.colab.kernel.invokeFunction(\n",
              "                'suggestCharts', [key], {});\n",
              "          } catch (error) {\n",
              "            console.error('Error during call to suggestCharts:', error);\n",
              "          }\n",
              "          quickchartButtonEl.classList.remove('colab-df-spinner');\n",
              "          quickchartButtonEl.classList.add('colab-df-quickchart-complete');\n",
              "        }\n",
              "        (() => {\n",
              "          let quickchartButtonEl =\n",
              "            document.querySelector('#df-a489a216-8c62-4bdd-b6b6-322dcce0c22a button');\n",
              "          quickchartButtonEl.style.display =\n",
              "            google.colab.kernel.accessAllowed ? 'block' : 'none';\n",
              "        })();\n",
              "      </script>\n",
              "    </div>\n",
              "\n",
              "    </div>\n",
              "  </div>\n"
            ],
            "application/vnd.google.colaboratory.intrinsic+json": {
              "type": "dataframe",
              "variable_name": "df"
            }
          },
          "metadata": {},
          "execution_count": 2
        }
      ],
      "source": [
        "import glob\n",
        "import pandas as pd\n",
        "\n",
        "## CSV 파일 목록 가져오기\n",
        "all_files = glob.glob(\"tpss_bcycl_od_statnhm_202304/*.csv\")\n",
        "dataframes = []\n",
        "for filename in all_files:\n",
        "    ## CSV 파일 읽어서 데이터프레임화\n",
        "    df = pd.read_csv(filename, encoding='cp949')\n",
        "    ## 데이터프레임 리스트에 추가\n",
        "    dataframes.append(df)\n",
        "## 모든 데이터프레임 결합\n",
        "df = pd.concat(dataframes, axis = 0, ignore_index = True)\n",
        "## 상위 5행 출력\n",
        "df.head(5)"
      ]
    },
    {
      "cell_type": "markdown",
      "source": [
        "## 12-3 기초 통계량 산출"
      ],
      "metadata": {
        "id": "pGV2kMLehS0A"
      }
    },
    {
      "cell_type": "code",
      "source": [
        "## 수치형 데이터 요약 통계 출력\n",
        "print('수치형 데이터 요약 통계 : \\n', df.describe().to_markdown())\n",
        "## 범주형 데이터 요약 통계 출력\n",
        "print('수치형 데이터 요약 통계 : \\n', df.describe(include = ['object']).to_markdown())\n"
      ],
      "metadata": {
        "id": "HyFk8Gry-VpH",
        "colab": {
          "base_uri": "https://localhost:8080/"
        },
        "outputId": "a012f634-7cdc-4aae-fbf9-060d14e9727b"
      },
      "execution_count": 3,
      "outputs": [
        {
          "output_type": "stream",
          "name": "stdout",
          "text": [
            "수치형 데이터 요약 통계 : \n",
            " |       |   기준_날짜 |    기준_시간대 |    전체_건수 |   전체_이용_분 |   전체_이용_거리 |\n",
            "|:------|------------:|---------------:|-------------:|---------------:|-----------------:|\n",
            "| count | 7.76947e+06 |    7.76947e+06 |  7.76947e+06 |    7.76947e+06 |      7.76947e+06 |\n",
            "| mean  | 2.02304e+07 | 1451.5         |  1.07513     |   22.9326      |   2704.27        |\n",
            "| std   | 8.52204     |  561.131       |  0.309264    |   31.5494      |  11951.9         |\n",
            "| min   | 2.02304e+07 |    0           |  1           |    0           |      0           |\n",
            "| 25%   | 2.02304e+07 | 1020           |  1           |    6           |    854           |\n",
            "| 50%   | 2.02304e+07 | 1600           |  1           |   12           |   1551           |\n",
            "| 75%   | 2.02304e+07 | 1855           |  1           |   27           |   2990           |\n",
            "| max   | 2.02304e+07 | 2355           | 17           | 2001           |      1.29444e+07 |\n",
            "수치형 데이터 요약 통계 : \n",
            " |        | 집계_기준   | 시작_대여소_ID   | 시작_대여소명   | 종료_대여소_ID   | 종료_대여소명   |\n",
            "|:-------|:------------|:-----------------|:----------------|:-----------------|:----------------|\n",
            "| count  | 7769469     | 7769469          | 7769469         | 7769469          | 7737347         |\n",
            "| unique | 2           | 2729             | 2733            | 2730             | 2732            |\n",
            "| top    | 출발시간    | ST-2031          | 가양1동_039_8   | X                | 가양1동_039_8   |\n",
            "| freq   | 3897362     | 27016            | 27016           | 32122            | 28092           |\n"
          ]
        }
      ]
    },
    {
      "cell_type": "markdown",
      "source": [
        "## 12-4 결측치 및 이상치 제거"
      ],
      "metadata": {
        "id": "Thr9L43ShZcY"
      }
    },
    {
      "cell_type": "code",
      "source": [
        "## 결측치 제거\n",
        "df['기준_날짜'] = pd.to_datetime(df['기준_날짜'], format = '%Y%m%d')\n",
        "df = df.dropna()\n",
        "## '전체_이용_분' 컬럼 값 필터링 (1분 이하, 180분 이상 제거)\n",
        "df = df[(df['전체_이용_분']>1) & (df['전체_이용_분']<180)]\n",
        "## '전체_이용_거리' 컬럼 값 필터링 (10M 이하, 10000M 이상 제거)\n",
        "df = df[(df['전체_이용_거리']>10 ) & (df['전체_이용_거리']<10000)]\n",
        "## '집계_기준' 컬럼 필터링 (출발시간만 사용)\n",
        "df = df[df['집계_기준']=='출발시간']"
      ],
      "metadata": {
        "id": "fJRGIq2N-XLc"
      },
      "execution_count": 4,
      "outputs": []
    },
    {
      "cell_type": "markdown",
      "source": [
        "## 12-5 날짜/시간 데이터 형식 변환"
      ],
      "metadata": {
        "id": "aWeXyEB-h5dA"
      }
    },
    {
      "cell_type": "code",
      "source": [
        "## '기준_날짜' 컬럼 datetime 형식으로 변환 (%Y%m%d)\n",
        "## '요일' 컬럼 생성\n",
        "day_mapping = {\n",
        "    'Monday': '월요일',\n",
        "    'Tuesday': '화요일',\n",
        "    'Wednesday': '수요일',\n",
        "    'Thursday': '목요일',\n",
        "    'Friday': '금요일',\n",
        "    'Saturday': '토요일',\n",
        "    'Sunday': '일요일'\n",
        "}\n",
        "\n",
        "df['요일'] = df['기준_날짜'].dt.day_name().map(day_mapping)\n",
        "day_df = df['요일'].value_counts().reindex(day_mapping.values())\n",
        "print('요일병 이용량 : \\n', day_df)\n"
      ],
      "metadata": {
        "id": "4UsXZZVa-Zps",
        "colab": {
          "base_uri": "https://localhost:8080/"
        },
        "outputId": "9f6fad10-ce9f-4373-93be-1306157a7cbe"
      },
      "execution_count": 5,
      "outputs": [
        {
          "output_type": "stream",
          "name": "stdout",
          "text": [
            "요일병 이용량 : \n",
            " 요일\n",
            "월요일    594326\n",
            "화요일    392770\n",
            "수요일    446734\n",
            "목요일    479264\n",
            "금요일    574477\n",
            "토요일    493995\n",
            "일요일    527598\n",
            "Name: count, dtype: int64\n"
          ]
        }
      ]
    },
    {
      "cell_type": "markdown",
      "source": [
        "## 전처리 결과 확인"
      ],
      "metadata": {
        "id": "qEYjnQmVoBXx"
      }
    },
    {
      "cell_type": "code",
      "source": [
        "## 수치형 데이터 요약 통계 출력\n",
        "print(\"수치형 데이터 요약 통계:\\n\", df.describe().to_markdown())\n",
        "## 범주형 데이터 요약 통계 출력\n",
        "print(\"\\n범주형 데이터 요약 통계:\\n\", df.describe(include=['object']).to_markdown())"
      ],
      "metadata": {
        "id": "3XX8cDDAoDC8",
        "colab": {
          "base_uri": "https://localhost:8080/"
        },
        "outputId": "0cd3c8d0-d92d-436d-99f8-2f44ee80cd8b"
      },
      "execution_count": 6,
      "outputs": [
        {
          "output_type": "stream",
          "name": "stdout",
          "text": [
            "수치형 데이터 요약 통계:\n",
            " |       | 기준_날짜                     |    기준_시간대 |    전체_건수 |   전체_이용_분 |   전체_이용_거리 |\n",
            "|:------|:------------------------------|---------------:|-------------:|---------------:|-----------------:|\n",
            "| count | 3509164                       |    3.50916e+06 |  3.50916e+06 |    3.50916e+06 |      3.50916e+06 |\n",
            "| mean  | 2023-04-15 16:06:59.898985216 | 1431.14        |  1.05698     |   19.996       |   2225.55        |\n",
            "| min   | 2023-04-01 00:00:00           |    0           |  1           |    2           |     11           |\n",
            "| 25%   | 2023-04-09 00:00:00           | 1000           |  1           |    6           |    930           |\n",
            "| 50%   | 2023-04-16 00:00:00           | 1545           |  1           |   12           |   1579           |\n",
            "| 75%   | 2023-04-23 00:00:00           | 1845           |  1           |   25           |   2820           |\n",
            "| max   | 2023-04-30 00:00:00           | 2355           | 13           |  179           |   9999           |\n",
            "| std   | nan                           |  561.472       |  0.256897    |   21.9924      |   1901.81        |\n",
            "\n",
            "범주형 데이터 요약 통계:\n",
            " |        | 집계_기준   | 시작_대여소_ID   | 시작_대여소명   | 종료_대여소_ID   | 종료_대여소명   | 요일    |\n",
            "|:-------|:------------|:-----------------|:----------------|:-----------------|:----------------|:--------|\n",
            "| count  | 3509164     | 3509164          | 3509164         | 3509164          | 3509164         | 3509164 |\n",
            "| unique | 1           | 2726             | 2730            | 2724             | 2728            | 7       |\n",
            "| top    | 출발시간    | ST-2031          | 가양1동_039_8   | ST-2031          | 가양1동_039_8   | 월요일  |\n",
            "| freq   | 3509164     | 12719            | 12719           | 13346            | 13346           | 594326  |\n"
          ]
        }
      ]
    },
    {
      "cell_type": "markdown",
      "source": [
        "# 2. 데이터 분석"
      ],
      "metadata": {
        "id": "iSQra0QGmR09"
      }
    },
    {
      "cell_type": "markdown",
      "source": [
        "## 12-6 요일별 이용량 분석"
      ],
      "metadata": {
        "id": "8OPIRXDMmZom"
      }
    },
    {
      "cell_type": "code",
      "source": [
        "## 요일별 이용량 계산 및 정렬\n",
        "day_df.plot(kind='bar')\n",
        "\n",
        "## 요일별 이용량 출력\n",
        "print(\"요일별 이용량:\\n\", day_df)"
      ],
      "metadata": {
        "id": "9u1beOH7iEFO",
        "colab": {
          "base_uri": "https://localhost:8080/",
          "height": 657
        },
        "outputId": "3f1b6085-f092-44b1-8b4a-da14823e7af4"
      },
      "execution_count": 7,
      "outputs": [
        {
          "output_type": "stream",
          "name": "stdout",
          "text": [
            "요일별 이용량:\n",
            " 요일\n",
            "월요일    594326\n",
            "화요일    392770\n",
            "수요일    446734\n",
            "목요일    479264\n",
            "금요일    574477\n",
            "토요일    493995\n",
            "일요일    527598\n",
            "Name: count, dtype: int64\n"
          ]
        },
        {
          "output_type": "display_data",
          "data": {
            "text/plain": [
              "<Figure size 640x480 with 1 Axes>"
            ],
            "image/png": "[encoded data removed]"
          },
          "metadata": {}
        }
      ]
    },
    {
      "cell_type": "markdown",
      "source": [
        "## 12-7 요일별 이용량 시각화"
      ],
      "metadata": {
        "id": "9rm8rfc2nApd"
      }
    },
    {
      "cell_type": "code",
      "source": [
        "import matplotlib.pyplot as plt\n",
        "\n",
        "## 요일별 이용량 막대 그래프 생성\n",
        "df['출발_시'] = df['기준_시간대'] // 100\n",
        "hour_df = df['출발_시'].value_counts().sort_index()\n",
        "hour_df.plot(kind='bar')\n",
        "\n",
        "plt.title('요일별 이용량')\n",
        "plt.xlabel('요일')\n",
        "plt.ylabel('이용량')\n",
        "plt.show()"
      ],
      "metadata": {
        "id": "2YTL201E-bOk",
        "colab": {
          "base_uri": "https://localhost:8080/",
          "height": 473
        },
        "outputId": "df4d5f5f-b300-4cac-acb2-dc5b4902a313"
      },
      "execution_count": 8,
      "outputs": [
        {
          "output_type": "display_data",
          "data": {
            "text/plain": [
              "<Figure size 640x480 with 1 Axes>"
            ],
            "image/png": "[encoded data removed]"
          },
          "metadata": {}
        }
      ]
    },
    {
      "cell_type": "code",
      "source": [
        "## Dataframe의 plot을 이용한 요일별 이용량 막대 그래프 생성\n",
        "\n",
        "plt.show()"
      ],
      "metadata": {
        "id": "1D3QdpSpnWzK"
      },
      "execution_count": 9,
      "outputs": []
    },
    {
      "cell_type": "markdown",
      "source": [
        "## 12-8 시간별 이용량 분석 및 시각화"
      ],
      "metadata": {
        "id": "SrTThRtknQhJ"
      }
    },
    {
      "cell_type": "code",
      "source": [
        "## '출발_시' 컬럼 생성 (기준_시간대 // 100)\n",
        "df['출발_시'] = df['기준_시간대']//100\n",
        "\n",
        "## 시간별 이용량 계산 및 정렬 (hour_df로 저장)\n",
        "hour_df = df['출발_시'].value_counts().sort_index()\n",
        "## 시간별 이용량 출력\n",
        "print(\"시간별 이용량:\\n\", hour_df)\n",
        "\n",
        "## 시간별 이용량 막대 그래프 생성\n",
        "hour_df.plot(kind='bar')\n",
        "plt.show()"
      ],
      "metadata": {
        "id": "rh5XUH2i-epE",
        "colab": {
          "base_uri": "https://localhost:8080/",
          "height": 948
        },
        "outputId": "4a95bec8-7142-440b-a157-0013ad01e4a3"
      },
      "execution_count": 10,
      "outputs": [
        {
          "output_type": "stream",
          "name": "stdout",
          "text": [
            "시간별 이용량:\n",
            " 출발_시\n",
            "0      77131\n",
            "1      53708\n",
            "2      34328\n",
            "3      22495\n",
            "4      17385\n",
            "5      29296\n",
            "6      64312\n",
            "7     165864\n",
            "8     253707\n",
            "9     151306\n",
            "10    118393\n",
            "11    137690\n",
            "12    155120\n",
            "13    159231\n",
            "14    167815\n",
            "15    190808\n",
            "16    236420\n",
            "17    302526\n",
            "18    363200\n",
            "19    232469\n",
            "20    184630\n",
            "21    170912\n",
            "22    146139\n",
            "23     74279\n",
            "Name: count, dtype: int64\n"
          ]
        },
        {
          "output_type": "display_data",
          "data": {
            "text/plain": [
              "<Figure size 640x480 with 1 Axes>"
            ],
            "image/png": "[encoded data removed]"
          },
          "metadata": {}
        }
      ]
    },
    {
      "cell_type": "markdown",
      "source": [
        "## 12-9 일자별 이용량 분석 및 시각화"
      ],
      "metadata": {
        "id": "MCesHLfcnyZ2"
      }
    },
    {
      "cell_type": "code",
      "source": [
        "## 일자별 이용량 계산 및 정렬\n",
        "daily_usage_df = df['기준_날짜'].value_counts().sort_index()\n",
        "## 일자별 이용량 출력\n",
        "print(\"일자별 이용량:\\n\", daily_usage_df)\n",
        "\n",
        "## 일자별 이용량 막대 그래프 생성\n",
        "daily_usage_df.plot(kind='bar')\n",
        "plt.show()"
      ],
      "metadata": {
        "id": "FBGzRjUW-gky",
        "colab": {
          "base_uri": "https://localhost:8080/",
          "height": 1000
        },
        "outputId": "a43ca3b2-51fd-499f-83d4-db963f4443b4"
      },
      "execution_count": 11,
      "outputs": [
        {
          "output_type": "stream",
          "name": "stdout",
          "text": [
            "일자별 이용량:\n",
            " 기준_날짜\n",
            "2023-04-01    131255\n",
            "2023-04-02    127850\n",
            "2023-04-03    155558\n",
            "2023-04-04    122686\n",
            "2023-04-05     21328\n",
            "2023-04-06     56926\n",
            "2023-04-07    125145\n",
            "2023-04-08    108558\n",
            "2023-04-09    103952\n",
            "2023-04-10    144229\n",
            "2023-04-11     95607\n",
            "2023-04-12    129586\n",
            "2023-04-13    133656\n",
            "2023-04-14    147609\n",
            "2023-04-15     82234\n",
            "2023-04-16     93039\n",
            "2023-04-17    143149\n",
            "2023-04-18     94659\n",
            "2023-04-19    158345\n",
            "2023-04-20    134882\n",
            "2023-04-21    155445\n",
            "2023-04-22    128175\n",
            "2023-04-23    112186\n",
            "2023-04-24    151390\n",
            "2023-04-25     79818\n",
            "2023-04-26    137475\n",
            "2023-04-27    153800\n",
            "2023-04-28    146278\n",
            "2023-04-29     43773\n",
            "2023-04-30     90571\n",
            "Name: count, dtype: int64\n"
          ]
        },
        {
          "output_type": "display_data",
          "data": {
            "text/plain": [
              "<Figure size 640x480 with 1 Axes>"
            ],
            "image/png": "[encoded data removed]"
          },
          "metadata": {}
        }
      ]
    },
    {
      "cell_type": "markdown",
      "source": [
        "# 3. 연계 분석\n",
        "\n",
        "- 기상청 기상자료개방포탈 자료 수집\n",
        "  - 기후통계분석 > 통계분석 > 조건별통계\n",
        "  - https://data.kma.go.kr/climate/RankState/selectRankStatisticsDivisionList.do?pgmNo=179\n",
        "  - 지역/지점 : 서울\n",
        "  - 요소 : 강수량\n",
        "  - 기간 : 일, 2023년 ~ 2023년\n",
        "  - 조건 : 04월, 01 ~ 31일\n",
        "- 다운로드 후 파일명 `seoul_rain_2023_04.csv`로 변경하여 colab에 업로드"
      ],
      "metadata": {
        "id": "Ry_x0v7voNji"
      }
    },
    {
      "cell_type": "markdown",
      "source": [
        "## 12-10 강수량 데이터 로드"
      ],
      "metadata": {
        "id": "7H4slHEnpY2U"
      }
    },
    {
      "cell_type": "code",
      "source": [
        "## 강수량 데이터 CSV 파일 로드\n",
        "file_path = 'seoul_rain_2023_04.csv'\n",
        "rain_df = pd.read_csv(file_path, encoding='cp949', skiprows=12)\n",
        "rain_df.head(5)"
      ],
      "metadata": {
        "id": "qJLVSTEM-kgi",
        "colab": {
          "base_uri": "https://localhost:8080/",
          "height": 206
        },
        "outputId": "3f389a3b-2b81-4149-e98e-facff3b5df46"
      },
      "execution_count": 12,
      "outputs": [
        {
          "output_type": "execute_result",
          "data": {
            "text/plain": [
              "   \\t지점번호 지점명       일시  강수량(mm)  일최다강수량(mm)    일최다강수량일자  1시간최다강수량(mm)  \\\n",
              "0     108  서울  2023-01     47.9        37.3  2023-01-13           NaN   \n",
              "1     108  서울  2023-02      1.0         0.6  2023-02-10           NaN   \n",
              "2     108  서울  2023-03     10.5         5.6  2023-03-12           NaN   \n",
              "3     108  서울  2023-04     96.9        50.3  2023-04-05           9.0   \n",
              "4     108  서울  2023-05    155.6        47.5  2023-05-06           9.3   \n",
              "\n",
              "   1시간최다강수량일자  Unnamed: 8  \n",
              "0         NaN         NaN  \n",
              "1         NaN         NaN  \n",
              "2         NaN         NaN  \n",
              "3  2023-04-05         NaN  \n",
              "4  2023-05-06         NaN  "
            ],
            "text/html": [
              "\n",
              "  <div id=\"df-688db94e-8e68-4396-a23f-b5e96abce74d\" class=\"colab-df-container\">\n",
              "    <div>\n",
              "<style scoped>\n",
              "    .dataframe tbody tr th:only-of-type {\n",
              "        vertical-align: middle;\n",
              "    }\n",
              "\n",
              "    .dataframe tbody tr th {\n",
              "        vertical-align: top;\n",
              "    }\n",
              "\n",
              "    .dataframe thead th {\n",
              "        text-align: right;\n",
              "    }\n",
              "</style>\n",
              "<table border=\"1\" class=\"dataframe\">\n",
              "  <thead>\n",
              "    <tr style=\"text-align: right;\">\n",
              "      <th></th>\n",
              "      <th>\\t지점번호</th>\n",
              "      <th>지점명</th>\n",
              "      <th>일시</th>\n",
              "      <th>강수량(mm)</th>\n",
              "      <th>일최다강수량(mm)</th>\n",
              "      <th>일최다강수량일자</th>\n",
              "      <th>1시간최다강수량(mm)</th>\n",
              "      <th>1시간최다강수량일자</th>\n",
              "      <th>Unnamed: 8</th>\n",
              "    </tr>\n",
              "  </thead>\n",
              "  <tbody>\n",
              "    <tr>\n",
              "      <th>0</th>\n",
              "      <td>108</td>\n",
              "      <td>서울</td>\n",
              "      <td>2023-01</td>\n",
              "      <td>47.9</td>\n",
              "      <td>37.3</td>\n",
              "      <td>2023-01-13</td>\n",
              "      <td>NaN</td>\n",
              "      <td>NaN</td>\n",
              "      <td>NaN</td>\n",
              "    </tr>\n",
              "    <tr>\n",
              "      <th>1</th>\n",
              "      <td>108</td>\n",
              "      <td>서울</td>\n",
              "      <td>2023-02</td>\n",
              "      <td>1.0</td>\n",
              "      <td>0.6</td>\n",
              "      <td>2023-02-10</td>\n",
              "      <td>NaN</td>\n",
              "      <td>NaN</td>\n",
              "      <td>NaN</td>\n",
              "    </tr>\n",
              "    <tr>\n",
              "      <th>2</th>\n",
              "      <td>108</td>\n",
              "      <td>서울</td>\n",
              "      <td>2023-03</td>\n",
              "      <td>10.5</td>\n",
              "      <td>5.6</td>\n",
              "      <td>2023-03-12</td>\n",
              "      <td>NaN</td>\n",
              "      <td>NaN</td>\n",
              "      <td>NaN</td>\n",
              "    </tr>\n",
              "    <tr>\n",
              "      <th>3</th>\n",
              "      <td>108</td>\n",
              "      <td>서울</td>\n",
              "      <td>2023-04</td>\n",
              "      <td>96.9</td>\n",
              "      <td>50.3</td>\n",
              "      <td>2023-04-05</td>\n",
              "      <td>9.0</td>\n",
              "      <td>2023-04-05</td>\n",
              "      <td>NaN</td>\n",
              "    </tr>\n",
              "    <tr>\n",
              "      <th>4</th>\n",
              "      <td>108</td>\n",
              "      <td>서울</td>\n",
              "      <td>2023-05</td>\n",
              "      <td>155.6</td>\n",
              "      <td>47.5</td>\n",
              "      <td>2023-05-06</td>\n",
              "      <td>9.3</td>\n",
              "      <td>2023-05-06</td>\n",
              "      <td>NaN</td>\n",
              "    </tr>\n",
              "  </tbody>\n",
              "</table>\n",
              "</div>\n",
              "    <div class=\"colab-df-buttons\">\n",
              "\n",
              "  <div class=\"colab-df-container\">\n",
              "    <button class=\"colab-df-convert\" onclick=\"convertToInteractive('df-688db94e-8e68-4396-a23f-b5e96abce74d')\"\n",
              "            title=\"Convert this dataframe to an interactive table.\"\n",
              "            style=\"display:none;\">\n",
              "\n",
              "  <svg xmlns=\"http://www.w3.org/2000/svg\" height=\"24px\" viewBox=\"0 -960 960 960\">\n",
              "    <path d=\"M120-120v-720h720v720H120Zm60-500h600v-160H180v160Zm220 220h160v-160H400v160Zm0 220h160v-160H400v160ZM180-400h160v-160H180v160Zm440 0h160v-160H620v160ZM180-180h160v-160H180v160Zm440 0h160v-160H620v160Z\"/>\n",
              "  </svg>\n",
              "    </button>\n",
              "\n",
              "  <style>\n",
              "    .colab-df-container {\n",
              "      display:flex;\n",
              "      gap: 12px;\n",
              "    }\n",
              "\n",
              "    .colab-df-convert {\n",
              "      background-color: #E8F0FE;\n",
              "      border: none;\n",
              "      border-radius: 50%;\n",
              "      cursor: pointer;\n",
              "      display: none;\n",
              "      fill: #1967D2;\n",
              "      height: 32px;\n",
              "      padding: 0 0 0 0;\n",
              "      width: 32px;\n",
              "    }\n",
              "\n",
              "    .colab-df-convert:hover {\n",
              "      background-color: #E2EBFA;\n",
              "      box-shadow: 0px 1px 2px rgba(60, 64, 67, 0.3), 0px 1px 3px 1px rgba(60, 64, 67, 0.15);\n",
              "      fill: #174EA6;\n",
              "    }\n",
              "\n",
              "    .colab-df-buttons div {\n",
              "      margin-bottom: 4px;\n",
              "    }\n",
              "\n",
              "    [theme=dark] .colab-df-convert {\n",
              "      background-color: #3B4455;\n",
              "      fill: #D2E3FC;\n",
              "    }\n",
              "\n",
              "    [theme=dark] .colab-df-convert:hover {\n",
              "      background-color: #434B5C;\n",
              "      box-shadow: 0px 1px 3px 1px rgba(0, 0, 0, 0.15);\n",
              "      filter: drop-shadow(0px 1px 2px rgba(0, 0, 0, 0.3));\n",
              "      fill: #FFFFFF;\n",
              "    }\n",
              "  </style>\n",
              "\n",
              "    <script>\n",
              "      const buttonEl =\n",
              "        document.querySelector('#df-688db94e-8e68-4396-a23f-b5e96abce74d button.colab-df-convert');\n",
              "      buttonEl.style.display =\n",
              "        google.colab.kernel.accessAllowed ? 'block' : 'none';\n",
              "\n",
              "      async function convertToInteractive(key) {\n",
              "        const element = document.querySelector('#df-688db94e-8e68-4396-a23f-b5e96abce74d');\n",
              "        const dataTable =\n",
              "          await google.colab.kernel.invokeFunction('convertToInteractive',\n",
              "                                                    [key], {});\n",
              "        if (!dataTable) return;\n",
              "\n",
              "        const docLinkHtml = 'Like what you see? Visit the ' +\n",
              "          '<a target=\"_blank\" href=https://colab.research.google.com/notebooks/data_table.ipynb>data table notebook</a>'\n",
              "          + ' to learn more about interactive tables.';\n",
              "        element.innerHTML = '';\n",
              "        dataTable['output_type'] = 'display_data';\n",
              "        await google.colab.output.renderOutput(dataTable, element);\n",
              "        const docLink = document.createElement('div');\n",
              "        docLink.innerHTML = docLinkHtml;\n",
              "        element.appendChild(docLink);\n",
              "      }\n",
              "    </script>\n",
              "  </div>\n",
              "\n",
              "\n",
              "    <div id=\"df-de1526f4-815f-4179-ae4a-84ddb6989311\">\n",
              "      <button class=\"colab-df-quickchart\" onclick=\"quickchart('df-de1526f4-815f-4179-ae4a-84ddb6989311')\"\n",
              "                title=\"Suggest charts\"\n",
              "                style=\"display:none;\">\n",
              "\n",
              "<svg xmlns=\"http://www.w3.org/2000/svg\" height=\"24px\"viewBox=\"0 0 24 24\"\n",
              "     width=\"24px\">\n",
              "    <g>\n",
              "        <path d=\"M19 3H5c-1.1 0-2 .9-2 2v14c0 1.1.9 2 2 2h14c1.1 0 2-.9 2-2V5c0-1.1-.9-2-2-2zM9 17H7v-7h2v7zm4 0h-2V7h2v10zm4 0h-2v-4h2v4z\"/>\n",
              "    </g>\n",
              "</svg>\n",
              "      </button>\n",
              "\n",
              "<style>\n",
              "  .colab-df-quickchart {\n",
              "      --bg-color: #E8F0FE;\n",
              "      --fill-color: #1967D2;\n",
              "      --hover-bg-color: #E2EBFA;\n",
              "      --hover-fill-color: #174EA6;\n",
              "      --disabled-fill-color: #AAA;\n",
              "      --disabled-bg-color: #DDD;\n",
              "  }\n",
              "\n",
              "  [theme=dark] .colab-df-quickchart {\n",
              "      --bg-color: #3B4455;\n",
              "      --fill-color: #D2E3FC;\n",
              "      --hover-bg-color: #434B5C;\n",
              "      --hover-fill-color: #FFFFFF;\n",
              "      --disabled-bg-color: #3B4455;\n",
              "      --disabled-fill-color: #666;\n",
              "  }\n",
              "\n",
              "  .colab-df-quickchart {\n",
              "    background-color: var(--bg-color);\n",
              "    border: none;\n",
              "    border-radius: 50%;\n",
              "    cursor: pointer;\n",
              "    display: none;\n",
              "    fill: var(--fill-color);\n",
              "    height: 32px;\n",
              "    padding: 0;\n",
              "    width: 32px;\n",
              "  }\n",
              "\n",
              "  .colab-df-quickchart:hover {\n",
              "    background-color: var(--hover-bg-color);\n",
              "    box-shadow: 0 1px 2px rgba(60, 64, 67, 0.3), 0 1px 3px 1px rgba(60, 64, 67, 0.15);\n",
              "    fill: var(--button-hover-fill-color);\n",
              "  }\n",
              "\n",
              "  .colab-df-quickchart-complete:disabled,\n",
              "  .colab-df-quickchart-complete:disabled:hover {\n",
              "    background-color: var(--disabled-bg-color);\n",
              "    fill: var(--disabled-fill-color);\n",
              "    box-shadow: none;\n",
              "  }\n",
              "\n",
              "  .colab-df-spinner {\n",
              "    border: 2px solid var(--fill-color);\n",
              "    border-color: transparent;\n",
              "    border-bottom-color: var(--fill-color);\n",
              "    animation:\n",
              "      spin 1s steps(1) infinite;\n",
              "  }\n",
              "\n",
              "  @keyframes spin {\n",
              "    0% {\n",
              "      border-color: transparent;\n",
              "      border-bottom-color: var(--fill-color);\n",
              "      border-left-color: var(--fill-color);\n",
              "    }\n",
              "    20% {\n",
              "      border-color: transparent;\n",
              "      border-left-color: var(--fill-color);\n",
              "      border-top-color: var(--fill-color);\n",
              "    }\n",
              "    30% {\n",
              "      border-color: transparent;\n",
              "      border-left-color: var(--fill-color);\n",
              "      border-top-color: var(--fill-color);\n",
              "      border-right-color: var(--fill-color);\n",
              "    }\n",
              "    40% {\n",
              "      border-color: transparent;\n",
              "      border-right-color: var(--fill-color);\n",
              "      border-top-color: var(--fill-color);\n",
              "    }\n",
              "    60% {\n",
              "      border-color: transparent;\n",
              "      border-right-color: var(--fill-color);\n",
              "    }\n",
              "    80% {\n",
              "      border-color: transparent;\n",
              "      border-right-color: var(--fill-color);\n",
              "      border-bottom-color: var(--fill-color);\n",
              "    }\n",
              "    90% {\n",
              "      border-color: transparent;\n",
              "      border-bottom-color: var(--fill-color);\n",
              "    }\n",
              "  }\n",
              "</style>\n",
              "\n",
              "      <script>\n",
              "        async function quickchart(key) {\n",
              "          const quickchartButtonEl =\n",
              "            document.querySelector('#' + key + ' button');\n",
              "          quickchartButtonEl.disabled = true;  // To prevent multiple clicks.\n",
              "          quickchartButtonEl.classList.add('colab-df-spinner');\n",
              "          try {\n",
              "            const charts = await google.colab.kernel.invokeFunction(\n",
              "                'suggestCharts', [key], {});\n",
              "          } catch (error) {\n",
              "            console.error('Error during call to suggestCharts:', error);\n",
              "          }\n",
              "          quickchartButtonEl.classList.remove('colab-df-spinner');\n",
              "          quickchartButtonEl.classList.add('colab-df-quickchart-complete');\n",
              "        }\n",
              "        (() => {\n",
              "          let quickchartButtonEl =\n",
              "            document.querySelector('#df-de1526f4-815f-4179-ae4a-84ddb6989311 button');\n",
              "          quickchartButtonEl.style.display =\n",
              "            google.colab.kernel.accessAllowed ? 'block' : 'none';\n",
              "        })();\n",
              "      </script>\n",
              "    </div>\n",
              "\n",
              "    </div>\n",
              "  </div>\n"
            ],
            "application/vnd.google.colaboratory.intrinsic+json": {
              "type": "dataframe",
              "variable_name": "rain_df",
              "summary": "{\n  \"name\": \"rain_df\",\n  \"rows\": 12,\n  \"fields\": [\n    {\n      \"column\": \"\\t\\uc9c0\\uc810\\ubc88\\ud638\",\n      \"properties\": {\n        \"dtype\": \"number\",\n        \"std\": 0,\n        \"min\": 108,\n        \"max\": 108,\n        \"num_unique_values\": 1,\n        \"samples\": [\n          108\n        ],\n        \"semantic_type\": \"\",\n        \"description\": \"\"\n      }\n    },\n    {\n      \"column\": \"\\uc9c0\\uc810\\uba85\",\n      \"properties\": {\n        \"dtype\": \"category\",\n        \"num_unique_values\": 1,\n        \"samples\": [\n          \"\\uc11c\\uc6b8\"\n        ],\n        \"semantic_type\": \"\",\n        \"description\": \"\"\n      }\n    },\n    {\n      \"column\": \"\\uc77c\\uc2dc\",\n      \"properties\": {\n        \"dtype\": \"object\",\n        \"num_unique_values\": 12,\n        \"samples\": [\n          \"2023-11\"\n        ],\n        \"semantic_type\": \"\",\n        \"description\": \"\"\n      }\n    },\n    {\n      \"column\": \"\\uac15\\uc218\\ub7c9(mm)\",\n      \"properties\": {\n        \"dtype\": \"number\",\n        \"std\": 133.06246881093332,\n        \"min\": 1.0,\n        \"max\": 459.9,\n        \"num_unique_values\": 12,\n        \"samples\": [\n          81.9\n        ],\n        \"semantic_type\": \"\",\n        \"description\": \"\"\n      }\n    },\n    {\n      \"column\": \"\\uc77c\\ucd5c\\ub2e4\\uac15\\uc218\\ub7c9(mm)\",\n      \"properties\": {\n        \"dtype\": \"number\",\n        \"std\": 28.481076918267018,\n        \"min\": 0.6,\n        \"max\": 91.6,\n        \"num_unique_values\": 12,\n        \"samples\": [\n          45.8\n        ],\n        \"semantic_type\": \"\",\n        \"description\": \"\"\n      }\n    },\n    {\n      \"column\": \"\\uc77c\\ucd5c\\ub2e4\\uac15\\uc218\\ub7c9\\uc77c\\uc790\",\n      \"properties\": {\n        \"dtype\": \"object\",\n        \"num_unique_values\": 12,\n        \"samples\": [\n          \"2023-11-06\"\n        ],\n        \"semantic_type\": \"\",\n        \"description\": \"\"\n      }\n    },\n    {\n      \"column\": \"1\\uc2dc\\uac04\\ucd5c\\ub2e4\\uac15\\uc218\\ub7c9(mm)\",\n      \"properties\": {\n        \"dtype\": \"number\",\n        \"std\": 11.75554580369866,\n        \"min\": 9.0,\n        \"max\": 35.0,\n        \"num_unique_values\": 7,\n        \"samples\": [\n          9.0\n        ],\n        \"semantic_type\": \"\",\n        \"description\": \"\"\n      }\n    },\n    {\n      \"column\": \"1\\uc2dc\\uac04\\ucd5c\\ub2e4\\uac15\\uc218\\ub7c9\\uc77c\\uc790\",\n      \"properties\": {\n        \"dtype\": \"date\",\n        \"min\": \"2023-04-05 00:00:00\",\n        \"max\": \"2023-10-04 00:00:00\",\n        \"num_unique_values\": 7,\n        \"samples\": [\n          \"2023-04-05\"\n        ],\n        \"semantic_type\": \"\",\n        \"description\": \"\"\n      }\n    },\n    {\n      \"column\": \"Unnamed: 8\",\n      \"properties\": {\n        \"dtype\": \"number\",\n        \"std\": null,\n        \"min\": null,\n        \"max\": null,\n        \"num_unique_values\": 0,\n        \"samples\": [],\n        \"semantic_type\": \"\",\n        \"description\": \"\"\n      }\n    }\n  ]\n}"
            }
          },
          "metadata": {},
          "execution_count": 12
        }
      ]
    },
    {
      "cell_type": "markdown",
      "source": [
        "## 12-11 강수량 데이터 전처리"
      ],
      "metadata": {
        "id": "w9T_mFxEpd-e"
      }
    },
    {
      "cell_type": "code",
      "source": [
        "## '일시' 컬럼 datetime 형식으로 변환\n",
        "rain_df['일시'] = pd.to_datetime(rain_df['일시'], format='%Y%m%d')\n",
        "## '강수량(mm)' 컬럼 결측치 0으로 채우기\n",
        "rain_df['강수량(mm)'] = rain_df['강수량(mm)'].fillna(0)\n",
        "\n",
        "## 불필요한 컬럼 제거\n",
        "rain_df.drop(columns=['\\t지점번호', 'Unnamed: 8'], inplace=True)"
      ],
      "metadata": {
        "id": "n-gYb7AA-lnq"
      },
      "execution_count": 20,
      "outputs": []
    },
    {
      "cell_type": "markdown",
      "source": [
        "## 12-12 일자별 이용량 데이터와 강수량 데이터 병합"
      ],
      "metadata": {
        "id": "48eyib7wpx1p"
      }
    },
    {
      "cell_type": "code",
      "source": [
        "## 일자별 이용량과 강수량 데이터 병합 (daily_usage_gf의 기준_날짜, rain_df의 일시를 기준으로 결합)\n",
        "\n",
        "## 'count' 컬럼명 '이용량'으로 변경\n",
        "merged_df.rename(columns={'count': '이용량'}, inplace=True)\n",
        "## 병합된 데이터프레임 상위 5행 출력\n",
        "merged_df.head(5)"
      ],
      "metadata": {
        "id": "zRaUqhct-nWK"
      },
      "execution_count": null,
      "outputs": []
    },
    {
      "cell_type": "markdown",
      "source": [
        "## 12-13 이용량 및 강수량 시각화"
      ],
      "metadata": {
        "id": "0mT2QZYMrswf"
      }
    },
    {
      "cell_type": "code",
      "source": [
        "## 두 개의 y축을 가진 서브플롯 생성\n",
        "fig, ax1 = plt.subplots()\n",
        "ax2 = ax1.twinx() ## 두 번째 y축 생성\n",
        "\n",
        "## 첫 번째 y축에 이용량 막대 그래프 그리기\n",
        "\n",
        "## 두 번째 y축에 강수량 꺾은선 그래프 그리기\n",
        "\n",
        "\n",
        "## x축 및 y축 레이블 설정\n",
        "ax1.set_xlabel('날짜')\n",
        "ax1.set_ylabel('이용량', color='b')\n",
        "ax2.set_ylabel('강수량(mm)', color='r')\n",
        "\n",
        "## 그래프 표시\n",
        "plt.show()"
      ],
      "metadata": {
        "id": "-Yi03lPp-o6o"
      },
      "execution_count": null,
      "outputs": []
    },
    {
      "cell_type": "markdown",
      "source": [
        "## 12-14 강수량과 이용량 상관관계 분석"
      ],
      "metadata": {
        "id": "qbYAcr8or8dL"
      }
    },
    {
      "cell_type": "code",
      "source": [
        "import seaborn as sns ## seaborn 라이브러리 임포트\n",
        "\n",
        "## 강수량이 있는 날만 필터링\n",
        "merged_onlyrain_df = merged_df[merged_df['강수량(mm)'] > 0]\n",
        "## 강수량과 이용량의 상관계수 계산\n",
        "corr = merged_onlyrain_df['이용량'].corr(merged_onlyrain_df['강수량(mm)'])\n",
        "## 상관계수 출력\n",
        "print(\"강수량과 이용량의 상관계수:\", corr)\n",
        "\n",
        "## 강수량과 이용량의 회귀선 그래프 생성\n",
        "\n",
        "\n",
        "## y축 범위 설정\n",
        "plt.ylim(0, merged_onlyrain_df['이용량'].max()*1.1)\n",
        "\n",
        "## 그래프 제목 및 축 레이블 설정\n",
        "plt.title(f'강수량과 이용량 상관관계 (r = {corr:.2f})')\n",
        "plt.xlabel('강수량 (mm)')\n",
        "plt.ylabel('이용 건수')\n",
        "## 그래프 표시\n",
        "plt.show()"
      ],
      "metadata": {
        "id": "X5VeveZu-rOA"
      },
      "execution_count": null,
      "outputs": []
    },
    {
      "cell_type": "markdown",
      "source": [
        "## 12-15 OLS 회귀 모델 생성 및 분석 및 귀무가설 검증"
      ],
      "metadata": {
        "id": "wE8Ndc3UsISd"
      }
    },
    {
      "cell_type": "code",
      "source": [
        "import statsmodels.formula.api as smf ## statsmodels.formula.api 임포트\n",
        "\n",
        "## 컬럼명 변경: '강수량(mm)' -> '강수량_mm' (formula API 호환을 위해)\n",
        "merged_onlyrain_df = merged_onlyrain_df.copy()\n",
        "merged_onlyrain_df.rename(columns={'강수량(mm)': '강수량_mm'}, inplace=True)\n",
        "\n",
        "## OLS 모델 정의 및 학습\n",
        "\n",
        "results = model.fit()\n",
        "\n",
        "## 모델 요약 결과 출력\n",
        "print(results.summary())\n",
        "\n",
        "## 귀무가설 검증 해석\n",
        "## 강수량_mm 계수에 대한 p-value를 확인하여 귀무가설 (강수량이 이용량에 미치는 영향이 0이다) 검증\n",
        "## 일반적으로 p-value가 0.05 미만이면 귀무가설을 기각하고 유의미한 영향이 있다고 해석\n",
        "print(\"\\n--- 귀무가설 검증 (강수량 계수) ---\")\n",
        "p_value = results.pvalues['강수량_mm']\n",
        "print(f\"강수량_mm 계수의 p-value: {p_value:.4f}\")\n",
        "if p_value < 0.05:\n",
        "    print(\"p-value가 0.05보다 작으므로 귀무가설을 기각합니다.\")\n",
        "    print(\"즉, 강수량은 자전거 이용량에 통계적으로 유의미한 영향을 미칩니다.\")\n",
        "else:\n",
        "    print(\"p-value가 0.05보다 크므로 귀무가설을 기각할 수 없습니다.\")\n",
        "    print(\"즉, 강수량은 자전거 이용량에 통계적으로 유의미한 영향을 미치지 않는다고 볼 수 있습니다.\")"
      ],
      "metadata": {
        "id": "YGV-JoF9sHdt"
      },
      "execution_count": null,
      "outputs": []
    }
  ]
}